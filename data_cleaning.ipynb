{
 "cells": [
  {
   "cell_type": "code",
   "execution_count": 1,
   "metadata": {},
   "outputs": [],
   "source": [
    "import numpy as np\n",
    "import pandas as pd"
   ]
  },
  {
   "cell_type": "markdown",
   "metadata": {},
   "source": [
    "### Reading in the Dataframe"
   ]
  },
  {
   "cell_type": "code",
   "execution_count": 15,
   "metadata": {},
   "outputs": [
    {
     "data": {
      "text/html": [
       "<div>\n",
       "<style scoped>\n",
       "    .dataframe tbody tr th:only-of-type {\n",
       "        vertical-align: middle;\n",
       "    }\n",
       "\n",
       "    .dataframe tbody tr th {\n",
       "        vertical-align: top;\n",
       "    }\n",
       "\n",
       "    .dataframe thead th {\n",
       "        text-align: right;\n",
       "    }\n",
       "</style>\n",
       "<table border=\"1\" class=\"dataframe\">\n",
       "  <thead>\n",
       "    <tr style=\"text-align: right;\">\n",
       "      <th></th>\n",
       "      <th>Unnamed: 0</th>\n",
       "      <th>id</th>\n",
       "      <th>EVENTMSGTYPE</th>\n",
       "      <th>x</th>\n",
       "      <th>y</th>\n",
       "      <th>z</th>\n",
       "      <th>game_clock</th>\n",
       "      <th>rankc</th>\n",
       "    </tr>\n",
       "  </thead>\n",
       "  <tbody>\n",
       "    <tr>\n",
       "      <th>0</th>\n",
       "      <td>0</td>\n",
       "      <td>0021500001_102</td>\n",
       "      <td>2</td>\n",
       "      <td>4.54736</td>\n",
       "      <td>3.16810</td>\n",
       "      <td>8.74509</td>\n",
       "      <td>315.90</td>\n",
       "      <td>1</td>\n",
       "    </tr>\n",
       "    <tr>\n",
       "      <th>1</th>\n",
       "      <td>1</td>\n",
       "      <td>0021500001_102</td>\n",
       "      <td>2</td>\n",
       "      <td>4.54813</td>\n",
       "      <td>3.55045</td>\n",
       "      <td>9.35039</td>\n",
       "      <td>315.86</td>\n",
       "      <td>2</td>\n",
       "    </tr>\n",
       "    <tr>\n",
       "      <th>2</th>\n",
       "      <td>2</td>\n",
       "      <td>0021500001_102</td>\n",
       "      <td>2</td>\n",
       "      <td>4.60132</td>\n",
       "      <td>4.19530</td>\n",
       "      <td>10.20184</td>\n",
       "      <td>315.82</td>\n",
       "      <td>3</td>\n",
       "    </tr>\n",
       "    <tr>\n",
       "      <th>3</th>\n",
       "      <td>3</td>\n",
       "      <td>0021500001_102</td>\n",
       "      <td>2</td>\n",
       "      <td>4.62301</td>\n",
       "      <td>4.99623</td>\n",
       "      <td>10.87920</td>\n",
       "      <td>315.78</td>\n",
       "      <td>4</td>\n",
       "    </tr>\n",
       "    <tr>\n",
       "      <th>4</th>\n",
       "      <td>4</td>\n",
       "      <td>0021500001_102</td>\n",
       "      <td>2</td>\n",
       "      <td>4.67267</td>\n",
       "      <td>5.74719</td>\n",
       "      <td>11.60729</td>\n",
       "      <td>315.74</td>\n",
       "      <td>5</td>\n",
       "    </tr>\n",
       "  </tbody>\n",
       "</table>\n",
       "</div>"
      ],
      "text/plain": [
       "   Unnamed: 0              id  EVENTMSGTYPE        x        y         z  \\\n",
       "0           0  0021500001_102             2  4.54736  3.16810   8.74509   \n",
       "1           1  0021500001_102             2  4.54813  3.55045   9.35039   \n",
       "2           2  0021500001_102             2  4.60132  4.19530  10.20184   \n",
       "3           3  0021500001_102             2  4.62301  4.99623  10.87920   \n",
       "4           4  0021500001_102             2  4.67267  5.74719  11.60729   \n",
       "\n",
       "   game_clock  rankc  \n",
       "0      315.90      1  \n",
       "1      315.86      2  \n",
       "2      315.82      3  \n",
       "3      315.78      4  \n",
       "4      315.74      5  "
      ]
     },
     "execution_count": 15,
     "metadata": {},
     "output_type": "execute_result"
    }
   ],
   "source": [
    "shots = pd.read_csv(\"seq_all.csv\")\n",
    "shots.head()"
   ]
  },
  {
   "cell_type": "markdown",
   "metadata": {},
   "source": [
    "### First 8 Frames for the release shots"
   ]
  },
  {
   "cell_type": "code",
   "execution_count": 13,
   "metadata": {},
   "outputs": [],
   "source": [
    "release_groups = shots.groupby('id').head(8).reset_index(drop=True)"
   ]
  },
  {
   "cell_type": "code",
   "execution_count": 16,
   "metadata": {},
   "outputs": [],
   "source": [
    "release_groups.to_csv('release_groups.csv')"
   ]
  },
  {
   "cell_type": "markdown",
   "metadata": {},
   "source": [
    "### Last Frame of each shot for General Linear Regressions"
   ]
  },
  {
   "cell_type": "code",
   "execution_count": 9,
   "metadata": {},
   "outputs": [],
   "source": [
    "glm_groups = shots.groupby('id').tail(1).reset_index(drop = True)"
   ]
  },
  {
   "cell_type": "code",
   "execution_count": 17,
   "metadata": {},
   "outputs": [],
   "source": [
    "glm_groups.to_csv('glm_groups.csv')"
   ]
  },
  {
   "cell_type": "code",
   "execution_count": null,
   "metadata": {},
   "outputs": [],
   "source": []
  }
 ],
 "metadata": {
  "kernelspec": {
   "display_name": "Python 3",
   "language": "python",
   "name": "python3"
  },
  "language_info": {
   "codemirror_mode": {
    "name": "ipython",
    "version": 3
   },
   "file_extension": ".py",
   "mimetype": "text/x-python",
   "name": "python",
   "nbconvert_exporter": "python",
   "pygments_lexer": "ipython3",
   "version": "3.8.3"
  }
 },
 "nbformat": 4,
 "nbformat_minor": 4
}
