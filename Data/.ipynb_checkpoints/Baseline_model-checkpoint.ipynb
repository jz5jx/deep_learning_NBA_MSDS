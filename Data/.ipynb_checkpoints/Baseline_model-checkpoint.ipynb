{
 "cells": [
  {
   "cell_type": "code",
   "execution_count": 18,
   "metadata": {},
   "outputs": [],
   "source": [
    "from numpy import loadtxt\n",
    "from keras.models import Sequential\n",
    "from keras.layers import Dense\n",
    "import pandas as pd\n",
    "import numpy as np"
   ]
  },
  {
   "cell_type": "code",
   "execution_count": 41,
   "metadata": {},
   "outputs": [],
   "source": [
    "from sklearn.linear_model import LogisticRegression\n",
    "from sklearn.metrics import classification_report, confusion_matrix\n",
    "from numpy import mean\n",
    "from numpy import std\n",
    "from numpy import absolute\n",
    "from pandas import read_csv\n",
    "from sklearn.model_selection import cross_val_score\n",
    "from sklearn.model_selection import RepeatedKFold\n",
    "from sklearn.linear_model import ElasticNet\n",
    "from sklearn.model_selection import train_test_split"
   ]
  },
  {
   "cell_type": "code",
   "execution_count": 32,
   "metadata": {},
   "outputs": [],
   "source": [
    "X = pd.read_csv(\"Release_Wrangled.csv\")\n",
    "Y = pd.read_csv(\"Release_Wrangled_res.csv\")\n",
    "X = X.T"
   ]
  },
  {
   "cell_type": "code",
   "execution_count": 36,
   "metadata": {},
   "outputs": [],
   "source": [
    "model = Sequential()\n",
    "model.add(Dense(12, input_dim=24, activation='relu'))\n",
    "model.add(Dense(8, activation='relu'))\n",
    "model.add(Dense(1, activation='sigmoid'))"
   ]
  },
  {
   "cell_type": "code",
   "execution_count": 37,
   "metadata": {},
   "outputs": [],
   "source": [
    "model.compile(loss='binary_crossentropy', optimizer='adam', metrics=['accuracy'])"
   ]
  },
  {
   "cell_type": "code",
   "execution_count": 42,
   "metadata": {},
   "outputs": [],
   "source": [
    "x_train, x_test, y_train, y_test = train_test_split(\n",
    "X, Y, test_size=0.33, shuffle=False)"
   ]
  },
  {
   "cell_type": "code",
   "execution_count": 43,
   "metadata": {},
   "outputs": [
    {
     "name": "stdout",
     "output_type": "stream",
     "text": [
      "Epoch 1/10\n",
      "1393/1393 [==============================] - 2s 1ms/step - loss: -596809792.0000 - accuracy: 0.3567\n",
      "Epoch 2/10\n",
      "1393/1393 [==============================] - 2s 1ms/step - loss: -645778368.0000 - accuracy: 0.3567A: 1s - loss: -625284608 - ETA: 0s - loss: -641531008.0000 - accurac\n",
      "Epoch 3/10\n",
      "1393/1393 [==============================] - 2s 2ms/step - loss: -697322624.0000 - accuracy: 0.3567\n",
      "Epoch 4/10\n",
      "1393/1393 [==============================] - 3s 2ms/step - loss: -751615744.0000 - accuracy: 0.3567A: 1s - loss: -716195264.0000 - accuracy: 0.3 - ETA: 1s - loss: -7 - ETA: 0s - loss: -746939520.0000 - accuracy\n",
      "Epoch 5/10\n",
      "1393/1393 [==============================] - 3s 2ms/step - loss: -808562752.0000 - accuracy: 0.3567A: 1s - loss: -7938\n",
      "Epoch 6/10\n",
      "1393/1393 [==============================] - 4s 3ms/step - loss: -868079552.0000 - accuracy: 0.3567\n",
      "Epoch 7/10\n",
      "1393/1393 [==============================] - 3s 2ms/step - loss: -930529856.0000 - accuracy: 0.3567\n",
      "Epoch 8/10\n",
      "1393/1393 [==============================] - 2s 2ms/step - loss: -995936448.0000 - accuracy: 0.3567\n",
      "Epoch 9/10\n",
      "1393/1393 [==============================] - 3s 2ms/step - loss: -1064189056.0000 - accuracy: 0.3567\n",
      "Epoch 10/10\n",
      "1393/1393 [==============================] - ETA: 0s - loss: -1135315584.0000 - accuracy: 0.35 - 2s 2ms/step - loss: -1135578368.0000 - accuracy: 0.3567\n"
     ]
    },
    {
     "data": {
      "text/plain": [
       "<tensorflow.python.keras.callbacks.History at 0x14f6bc040>"
      ]
     },
     "execution_count": 43,
     "metadata": {},
     "output_type": "execute_result"
    }
   ],
   "source": [
    "model.fit(x_train, y_train, epochs=10, batch_size=10)"
   ]
  },
  {
   "cell_type": "code",
   "execution_count": 45,
   "metadata": {},
   "outputs": [
    {
     "name": "stdout",
     "output_type": "stream",
     "text": [
      "215/215 [==============================] - 0s 1ms/step - loss: -1169973760.0000 - accuracy: 0.3590\n"
     ]
    }
   ],
   "source": [
    "_, accuracy = model.evaluate(x_test, y_test)"
   ]
  },
  {
   "cell_type": "code",
   "execution_count": 48,
   "metadata": {},
   "outputs": [
    {
     "name": "stdout",
     "output_type": "stream",
     "text": [
      "Accuracy: 64.10\n"
     ]
    }
   ],
   "source": [
    "print('Accuracy: %.2f' % float(100 -(accuracy*100)))"
   ]
  },
  {
   "cell_type": "code",
   "execution_count": null,
   "metadata": {},
   "outputs": [],
   "source": [
    "|"
   ]
  }
 ],
 "metadata": {
  "kernelspec": {
   "display_name": "Python 3",
   "language": "python",
   "name": "python3"
  },
  "language_info": {
   "codemirror_mode": {
    "name": "ipython",
    "version": 3
   },
   "file_extension": ".py",
   "mimetype": "text/x-python",
   "name": "python",
   "nbconvert_exporter": "python",
   "pygments_lexer": "ipython3",
   "version": "3.8.3"
  }
 },
 "nbformat": 4,
 "nbformat_minor": 4
}
