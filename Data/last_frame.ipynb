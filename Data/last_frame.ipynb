{
 "cells": [
  {
   "cell_type": "markdown",
   "metadata": {},
   "source": [
    "### Data Cleaning Part 2"
   ]
  },
  {
   "cell_type": "code",
   "execution_count": 18,
   "metadata": {},
   "outputs": [],
   "source": [
    "import pandas as pd \n",
    "import numpy as np"
   ]
  },
  {
   "cell_type": "code",
   "execution_count": 30,
   "metadata": {},
   "outputs": [],
   "source": [
    "shots = pd.read_csv('seq_all.csv')"
   ]
  },
  {
   "cell_type": "code",
   "execution_count": 33,
   "metadata": {},
   "outputs": [
    {
     "data": {
      "text/html": [
       "<div>\n",
       "<style scoped>\n",
       "    .dataframe tbody tr th:only-of-type {\n",
       "        vertical-align: middle;\n",
       "    }\n",
       "\n",
       "    .dataframe tbody tr th {\n",
       "        vertical-align: top;\n",
       "    }\n",
       "\n",
       "    .dataframe thead th {\n",
       "        text-align: right;\n",
       "    }\n",
       "</style>\n",
       "<table border=\"1\" class=\"dataframe\">\n",
       "  <thead>\n",
       "    <tr style=\"text-align: right;\">\n",
       "      <th></th>\n",
       "      <th>Unnamed: 0</th>\n",
       "      <th>id</th>\n",
       "      <th>EVENTMSGTYPE</th>\n",
       "      <th>x</th>\n",
       "      <th>y</th>\n",
       "      <th>z</th>\n",
       "      <th>game_clock</th>\n",
       "      <th>rankc</th>\n",
       "    </tr>\n",
       "  </thead>\n",
       "  <tbody>\n",
       "    <tr>\n",
       "      <th>3</th>\n",
       "      <td>3</td>\n",
       "      <td>0021500001_102</td>\n",
       "      <td>2</td>\n",
       "      <td>4.62301</td>\n",
       "      <td>4.99623</td>\n",
       "      <td>10.87920</td>\n",
       "      <td>315.78</td>\n",
       "      <td>4</td>\n",
       "    </tr>\n",
       "    <tr>\n",
       "      <th>4</th>\n",
       "      <td>4</td>\n",
       "      <td>0021500001_102</td>\n",
       "      <td>2</td>\n",
       "      <td>4.67267</td>\n",
       "      <td>5.74719</td>\n",
       "      <td>11.60729</td>\n",
       "      <td>315.74</td>\n",
       "      <td>5</td>\n",
       "    </tr>\n",
       "    <tr>\n",
       "      <th>5</th>\n",
       "      <td>5</td>\n",
       "      <td>0021500001_102</td>\n",
       "      <td>2</td>\n",
       "      <td>4.65439</td>\n",
       "      <td>6.59757</td>\n",
       "      <td>12.11054</td>\n",
       "      <td>315.70</td>\n",
       "      <td>6</td>\n",
       "    </tr>\n",
       "    <tr>\n",
       "      <th>6</th>\n",
       "      <td>6</td>\n",
       "      <td>0021500001_102</td>\n",
       "      <td>2</td>\n",
       "      <td>4.62322</td>\n",
       "      <td>7.37464</td>\n",
       "      <td>12.76084</td>\n",
       "      <td>315.65</td>\n",
       "      <td>7</td>\n",
       "    </tr>\n",
       "    <tr>\n",
       "      <th>7</th>\n",
       "      <td>7</td>\n",
       "      <td>0021500001_102</td>\n",
       "      <td>2</td>\n",
       "      <td>4.67631</td>\n",
       "      <td>8.04956</td>\n",
       "      <td>13.31519</td>\n",
       "      <td>315.61</td>\n",
       "      <td>8</td>\n",
       "    </tr>\n",
       "  </tbody>\n",
       "</table>\n",
       "</div>"
      ],
      "text/plain": [
       "   Unnamed: 0              id  EVENTMSGTYPE        x        y         z  \\\n",
       "3           3  0021500001_102             2  4.62301  4.99623  10.87920   \n",
       "4           4  0021500001_102             2  4.67267  5.74719  11.60729   \n",
       "5           5  0021500001_102             2  4.65439  6.59757  12.11054   \n",
       "6           6  0021500001_102             2  4.62322  7.37464  12.76084   \n",
       "7           7  0021500001_102             2  4.67631  8.04956  13.31519   \n",
       "\n",
       "   game_clock  rankc  \n",
       "3      315.78      4  \n",
       "4      315.74      5  \n",
       "5      315.70      6  \n",
       "6      315.65      7  \n",
       "7      315.61      8  "
      ]
     },
     "execution_count": 33,
     "metadata": {},
     "output_type": "execute_result"
    }
   ],
   "source": [
    "last_frame = shots[shots['z'] > 10.4]\n",
    "l#ast_frame.head()"
   ]
  },
  {
   "cell_type": "code",
   "execution_count": 34,
   "metadata": {},
   "outputs": [],
   "source": [
    "grouped = last_frame.groupby('id').tail(1).reset_index(drop = True)"
   ]
  }
 ],
 "metadata": {
  "kernelspec": {
   "display_name": "Python 3",
   "language": "python",
   "name": "python3"
  },
  "language_info": {
   "codemirror_mode": {
    "name": "ipython",
    "version": 3
   },
   "file_extension": ".py",
   "mimetype": "text/x-python",
   "name": "python",
   "nbconvert_exporter": "python",
   "pygments_lexer": "ipython3",
   "version": "3.8.3"
  }
 },
 "nbformat": 4,
 "nbformat_minor": 4
}
