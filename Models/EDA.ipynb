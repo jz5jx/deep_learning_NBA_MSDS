{
 "cells": [
  {
   "cell_type": "code",
   "execution_count": 49,
   "metadata": {},
   "outputs": [],
   "source": [
    "import pandas as pd\n",
    "import numpy as np\n",
    "import plotly_express as px\n",
    "import plotly.graph_objs as go"
   ]
  },
  {
   "cell_type": "code",
   "execution_count": 20,
   "metadata": {},
   "outputs": [],
   "source": [
    "release=pd.read_csv(\"release_groups.csv\")\n",
    "final= pd.read_csv(\"glm_groups.csv\")"
   ]
  },
  {
   "cell_type": "code",
   "execution_count": 101,
   "metadata": {},
   "outputs": [
    {
     "data": {
      "text/html": [
       "<div>\n",
       "<style scoped>\n",
       "    .dataframe tbody tr th:only-of-type {\n",
       "        vertical-align: middle;\n",
       "    }\n",
       "\n",
       "    .dataframe tbody tr th {\n",
       "        vertical-align: top;\n",
       "    }\n",
       "\n",
       "    .dataframe thead th {\n",
       "        text-align: right;\n",
       "    }\n",
       "</style>\n",
       "<table border=\"1\" class=\"dataframe\">\n",
       "  <thead>\n",
       "    <tr style=\"text-align: right;\">\n",
       "      <th></th>\n",
       "      <th>Unnamed: 0</th>\n",
       "      <th>Unnamed: 0.1</th>\n",
       "      <th>id</th>\n",
       "      <th>EVENTMSGTYPE</th>\n",
       "      <th>x</th>\n",
       "      <th>y</th>\n",
       "      <th>z</th>\n",
       "      <th>game_clock</th>\n",
       "      <th>rankc</th>\n",
       "    </tr>\n",
       "  </thead>\n",
       "  <tbody>\n",
       "    <tr>\n",
       "      <th>0</th>\n",
       "      <td>0</td>\n",
       "      <td>0</td>\n",
       "      <td>0021500001_102</td>\n",
       "      <td>2</td>\n",
       "      <td>4.54736</td>\n",
       "      <td>3.16810</td>\n",
       "      <td>8.74509</td>\n",
       "      <td>315.90</td>\n",
       "      <td>1</td>\n",
       "    </tr>\n",
       "    <tr>\n",
       "      <th>1</th>\n",
       "      <td>1</td>\n",
       "      <td>1</td>\n",
       "      <td>0021500001_102</td>\n",
       "      <td>2</td>\n",
       "      <td>4.54813</td>\n",
       "      <td>3.55045</td>\n",
       "      <td>9.35039</td>\n",
       "      <td>315.86</td>\n",
       "      <td>2</td>\n",
       "    </tr>\n",
       "    <tr>\n",
       "      <th>2</th>\n",
       "      <td>2</td>\n",
       "      <td>2</td>\n",
       "      <td>0021500001_102</td>\n",
       "      <td>2</td>\n",
       "      <td>4.60132</td>\n",
       "      <td>4.19530</td>\n",
       "      <td>10.20184</td>\n",
       "      <td>315.82</td>\n",
       "      <td>3</td>\n",
       "    </tr>\n",
       "    <tr>\n",
       "      <th>3</th>\n",
       "      <td>3</td>\n",
       "      <td>3</td>\n",
       "      <td>0021500001_102</td>\n",
       "      <td>2</td>\n",
       "      <td>4.62301</td>\n",
       "      <td>4.99623</td>\n",
       "      <td>10.87920</td>\n",
       "      <td>315.78</td>\n",
       "      <td>4</td>\n",
       "    </tr>\n",
       "    <tr>\n",
       "      <th>4</th>\n",
       "      <td>4</td>\n",
       "      <td>4</td>\n",
       "      <td>0021500001_102</td>\n",
       "      <td>2</td>\n",
       "      <td>4.67267</td>\n",
       "      <td>5.74719</td>\n",
       "      <td>11.60729</td>\n",
       "      <td>315.74</td>\n",
       "      <td>5</td>\n",
       "    </tr>\n",
       "    <tr>\n",
       "      <th>5</th>\n",
       "      <td>5</td>\n",
       "      <td>5</td>\n",
       "      <td>0021500001_102</td>\n",
       "      <td>2</td>\n",
       "      <td>4.65439</td>\n",
       "      <td>6.59757</td>\n",
       "      <td>12.11054</td>\n",
       "      <td>315.70</td>\n",
       "      <td>6</td>\n",
       "    </tr>\n",
       "    <tr>\n",
       "      <th>6</th>\n",
       "      <td>6</td>\n",
       "      <td>6</td>\n",
       "      <td>0021500001_102</td>\n",
       "      <td>2</td>\n",
       "      <td>4.62322</td>\n",
       "      <td>7.37464</td>\n",
       "      <td>12.76084</td>\n",
       "      <td>315.65</td>\n",
       "      <td>7</td>\n",
       "    </tr>\n",
       "    <tr>\n",
       "      <th>7</th>\n",
       "      <td>7</td>\n",
       "      <td>7</td>\n",
       "      <td>0021500001_102</td>\n",
       "      <td>2</td>\n",
       "      <td>4.67631</td>\n",
       "      <td>8.04956</td>\n",
       "      <td>13.31519</td>\n",
       "      <td>315.61</td>\n",
       "      <td>8</td>\n",
       "    </tr>\n",
       "    <tr>\n",
       "      <th>8</th>\n",
       "      <td>8</td>\n",
       "      <td>55</td>\n",
       "      <td>0021500001_105</td>\n",
       "      <td>1</td>\n",
       "      <td>27.42331</td>\n",
       "      <td>35.74026</td>\n",
       "      <td>8.55278</td>\n",
       "      <td>276.70</td>\n",
       "      <td>1</td>\n",
       "    </tr>\n",
       "    <tr>\n",
       "      <th>9</th>\n",
       "      <td>9</td>\n",
       "      <td>56</td>\n",
       "      <td>0021500001_105</td>\n",
       "      <td>1</td>\n",
       "      <td>27.06988</td>\n",
       "      <td>35.59770</td>\n",
       "      <td>8.85705</td>\n",
       "      <td>276.66</td>\n",
       "      <td>2</td>\n",
       "    </tr>\n",
       "  </tbody>\n",
       "</table>\n",
       "</div>"
      ],
      "text/plain": [
       "   Unnamed: 0  Unnamed: 0.1              id  EVENTMSGTYPE         x         y  \\\n",
       "0           0             0  0021500001_102             2   4.54736   3.16810   \n",
       "1           1             1  0021500001_102             2   4.54813   3.55045   \n",
       "2           2             2  0021500001_102             2   4.60132   4.19530   \n",
       "3           3             3  0021500001_102             2   4.62301   4.99623   \n",
       "4           4             4  0021500001_102             2   4.67267   5.74719   \n",
       "5           5             5  0021500001_102             2   4.65439   6.59757   \n",
       "6           6             6  0021500001_102             2   4.62322   7.37464   \n",
       "7           7             7  0021500001_102             2   4.67631   8.04956   \n",
       "8           8            55  0021500001_105             1  27.42331  35.74026   \n",
       "9           9            56  0021500001_105             1  27.06988  35.59770   \n",
       "\n",
       "          z  game_clock  rankc  \n",
       "0   8.74509      315.90      1  \n",
       "1   9.35039      315.86      2  \n",
       "2  10.20184      315.82      3  \n",
       "3  10.87920      315.78      4  \n",
       "4  11.60729      315.74      5  \n",
       "5  12.11054      315.70      6  \n",
       "6  12.76084      315.65      7  \n",
       "7  13.31519      315.61      8  \n",
       "8   8.55278      276.70      1  \n",
       "9   8.85705      276.66      2  "
      ]
     },
     "execution_count": 101,
     "metadata": {},
     "output_type": "execute_result"
    }
   ],
   "source": [
    "#This is our principal dataset that contains 8 frames for 20779 shots. The first frame captures where the shot was released from\n",
    "# and each frame after that captures the shot trajectory to the basket, only 8 frames are included since these are just the beginning of the shot and thats what we want to use for prediction purposes.\n",
    "# we also have information on the time on the game clock\n",
    "# X refers to the length of the court,Y is the width of the court, and Z is the height of the ball.\n",
    "release.head(10)"
   ]
  },
  {
   "cell_type": "code",
   "execution_count": 22,
   "metadata": {},
   "outputs": [
    {
     "data": {
      "text/html": [
       "<div>\n",
       "<style scoped>\n",
       "    .dataframe tbody tr th:only-of-type {\n",
       "        vertical-align: middle;\n",
       "    }\n",
       "\n",
       "    .dataframe tbody tr th {\n",
       "        vertical-align: top;\n",
       "    }\n",
       "\n",
       "    .dataframe thead th {\n",
       "        text-align: right;\n",
       "    }\n",
       "</style>\n",
       "<table border=\"1\" class=\"dataframe\">\n",
       "  <thead>\n",
       "    <tr style=\"text-align: right;\">\n",
       "      <th></th>\n",
       "      <th>Unnamed: 0</th>\n",
       "      <th>Unnamed: 0.1</th>\n",
       "      <th>id</th>\n",
       "      <th>EVENTMSGTYPE</th>\n",
       "      <th>x</th>\n",
       "      <th>y</th>\n",
       "      <th>z</th>\n",
       "      <th>game_clock</th>\n",
       "      <th>rankc</th>\n",
       "    </tr>\n",
       "  </thead>\n",
       "  <tbody>\n",
       "    <tr>\n",
       "      <th>0</th>\n",
       "      <td>0</td>\n",
       "      <td>54</td>\n",
       "      <td>0021500001_102</td>\n",
       "      <td>2</td>\n",
       "      <td>5.16697</td>\n",
       "      <td>21.85830</td>\n",
       "      <td>9.37122</td>\n",
       "      <td>313.68</td>\n",
       "      <td>55</td>\n",
       "    </tr>\n",
       "    <tr>\n",
       "      <th>1</th>\n",
       "      <td>1</td>\n",
       "      <td>89</td>\n",
       "      <td>0021500001_105</td>\n",
       "      <td>1</td>\n",
       "      <td>4.79020</td>\n",
       "      <td>25.23247</td>\n",
       "      <td>9.26232</td>\n",
       "      <td>275.37</td>\n",
       "      <td>35</td>\n",
       "    </tr>\n",
       "    <tr>\n",
       "      <th>2</th>\n",
       "      <td>2</td>\n",
       "      <td>141</td>\n",
       "      <td>0021500001_106</td>\n",
       "      <td>2</td>\n",
       "      <td>9.12544</td>\n",
       "      <td>25.79742</td>\n",
       "      <td>9.75860</td>\n",
       "      <td>259.77</td>\n",
       "      <td>52</td>\n",
       "    </tr>\n",
       "    <tr>\n",
       "      <th>3</th>\n",
       "      <td>3</td>\n",
       "      <td>203</td>\n",
       "      <td>0021500001_110</td>\n",
       "      <td>2</td>\n",
       "      <td>7.08154</td>\n",
       "      <td>23.99510</td>\n",
       "      <td>9.01205</td>\n",
       "      <td>233.50</td>\n",
       "      <td>62</td>\n",
       "    </tr>\n",
       "    <tr>\n",
       "      <th>4</th>\n",
       "      <td>4</td>\n",
       "      <td>238</td>\n",
       "      <td>0021500001_114</td>\n",
       "      <td>1</td>\n",
       "      <td>4.93547</td>\n",
       "      <td>24.56133</td>\n",
       "      <td>9.38868</td>\n",
       "      <td>171.62</td>\n",
       "      <td>35</td>\n",
       "    </tr>\n",
       "  </tbody>\n",
       "</table>\n",
       "</div>"
      ],
      "text/plain": [
       "   Unnamed: 0  Unnamed: 0.1              id  EVENTMSGTYPE        x         y  \\\n",
       "0           0            54  0021500001_102             2  5.16697  21.85830   \n",
       "1           1            89  0021500001_105             1  4.79020  25.23247   \n",
       "2           2           141  0021500001_106             2  9.12544  25.79742   \n",
       "3           3           203  0021500001_110             2  7.08154  23.99510   \n",
       "4           4           238  0021500001_114             1  4.93547  24.56133   \n",
       "\n",
       "         z  game_clock  rankc  \n",
       "0  9.37122      313.68     55  \n",
       "1  9.26232      275.37     35  \n",
       "2  9.75860      259.77     52  \n",
       "3  9.01205      233.50     62  \n",
       "4  9.38868      171.62     35  "
      ]
     },
     "execution_count": 22,
     "metadata": {},
     "output_type": "execute_result"
    }
   ],
   "source": [
    "#This dataset contains a final frame for where the shot ends up. Sometimes this frame is taken when the shot is going into the basket\n",
    "#othertimes it is taken as soon as the shot is closest to the basket but the shot itself results in a miss.\n",
    "final.head()"
   ]
  },
  {
   "cell_type": "markdown",
   "metadata": {},
   "source": [
    "## Visualizing our data"
   ]
  },
  {
   "cell_type": "code",
   "execution_count": 177,
   "metadata": {},
   "outputs": [
    {
     "data": {
      "application/vnd.plotly.v1+json": {
       "config": {
        "plotlyServerURL": "https://plot.ly"
       },
       "data": [
        {
         "hovertemplate": "id=0021500001_102<br>x=%{x}<br>y=%{y}<br>z=%{z}<extra></extra>",
         "legendgroup": "0021500001_102",
         "marker": {
          "color": "#636efa",
          "line": {
           "color": "rgb(205, 12, 24)",
           "width": 4
          },
          "size": 6,
          "symbol": "circle"
         },
         "mode": "markers",
         "name": "0021500001_102",
         "scene": "scene",
         "showlegend": true,
         "type": "scatter3d",
         "x": [
          4.54736,
          4.5481300000000005,
          4.6013199999999985,
          4.62301,
          4.67267,
          4.65439,
          4.62322,
          4.67631
         ],
         "y": [
          3.1681,
          3.55045,
          4.1953,
          4.9962300000000015,
          5.74719,
          6.597569999999998,
          7.3746399999999985,
          8.049560000000001
         ],
         "z": [
          8.74509,
          9.35039,
          10.20184,
          10.8792,
          11.60729,
          12.11054,
          12.76084,
          13.31519
         ]
        },
        {
         "hovertemplate": "id=0021500001_105<br>x=%{x}<br>y=%{y}<br>z=%{z}<extra></extra>",
         "legendgroup": "0021500001_105",
         "marker": {
          "color": "#EF553B",
          "line": {
           "color": "rgb(205, 12, 24)",
           "width": 4
          },
          "size": 6,
          "symbol": "circle"
         },
         "mode": "markers",
         "name": "0021500001_105",
         "scene": "scene",
         "showlegend": true,
         "type": "scatter3d",
         "x": [
          27.42331,
          27.06988,
          26.57364,
          25.85201,
          25.09315,
          24.34245,
          23.54721,
          22.80763
         ],
         "y": [
          35.74026,
          35.5977,
          35.55707,
          35.16218,
          34.91666,
          34.39867,
          34.0045,
          33.6512
         ],
         "z": [
          8.55278,
          8.85705,
          9.60298,
          10.2528,
          11.0585,
          11.53958,
          12.06118,
          12.66263
         ]
        },
        {
         "hovertemplate": "id=0021500001_106<br>x=%{x}<br>y=%{y}<br>z=%{z}<extra></extra>",
         "legendgroup": "0021500001_106",
         "marker": {
          "color": "#00cc96",
          "line": {
           "color": "rgb(205, 12, 24)",
           "width": 4
          },
          "size": 6,
          "symbol": "circle"
         },
         "mode": "markers",
         "name": "0021500001_106",
         "scene": "scene",
         "showlegend": true,
         "type": "scatter3d",
         "x": [
          13.60457,
          13.26695,
          13.08682,
          12.90112,
          12.5228,
          12.19833,
          11.89299,
          11.60337
         ],
         "y": [
          5.775930000000002,
          6.29724,
          7.05472,
          7.81493,
          8.343580000000001,
          8.9316,
          9.5507,
          10.19545
         ],
         "z": [
          9.92422,
          10.63717,
          11.26025,
          11.88516,
          12.60559,
          13.0652,
          13.48392,
          13.864120000000002
         ]
        },
        {
         "hovertemplate": "id=0021500001_110<br>x=%{x}<br>y=%{y}<br>z=%{z}<extra></extra>",
         "legendgroup": "0021500001_110",
         "marker": {
          "color": "#ab63fa",
          "line": {
           "color": "rgb(205, 12, 24)",
           "width": 4
          },
          "size": 6,
          "symbol": "circle"
         },
         "mode": "markers",
         "name": "0021500001_110",
         "scene": "scene",
         "showlegend": true,
         "type": "scatter3d",
         "x": [
          28.0799,
          27.37411,
          26.608290000000004,
          25.9881,
          25.28411,
          24.52189,
          23.71412,
          23.0132
         ],
         "y": [
          13.60472,
          13.9997,
          14.26739,
          14.73088,
          15.12302,
          15.52015,
          15.71197,
          16.14384
         ],
         "z": [
          9.85809,
          10.64044,
          11.34291,
          12.1535,
          12.85341,
          13.46872,
          14.05259,
          14.62278
         ]
        },
        {
         "hovertemplate": "id=0021500001_114<br>x=%{x}<br>y=%{y}<br>z=%{z}<extra></extra>",
         "legendgroup": "0021500001_114",
         "marker": {
          "color": "#FFA15A",
          "line": {
           "color": "rgb(205, 12, 24)",
           "width": 4
          },
          "size": 6,
          "symbol": "circle"
         },
         "mode": "markers",
         "name": "0021500001_114",
         "scene": "scene",
         "showlegend": true,
         "type": "scatter3d",
         "x": [
          18.23975,
          17.80039,
          17.4642,
          16.956220000000002,
          16.5189,
          16.16206,
          15.81373,
          15.36403
         ],
         "y": [
          45.04965,
          44.53716,
          43.98,
          43.26518,
          42.64127,
          42.00018,
          41.34287,
          40.91066
         ],
         "z": [
          9.10831,
          9.94726,
          10.8602,
          11.4976,
          12.14352,
          12.80209,
          13.4023,
          13.99616
         ]
        },
        {
         "hovertemplate": "id=0021500001_125<br>x=%{x}<br>y=%{y}<br>z=%{z}<extra></extra>",
         "legendgroup": "0021500001_125",
         "marker": {
          "color": "#19d3f3",
          "line": {
           "color": "rgb(205, 12, 24)",
           "width": 4
          },
          "size": 6,
          "symbol": "circle"
         },
         "mode": "markers",
         "name": "0021500001_125",
         "scene": "scene",
         "showlegend": true,
         "type": "scatter3d",
         "x": [
          21.29878,
          20.70366,
          20.13602,
          19.39636,
          18.88166,
          18.27297,
          17.61673,
          17.05415
         ],
         "y": [
          11.81059,
          12.45689,
          12.80802,
          13.30211,
          13.88645,
          14.45359,
          14.88136,
          15.47946
         ],
         "z": [
          9.98286,
          10.81001,
          11.76371,
          12.10058,
          12.40502,
          13.15821,
          13.44748,
          13.7089
         ]
        },
        {
         "hovertemplate": "id=0021500001_132<br>x=%{x}<br>y=%{y}<br>z=%{z}<extra></extra>",
         "legendgroup": "0021500001_132",
         "marker": {
          "color": "#FF6692",
          "line": {
           "color": "rgb(205, 12, 24)",
           "width": 4
          },
          "size": 6,
          "symbol": "circle"
         },
         "mode": "markers",
         "name": "0021500001_132",
         "scene": "scene",
         "showlegend": true,
         "type": "scatter3d",
         "x": [
          19.54139,
          19.44774,
          18.9341,
          18.26412,
          17.95844,
          17.35098,
          16.88395,
          16.33278
         ],
         "y": [
          5.01847,
          5.70279,
          6.34237,
          6.95335,
          7.668539999999999,
          8.33508,
          8.89943,
          9.52303
         ],
         "z": [
          8.538680000000001,
          9.83068,
          10.15921,
          11.08838,
          11.61251,
          12.10865,
          12.7499,
          13.28905
         ]
        },
        {
         "hovertemplate": "id=0021500001_139<br>x=%{x}<br>y=%{y}<br>z=%{z}<extra></extra>",
         "legendgroup": "0021500001_139",
         "marker": {
          "color": "#B6E880",
          "line": {
           "color": "rgb(205, 12, 24)",
           "width": 4
          },
          "size": 6,
          "symbol": "circle"
         },
         "mode": "markers",
         "name": "0021500001_139",
         "scene": "scene",
         "showlegend": true,
         "type": "scatter3d",
         "x": [
          23.78686,
          23.25533,
          22.64029,
          22.03528,
          21.46501,
          20.83185,
          20.18692,
          19.62298
         ],
         "y": [
          11.03493,
          11.49358,
          11.80077,
          12.32519,
          12.74722,
          13.23985,
          13.67584,
          14.05014
         ],
         "z": [
          9.26937,
          10.20621,
          11.06707,
          11.76945,
          12.47726,
          12.97785,
          13.57845,
          14.1198
         ]
        },
        {
         "hovertemplate": "id=0021500001_148<br>x=%{x}<br>y=%{y}<br>z=%{z}<extra></extra>",
         "legendgroup": "0021500001_148",
         "marker": {
          "color": "#FF97FF",
          "line": {
           "color": "rgb(205, 12, 24)",
           "width": 4
          },
          "size": 6,
          "symbol": "circle"
         },
         "mode": "markers",
         "name": "0021500001_148",
         "scene": "scene",
         "showlegend": true,
         "type": "scatter3d",
         "x": [
          25.866,
          25.4697,
          24.84148,
          24.261570000000006,
          23.68689,
          23.08137,
          22.43504,
          21.83651
         ],
         "y": [
          41.7307,
          41.4314,
          40.81076,
          40.37095,
          39.89463,
          39.45796,
          38.84418,
          38.39079
         ],
         "z": [
          8.853539999999997,
          9.73458,
          10.48875,
          11.25565,
          12.10015,
          12.8701,
          13.60432,
          14.126920000000002
         ]
        },
        {
         "hovertemplate": "id=0021500001_155<br>x=%{x}<br>y=%{y}<br>z=%{z}<extra></extra>",
         "legendgroup": "0021500001_155",
         "marker": {
          "color": "#FECB52",
          "line": {
           "color": "rgb(205, 12, 24)",
           "width": 4
          },
          "size": 6,
          "symbol": "circle"
         },
         "mode": "markers",
         "name": "0021500001_155",
         "scene": "scene",
         "showlegend": true,
         "type": "scatter3d",
         "x": [
          24.95218,
          24.39472,
          23.691,
          22.96398,
          22.26763,
          21.66624,
          21.05561,
          20.43681
         ],
         "y": [
          37.79646,
          37.55036,
          37.00732,
          36.54458,
          36.14514000000001,
          35.82676,
          35.41946,
          34.926
         ],
         "z": [
          9.77607,
          10.50155,
          11.20872,
          11.87752,
          12.53078,
          13.18069,
          13.82929,
          14.47674
         ]
        },
        {
         "hovertemplate": "id=0021500001_158<br>x=%{x}<br>y=%{y}<br>z=%{z}<extra></extra>",
         "legendgroup": "0021500001_158",
         "marker": {
          "color": "#636efa",
          "line": {
           "color": "rgb(205, 12, 24)",
           "width": 4
          },
          "size": 6,
          "symbol": "circle"
         },
         "mode": "markers",
         "name": "0021500001_158",
         "scene": "scene",
         "showlegend": true,
         "type": "scatter3d",
         "x": [
          22.17145,
          21.89204,
          21.41174,
          20.69729,
          20.16332,
          19.66981,
          19.05075,
          18.51458
         ],
         "y": [
          8.416839999999999,
          8.726180000000001,
          9.15191,
          9.80995,
          10.50348,
          10.88657,
          11.52413,
          12.1328
         ],
         "z": [
          8.70625,
          9.86472,
          10.6772,
          10.98268,
          11.90375,
          12.55023,
          12.8562,
          13.42554
         ]
        },
        {
         "hovertemplate": "id=0021500001_159<br>x=%{x}<br>y=%{y}<br>z=%{z}<extra></extra>",
         "legendgroup": "0021500001_159",
         "marker": {
          "color": "#EF553B",
          "line": {
           "color": "rgb(205, 12, 24)",
           "width": 4
          },
          "size": 6,
          "symbol": "circle"
         },
         "mode": "markers",
         "name": "0021500001_159",
         "scene": "scene",
         "showlegend": true,
         "type": "scatter3d",
         "x": [
          28.96546,
          28.07224,
          27.16099,
          26.439940000000004,
          25.42316,
          24.51417,
          23.69815,
          22.9998
         ],
         "y": [
          18.23333,
          18.4034,
          18.67789,
          19.11601,
          19.11824,
          19.12632,
          19.14233,
          19.79369
         ],
         "z": [
          9.4252,
          10.29904,
          10.92145,
          11.23226,
          12.67575,
          13.57458,
          13.88411,
          13.678729999999998
         ]
        },
        {
         "hovertemplate": "id=0021500001_161<br>x=%{x}<br>y=%{y}<br>z=%{z}<extra></extra>",
         "legendgroup": "0021500001_161",
         "marker": {
          "color": "#00cc96",
          "line": {
           "color": "rgb(205, 12, 24)",
           "width": 4
          },
          "size": 6,
          "symbol": "circle"
         },
         "mode": "markers",
         "name": "0021500001_161",
         "scene": "scene",
         "showlegend": true,
         "type": "scatter3d",
         "x": [
          28.58612,
          27.69129,
          26.9196,
          26.09388
         ],
         "y": [
          25.8654,
          25.70372,
          25.8192,
          25.8647
         ],
         "z": [
          9.48151,
          10.17377,
          10.97365,
          11.46957
         ]
        },
        {
         "hovertemplate": "H",
         "mode": "lines",
         "name": "Location of hoop",
         "type": "scatter3d",
         "x": [
          0,
          0,
          0,
          0,
          0,
          0,
          0,
          0,
          0,
          0,
          0,
          0,
          0,
          0,
          0,
          0,
          0,
          0,
          0,
          0,
          0,
          0,
          0,
          0,
          0,
          0,
          0,
          0,
          0,
          0,
          0,
          0,
          0,
          0,
          0,
          0,
          0,
          0,
          0,
          0,
          0,
          0,
          0,
          0,
          0,
          0,
          0,
          0,
          0,
          0
         ],
         "y": [
          0,
          1.0204081632653061,
          2.0408163265306123,
          3.0612244897959187,
          4.081632653061225,
          5.1020408163265305,
          6.122448979591837,
          7.142857142857143,
          8.16326530612245,
          9.183673469387756,
          10.204081632653061,
          11.224489795918368,
          12.244897959183675,
          13.26530612244898,
          14.285714285714286,
          15.306122448979592,
          16.3265306122449,
          17.346938775510203,
          18.367346938775512,
          19.387755102040817,
          20.408163265306122,
          21.42857142857143,
          22.448979591836736,
          23.46938775510204,
          24.48979591836735,
          25.510204081632654,
          26.53061224489796,
          27.551020408163264,
          28.571428571428573,
          29.591836734693878,
          30.612244897959183,
          31.63265306122449,
          32.6530612244898,
          33.673469387755105,
          34.69387755102041,
          35.714285714285715,
          36.734693877551024,
          37.755102040816325,
          38.775510204081634,
          39.79591836734694,
          40.816326530612244,
          41.83673469387755,
          42.85714285714286,
          43.87755102040816,
          44.89795918367347,
          45.91836734693878,
          46.93877551020408,
          47.95918367346939,
          48.9795918367347,
          50
         ],
         "z": [
          10,
          10,
          10,
          10,
          10,
          10,
          10,
          10,
          10,
          10,
          10,
          10,
          10,
          10,
          10,
          10,
          10,
          10,
          10,
          10,
          10,
          10,
          10,
          10,
          10,
          10,
          10,
          10,
          10,
          10,
          10,
          10,
          10,
          10,
          10,
          10,
          10,
          10,
          10,
          10,
          10,
          10,
          10,
          10,
          10,
          10,
          10,
          10,
          10,
          10
         ]
        }
       ],
       "layout": {
        "legend": {
         "title": {
          "text": "id"
         },
         "tracegroupgap": 0
        },
        "margin": {
         "b": 10,
         "l": 10,
         "r": 20,
         "t": 10
        },
        "scene": {
         "domain": {
          "x": [
           0,
           1
          ],
          "y": [
           0,
           1
          ]
         },
         "xaxis": {
          "nticks": 4,
          "range": [
           0,
           47
          ],
          "title": {
           "text": "Length of NBA court"
          }
         },
         "yaxis": {
          "nticks": 4,
          "range": [
           0,
           50
          ],
          "title": {
           "text": "Half Court Line"
          }
         },
         "zaxis": {
          "backgroundcolor": "rgb(300, 200, 230)",
          "gridcolor": "white",
          "showbackground": true,
          "title": {
           "text": "Height of shot"
          },
          "zerolinecolor": "white"
         }
        },
        "showlegend": false,
        "template": {
         "data": {
          "bar": [
           {
            "error_x": {
             "color": "#2a3f5f"
            },
            "error_y": {
             "color": "#2a3f5f"
            },
            "marker": {
             "line": {
              "color": "#E5ECF6",
              "width": 0.5
             }
            },
            "type": "bar"
           }
          ],
          "barpolar": [
           {
            "marker": {
             "line": {
              "color": "#E5ECF6",
              "width": 0.5
             }
            },
            "type": "barpolar"
           }
          ],
          "carpet": [
           {
            "aaxis": {
             "endlinecolor": "#2a3f5f",
             "gridcolor": "white",
             "linecolor": "white",
             "minorgridcolor": "white",
             "startlinecolor": "#2a3f5f"
            },
            "baxis": {
             "endlinecolor": "#2a3f5f",
             "gridcolor": "white",
             "linecolor": "white",
             "minorgridcolor": "white",
             "startlinecolor": "#2a3f5f"
            },
            "type": "carpet"
           }
          ],
          "choropleth": [
           {
            "colorbar": {
             "outlinewidth": 0,
             "ticks": ""
            },
            "type": "choropleth"
           }
          ],
          "contour": [
           {
            "colorbar": {
             "outlinewidth": 0,
             "ticks": ""
            },
            "colorscale": [
             [
              0,
              "#0d0887"
             ],
             [
              0.1111111111111111,
              "#46039f"
             ],
             [
              0.2222222222222222,
              "#7201a8"
             ],
             [
              0.3333333333333333,
              "#9c179e"
             ],
             [
              0.4444444444444444,
              "#bd3786"
             ],
             [
              0.5555555555555556,
              "#d8576b"
             ],
             [
              0.6666666666666666,
              "#ed7953"
             ],
             [
              0.7777777777777778,
              "#fb9f3a"
             ],
             [
              0.8888888888888888,
              "#fdca26"
             ],
             [
              1,
              "#f0f921"
             ]
            ],
            "type": "contour"
           }
          ],
          "contourcarpet": [
           {
            "colorbar": {
             "outlinewidth": 0,
             "ticks": ""
            },
            "type": "contourcarpet"
           }
          ],
          "heatmap": [
           {
            "colorbar": {
             "outlinewidth": 0,
             "ticks": ""
            },
            "colorscale": [
             [
              0,
              "#0d0887"
             ],
             [
              0.1111111111111111,
              "#46039f"
             ],
             [
              0.2222222222222222,
              "#7201a8"
             ],
             [
              0.3333333333333333,
              "#9c179e"
             ],
             [
              0.4444444444444444,
              "#bd3786"
             ],
             [
              0.5555555555555556,
              "#d8576b"
             ],
             [
              0.6666666666666666,
              "#ed7953"
             ],
             [
              0.7777777777777778,
              "#fb9f3a"
             ],
             [
              0.8888888888888888,
              "#fdca26"
             ],
             [
              1,
              "#f0f921"
             ]
            ],
            "type": "heatmap"
           }
          ],
          "heatmapgl": [
           {
            "colorbar": {
             "outlinewidth": 0,
             "ticks": ""
            },
            "colorscale": [
             [
              0,
              "#0d0887"
             ],
             [
              0.1111111111111111,
              "#46039f"
             ],
             [
              0.2222222222222222,
              "#7201a8"
             ],
             [
              0.3333333333333333,
              "#9c179e"
             ],
             [
              0.4444444444444444,
              "#bd3786"
             ],
             [
              0.5555555555555556,
              "#d8576b"
             ],
             [
              0.6666666666666666,
              "#ed7953"
             ],
             [
              0.7777777777777778,
              "#fb9f3a"
             ],
             [
              0.8888888888888888,
              "#fdca26"
             ],
             [
              1,
              "#f0f921"
             ]
            ],
            "type": "heatmapgl"
           }
          ],
          "histogram": [
           {
            "marker": {
             "colorbar": {
              "outlinewidth": 0,
              "ticks": ""
             }
            },
            "type": "histogram"
           }
          ],
          "histogram2d": [
           {
            "colorbar": {
             "outlinewidth": 0,
             "ticks": ""
            },
            "colorscale": [
             [
              0,
              "#0d0887"
             ],
             [
              0.1111111111111111,
              "#46039f"
             ],
             [
              0.2222222222222222,
              "#7201a8"
             ],
             [
              0.3333333333333333,
              "#9c179e"
             ],
             [
              0.4444444444444444,
              "#bd3786"
             ],
             [
              0.5555555555555556,
              "#d8576b"
             ],
             [
              0.6666666666666666,
              "#ed7953"
             ],
             [
              0.7777777777777778,
              "#fb9f3a"
             ],
             [
              0.8888888888888888,
              "#fdca26"
             ],
             [
              1,
              "#f0f921"
             ]
            ],
            "type": "histogram2d"
           }
          ],
          "histogram2dcontour": [
           {
            "colorbar": {
             "outlinewidth": 0,
             "ticks": ""
            },
            "colorscale": [
             [
              0,
              "#0d0887"
             ],
             [
              0.1111111111111111,
              "#46039f"
             ],
             [
              0.2222222222222222,
              "#7201a8"
             ],
             [
              0.3333333333333333,
              "#9c179e"
             ],
             [
              0.4444444444444444,
              "#bd3786"
             ],
             [
              0.5555555555555556,
              "#d8576b"
             ],
             [
              0.6666666666666666,
              "#ed7953"
             ],
             [
              0.7777777777777778,
              "#fb9f3a"
             ],
             [
              0.8888888888888888,
              "#fdca26"
             ],
             [
              1,
              "#f0f921"
             ]
            ],
            "type": "histogram2dcontour"
           }
          ],
          "mesh3d": [
           {
            "colorbar": {
             "outlinewidth": 0,
             "ticks": ""
            },
            "type": "mesh3d"
           }
          ],
          "parcoords": [
           {
            "line": {
             "colorbar": {
              "outlinewidth": 0,
              "ticks": ""
             }
            },
            "type": "parcoords"
           }
          ],
          "pie": [
           {
            "automargin": true,
            "type": "pie"
           }
          ],
          "scatter": [
           {
            "marker": {
             "colorbar": {
              "outlinewidth": 0,
              "ticks": ""
             }
            },
            "type": "scatter"
           }
          ],
          "scatter3d": [
           {
            "line": {
             "colorbar": {
              "outlinewidth": 0,
              "ticks": ""
             }
            },
            "marker": {
             "colorbar": {
              "outlinewidth": 0,
              "ticks": ""
             }
            },
            "type": "scatter3d"
           }
          ],
          "scattercarpet": [
           {
            "marker": {
             "colorbar": {
              "outlinewidth": 0,
              "ticks": ""
             }
            },
            "type": "scattercarpet"
           }
          ],
          "scattergeo": [
           {
            "marker": {
             "colorbar": {
              "outlinewidth": 0,
              "ticks": ""
             }
            },
            "type": "scattergeo"
           }
          ],
          "scattergl": [
           {
            "marker": {
             "colorbar": {
              "outlinewidth": 0,
              "ticks": ""
             }
            },
            "type": "scattergl"
           }
          ],
          "scattermapbox": [
           {
            "marker": {
             "colorbar": {
              "outlinewidth": 0,
              "ticks": ""
             }
            },
            "type": "scattermapbox"
           }
          ],
          "scatterpolar": [
           {
            "marker": {
             "colorbar": {
              "outlinewidth": 0,
              "ticks": ""
             }
            },
            "type": "scatterpolar"
           }
          ],
          "scatterpolargl": [
           {
            "marker": {
             "colorbar": {
              "outlinewidth": 0,
              "ticks": ""
             }
            },
            "type": "scatterpolargl"
           }
          ],
          "scatterternary": [
           {
            "marker": {
             "colorbar": {
              "outlinewidth": 0,
              "ticks": ""
             }
            },
            "type": "scatterternary"
           }
          ],
          "surface": [
           {
            "colorbar": {
             "outlinewidth": 0,
             "ticks": ""
            },
            "colorscale": [
             [
              0,
              "#0d0887"
             ],
             [
              0.1111111111111111,
              "#46039f"
             ],
             [
              0.2222222222222222,
              "#7201a8"
             ],
             [
              0.3333333333333333,
              "#9c179e"
             ],
             [
              0.4444444444444444,
              "#bd3786"
             ],
             [
              0.5555555555555556,
              "#d8576b"
             ],
             [
              0.6666666666666666,
              "#ed7953"
             ],
             [
              0.7777777777777778,
              "#fb9f3a"
             ],
             [
              0.8888888888888888,
              "#fdca26"
             ],
             [
              1,
              "#f0f921"
             ]
            ],
            "type": "surface"
           }
          ],
          "table": [
           {
            "cells": {
             "fill": {
              "color": "#EBF0F8"
             },
             "line": {
              "color": "white"
             }
            },
            "header": {
             "fill": {
              "color": "#C8D4E3"
             },
             "line": {
              "color": "white"
             }
            },
            "type": "table"
           }
          ]
         },
         "layout": {
          "annotationdefaults": {
           "arrowcolor": "#2a3f5f",
           "arrowhead": 0,
           "arrowwidth": 1
          },
          "coloraxis": {
           "colorbar": {
            "outlinewidth": 0,
            "ticks": ""
           }
          },
          "colorscale": {
           "diverging": [
            [
             0,
             "#8e0152"
            ],
            [
             0.1,
             "#c51b7d"
            ],
            [
             0.2,
             "#de77ae"
            ],
            [
             0.3,
             "#f1b6da"
            ],
            [
             0.4,
             "#fde0ef"
            ],
            [
             0.5,
             "#f7f7f7"
            ],
            [
             0.6,
             "#e6f5d0"
            ],
            [
             0.7,
             "#b8e186"
            ],
            [
             0.8,
             "#7fbc41"
            ],
            [
             0.9,
             "#4d9221"
            ],
            [
             1,
             "#276419"
            ]
           ],
           "sequential": [
            [
             0,
             "#0d0887"
            ],
            [
             0.1111111111111111,
             "#46039f"
            ],
            [
             0.2222222222222222,
             "#7201a8"
            ],
            [
             0.3333333333333333,
             "#9c179e"
            ],
            [
             0.4444444444444444,
             "#bd3786"
            ],
            [
             0.5555555555555556,
             "#d8576b"
            ],
            [
             0.6666666666666666,
             "#ed7953"
            ],
            [
             0.7777777777777778,
             "#fb9f3a"
            ],
            [
             0.8888888888888888,
             "#fdca26"
            ],
            [
             1,
             "#f0f921"
            ]
           ],
           "sequentialminus": [
            [
             0,
             "#0d0887"
            ],
            [
             0.1111111111111111,
             "#46039f"
            ],
            [
             0.2222222222222222,
             "#7201a8"
            ],
            [
             0.3333333333333333,
             "#9c179e"
            ],
            [
             0.4444444444444444,
             "#bd3786"
            ],
            [
             0.5555555555555556,
             "#d8576b"
            ],
            [
             0.6666666666666666,
             "#ed7953"
            ],
            [
             0.7777777777777778,
             "#fb9f3a"
            ],
            [
             0.8888888888888888,
             "#fdca26"
            ],
            [
             1,
             "#f0f921"
            ]
           ]
          },
          "colorway": [
           "#636efa",
           "#EF553B",
           "#00cc96",
           "#ab63fa",
           "#FFA15A",
           "#19d3f3",
           "#FF6692",
           "#B6E880",
           "#FF97FF",
           "#FECB52"
          ],
          "font": {
           "color": "#2a3f5f"
          },
          "geo": {
           "bgcolor": "white",
           "lakecolor": "white",
           "landcolor": "#E5ECF6",
           "showlakes": true,
           "showland": true,
           "subunitcolor": "white"
          },
          "hoverlabel": {
           "align": "left"
          },
          "hovermode": "closest",
          "mapbox": {
           "style": "light"
          },
          "paper_bgcolor": "white",
          "plot_bgcolor": "#E5ECF6",
          "polar": {
           "angularaxis": {
            "gridcolor": "white",
            "linecolor": "white",
            "ticks": ""
           },
           "bgcolor": "#E5ECF6",
           "radialaxis": {
            "gridcolor": "white",
            "linecolor": "white",
            "ticks": ""
           }
          },
          "scene": {
           "xaxis": {
            "backgroundcolor": "#E5ECF6",
            "gridcolor": "white",
            "gridwidth": 2,
            "linecolor": "white",
            "showbackground": true,
            "ticks": "",
            "zerolinecolor": "white"
           },
           "yaxis": {
            "backgroundcolor": "#E5ECF6",
            "gridcolor": "white",
            "gridwidth": 2,
            "linecolor": "white",
            "showbackground": true,
            "ticks": "",
            "zerolinecolor": "white"
           },
           "zaxis": {
            "backgroundcolor": "#E5ECF6",
            "gridcolor": "white",
            "gridwidth": 2,
            "linecolor": "white",
            "showbackground": true,
            "ticks": "",
            "zerolinecolor": "white"
           }
          },
          "shapedefaults": {
           "line": {
            "color": "#2a3f5f"
           }
          },
          "ternary": {
           "aaxis": {
            "gridcolor": "white",
            "linecolor": "white",
            "ticks": ""
           },
           "baxis": {
            "gridcolor": "white",
            "linecolor": "white",
            "ticks": ""
           },
           "bgcolor": "#E5ECF6",
           "caxis": {
            "gridcolor": "white",
            "linecolor": "white",
            "ticks": ""
           }
          },
          "title": {
           "x": 0.05
          },
          "xaxis": {
           "automargin": true,
           "gridcolor": "white",
           "linecolor": "white",
           "ticks": "",
           "title": {
            "standoff": 15
           },
           "zerolinecolor": "white",
           "zerolinewidth": 2
          },
          "yaxis": {
           "automargin": true,
           "gridcolor": "white",
           "linecolor": "white",
           "ticks": "",
           "title": {
            "standoff": 15
           },
           "zerolinecolor": "white",
           "zerolinewidth": 2
          }
         }
        },
        "title": {
         "text": "Shot Trajectories",
         "x": 0.5,
         "xanchor": "center",
         "y": 0.9,
         "yanchor": "top"
        },
        "width": 700
       }
      },
      "text/html": [
       "<div>                            <div id=\"bafeb327-5007-4418-a24c-b45969871e1e\" class=\"plotly-graph-div\" style=\"height:525px; width:700px;\"></div>            <script type=\"text/javascript\">                require([\"plotly\"], function(Plotly) {                    window.PLOTLYENV=window.PLOTLYENV || {};                                    if (document.getElementById(\"bafeb327-5007-4418-a24c-b45969871e1e\")) {                    Plotly.newPlot(                        \"bafeb327-5007-4418-a24c-b45969871e1e\",                        [{\"hovertemplate\": \"id=0021500001_102<br>x=%{x}<br>y=%{y}<br>z=%{z}<extra></extra>\", \"legendgroup\": \"0021500001_102\", \"marker\": {\"color\": \"#636efa\", \"line\": {\"color\": \"rgb(205, 12, 24)\", \"width\": 4}, \"size\": 6, \"symbol\": \"circle\"}, \"mode\": \"markers\", \"name\": \"0021500001_102\", \"scene\": \"scene\", \"showlegend\": true, \"type\": \"scatter3d\", \"x\": [4.54736, 4.5481300000000005, 4.6013199999999985, 4.62301, 4.67267, 4.65439, 4.62322, 4.67631], \"y\": [3.1681, 3.55045, 4.1953, 4.9962300000000015, 5.74719, 6.597569999999998, 7.3746399999999985, 8.049560000000001], \"z\": [8.74509, 9.35039, 10.20184, 10.8792, 11.60729, 12.11054, 12.76084, 13.31519]}, {\"hovertemplate\": \"id=0021500001_105<br>x=%{x}<br>y=%{y}<br>z=%{z}<extra></extra>\", \"legendgroup\": \"0021500001_105\", \"marker\": {\"color\": \"#EF553B\", \"line\": {\"color\": \"rgb(205, 12, 24)\", \"width\": 4}, \"size\": 6, \"symbol\": \"circle\"}, \"mode\": \"markers\", \"name\": \"0021500001_105\", \"scene\": \"scene\", \"showlegend\": true, \"type\": \"scatter3d\", \"x\": [27.42331, 27.06988, 26.57364, 25.85201, 25.09315, 24.34245, 23.54721, 22.80763], \"y\": [35.74026, 35.5977, 35.55707, 35.16218, 34.91666, 34.39867, 34.0045, 33.6512], \"z\": [8.55278, 8.85705, 9.60298, 10.2528, 11.0585, 11.53958, 12.06118, 12.66263]}, {\"hovertemplate\": \"id=0021500001_106<br>x=%{x}<br>y=%{y}<br>z=%{z}<extra></extra>\", \"legendgroup\": \"0021500001_106\", \"marker\": {\"color\": \"#00cc96\", \"line\": {\"color\": \"rgb(205, 12, 24)\", \"width\": 4}, \"size\": 6, \"symbol\": \"circle\"}, \"mode\": \"markers\", \"name\": \"0021500001_106\", \"scene\": \"scene\", \"showlegend\": true, \"type\": \"scatter3d\", \"x\": [13.60457, 13.26695, 13.08682, 12.90112, 12.5228, 12.19833, 11.89299, 11.60337], \"y\": [5.775930000000002, 6.29724, 7.05472, 7.81493, 8.343580000000001, 8.9316, 9.5507, 10.19545], \"z\": [9.92422, 10.63717, 11.26025, 11.88516, 12.60559, 13.0652, 13.48392, 13.864120000000002]}, {\"hovertemplate\": \"id=0021500001_110<br>x=%{x}<br>y=%{y}<br>z=%{z}<extra></extra>\", \"legendgroup\": \"0021500001_110\", \"marker\": {\"color\": \"#ab63fa\", \"line\": {\"color\": \"rgb(205, 12, 24)\", \"width\": 4}, \"size\": 6, \"symbol\": \"circle\"}, \"mode\": \"markers\", \"name\": \"0021500001_110\", \"scene\": \"scene\", \"showlegend\": true, \"type\": \"scatter3d\", \"x\": [28.0799, 27.37411, 26.608290000000004, 25.9881, 25.28411, 24.52189, 23.71412, 23.0132], \"y\": [13.60472, 13.9997, 14.26739, 14.73088, 15.12302, 15.52015, 15.71197, 16.14384], \"z\": [9.85809, 10.64044, 11.34291, 12.1535, 12.85341, 13.46872, 14.05259, 14.62278]}, {\"hovertemplate\": \"id=0021500001_114<br>x=%{x}<br>y=%{y}<br>z=%{z}<extra></extra>\", \"legendgroup\": \"0021500001_114\", \"marker\": {\"color\": \"#FFA15A\", \"line\": {\"color\": \"rgb(205, 12, 24)\", \"width\": 4}, \"size\": 6, \"symbol\": \"circle\"}, \"mode\": \"markers\", \"name\": \"0021500001_114\", \"scene\": \"scene\", \"showlegend\": true, \"type\": \"scatter3d\", \"x\": [18.23975, 17.80039, 17.4642, 16.956220000000002, 16.5189, 16.16206, 15.81373, 15.36403], \"y\": [45.04965, 44.53716, 43.98, 43.26518, 42.64127, 42.00018, 41.34287, 40.91066], \"z\": [9.10831, 9.94726, 10.8602, 11.4976, 12.14352, 12.80209, 13.4023, 13.99616]}, {\"hovertemplate\": \"id=0021500001_125<br>x=%{x}<br>y=%{y}<br>z=%{z}<extra></extra>\", \"legendgroup\": \"0021500001_125\", \"marker\": {\"color\": \"#19d3f3\", \"line\": {\"color\": \"rgb(205, 12, 24)\", \"width\": 4}, \"size\": 6, \"symbol\": \"circle\"}, \"mode\": \"markers\", \"name\": \"0021500001_125\", \"scene\": \"scene\", \"showlegend\": true, \"type\": \"scatter3d\", \"x\": [21.29878, 20.70366, 20.13602, 19.39636, 18.88166, 18.27297, 17.61673, 17.05415], \"y\": [11.81059, 12.45689, 12.80802, 13.30211, 13.88645, 14.45359, 14.88136, 15.47946], \"z\": [9.98286, 10.81001, 11.76371, 12.10058, 12.40502, 13.15821, 13.44748, 13.7089]}, {\"hovertemplate\": \"id=0021500001_132<br>x=%{x}<br>y=%{y}<br>z=%{z}<extra></extra>\", \"legendgroup\": \"0021500001_132\", \"marker\": {\"color\": \"#FF6692\", \"line\": {\"color\": \"rgb(205, 12, 24)\", \"width\": 4}, \"size\": 6, \"symbol\": \"circle\"}, \"mode\": \"markers\", \"name\": \"0021500001_132\", \"scene\": \"scene\", \"showlegend\": true, \"type\": \"scatter3d\", \"x\": [19.54139, 19.44774, 18.9341, 18.26412, 17.95844, 17.35098, 16.88395, 16.33278], \"y\": [5.01847, 5.70279, 6.34237, 6.95335, 7.668539999999999, 8.33508, 8.89943, 9.52303], \"z\": [8.538680000000001, 9.83068, 10.15921, 11.08838, 11.61251, 12.10865, 12.7499, 13.28905]}, {\"hovertemplate\": \"id=0021500001_139<br>x=%{x}<br>y=%{y}<br>z=%{z}<extra></extra>\", \"legendgroup\": \"0021500001_139\", \"marker\": {\"color\": \"#B6E880\", \"line\": {\"color\": \"rgb(205, 12, 24)\", \"width\": 4}, \"size\": 6, \"symbol\": \"circle\"}, \"mode\": \"markers\", \"name\": \"0021500001_139\", \"scene\": \"scene\", \"showlegend\": true, \"type\": \"scatter3d\", \"x\": [23.78686, 23.25533, 22.64029, 22.03528, 21.46501, 20.83185, 20.18692, 19.62298], \"y\": [11.03493, 11.49358, 11.80077, 12.32519, 12.74722, 13.23985, 13.67584, 14.05014], \"z\": [9.26937, 10.20621, 11.06707, 11.76945, 12.47726, 12.97785, 13.57845, 14.1198]}, {\"hovertemplate\": \"id=0021500001_148<br>x=%{x}<br>y=%{y}<br>z=%{z}<extra></extra>\", \"legendgroup\": \"0021500001_148\", \"marker\": {\"color\": \"#FF97FF\", \"line\": {\"color\": \"rgb(205, 12, 24)\", \"width\": 4}, \"size\": 6, \"symbol\": \"circle\"}, \"mode\": \"markers\", \"name\": \"0021500001_148\", \"scene\": \"scene\", \"showlegend\": true, \"type\": \"scatter3d\", \"x\": [25.866, 25.4697, 24.84148, 24.261570000000006, 23.68689, 23.08137, 22.43504, 21.83651], \"y\": [41.7307, 41.4314, 40.81076, 40.37095, 39.89463, 39.45796, 38.84418, 38.39079], \"z\": [8.853539999999997, 9.73458, 10.48875, 11.25565, 12.10015, 12.8701, 13.60432, 14.126920000000002]}, {\"hovertemplate\": \"id=0021500001_155<br>x=%{x}<br>y=%{y}<br>z=%{z}<extra></extra>\", \"legendgroup\": \"0021500001_155\", \"marker\": {\"color\": \"#FECB52\", \"line\": {\"color\": \"rgb(205, 12, 24)\", \"width\": 4}, \"size\": 6, \"symbol\": \"circle\"}, \"mode\": \"markers\", \"name\": \"0021500001_155\", \"scene\": \"scene\", \"showlegend\": true, \"type\": \"scatter3d\", \"x\": [24.95218, 24.39472, 23.691, 22.96398, 22.26763, 21.66624, 21.05561, 20.43681], \"y\": [37.79646, 37.55036, 37.00732, 36.54458, 36.14514000000001, 35.82676, 35.41946, 34.926], \"z\": [9.77607, 10.50155, 11.20872, 11.87752, 12.53078, 13.18069, 13.82929, 14.47674]}, {\"hovertemplate\": \"id=0021500001_158<br>x=%{x}<br>y=%{y}<br>z=%{z}<extra></extra>\", \"legendgroup\": \"0021500001_158\", \"marker\": {\"color\": \"#636efa\", \"line\": {\"color\": \"rgb(205, 12, 24)\", \"width\": 4}, \"size\": 6, \"symbol\": \"circle\"}, \"mode\": \"markers\", \"name\": \"0021500001_158\", \"scene\": \"scene\", \"showlegend\": true, \"type\": \"scatter3d\", \"x\": [22.17145, 21.89204, 21.41174, 20.69729, 20.16332, 19.66981, 19.05075, 18.51458], \"y\": [8.416839999999999, 8.726180000000001, 9.15191, 9.80995, 10.50348, 10.88657, 11.52413, 12.1328], \"z\": [8.70625, 9.86472, 10.6772, 10.98268, 11.90375, 12.55023, 12.8562, 13.42554]}, {\"hovertemplate\": \"id=0021500001_159<br>x=%{x}<br>y=%{y}<br>z=%{z}<extra></extra>\", \"legendgroup\": \"0021500001_159\", \"marker\": {\"color\": \"#EF553B\", \"line\": {\"color\": \"rgb(205, 12, 24)\", \"width\": 4}, \"size\": 6, \"symbol\": \"circle\"}, \"mode\": \"markers\", \"name\": \"0021500001_159\", \"scene\": \"scene\", \"showlegend\": true, \"type\": \"scatter3d\", \"x\": [28.96546, 28.07224, 27.16099, 26.439940000000004, 25.42316, 24.51417, 23.69815, 22.9998], \"y\": [18.23333, 18.4034, 18.67789, 19.11601, 19.11824, 19.12632, 19.14233, 19.79369], \"z\": [9.4252, 10.29904, 10.92145, 11.23226, 12.67575, 13.57458, 13.88411, 13.678729999999998]}, {\"hovertemplate\": \"id=0021500001_161<br>x=%{x}<br>y=%{y}<br>z=%{z}<extra></extra>\", \"legendgroup\": \"0021500001_161\", \"marker\": {\"color\": \"#00cc96\", \"line\": {\"color\": \"rgb(205, 12, 24)\", \"width\": 4}, \"size\": 6, \"symbol\": \"circle\"}, \"mode\": \"markers\", \"name\": \"0021500001_161\", \"scene\": \"scene\", \"showlegend\": true, \"type\": \"scatter3d\", \"x\": [28.58612, 27.69129, 26.9196, 26.09388], \"y\": [25.8654, 25.70372, 25.8192, 25.8647], \"z\": [9.48151, 10.17377, 10.97365, 11.46957]}, {\"hovertemplate\": \"H\", \"mode\": \"lines\", \"name\": \"Location of hoop\", \"type\": \"scatter3d\", \"x\": [0.0, 0.0, 0.0, 0.0, 0.0, 0.0, 0.0, 0.0, 0.0, 0.0, 0.0, 0.0, 0.0, 0.0, 0.0, 0.0, 0.0, 0.0, 0.0, 0.0, 0.0, 0.0, 0.0, 0.0, 0.0, 0.0, 0.0, 0.0, 0.0, 0.0, 0.0, 0.0, 0.0, 0.0, 0.0, 0.0, 0.0, 0.0, 0.0, 0.0, 0.0, 0.0, 0.0, 0.0, 0.0, 0.0, 0.0, 0.0, 0.0, 0.0], \"y\": [0.0, 1.0204081632653061, 2.0408163265306123, 3.0612244897959187, 4.081632653061225, 5.1020408163265305, 6.122448979591837, 7.142857142857143, 8.16326530612245, 9.183673469387756, 10.204081632653061, 11.224489795918368, 12.244897959183675, 13.26530612244898, 14.285714285714286, 15.306122448979592, 16.3265306122449, 17.346938775510203, 18.367346938775512, 19.387755102040817, 20.408163265306122, 21.42857142857143, 22.448979591836736, 23.46938775510204, 24.48979591836735, 25.510204081632654, 26.53061224489796, 27.551020408163264, 28.571428571428573, 29.591836734693878, 30.612244897959183, 31.63265306122449, 32.6530612244898, 33.673469387755105, 34.69387755102041, 35.714285714285715, 36.734693877551024, 37.755102040816325, 38.775510204081634, 39.79591836734694, 40.816326530612244, 41.83673469387755, 42.85714285714286, 43.87755102040816, 44.89795918367347, 45.91836734693878, 46.93877551020408, 47.95918367346939, 48.9795918367347, 50.0], \"z\": [10.0, 10.0, 10.0, 10.0, 10.0, 10.0, 10.0, 10.0, 10.0, 10.0, 10.0, 10.0, 10.0, 10.0, 10.0, 10.0, 10.0, 10.0, 10.0, 10.0, 10.0, 10.0, 10.0, 10.0, 10.0, 10.0, 10.0, 10.0, 10.0, 10.0, 10.0, 10.0, 10.0, 10.0, 10.0, 10.0, 10.0, 10.0, 10.0, 10.0, 10.0, 10.0, 10.0, 10.0, 10.0, 10.0, 10.0, 10.0, 10.0, 10.0]}],                        {\"legend\": {\"title\": {\"text\": \"id\"}, \"tracegroupgap\": 0}, \"margin\": {\"b\": 10, \"l\": 10, \"r\": 20, \"t\": 10}, \"scene\": {\"domain\": {\"x\": [0.0, 1.0], \"y\": [0.0, 1.0]}, \"xaxis\": {\"nticks\": 4, \"range\": [0, 47.0], \"title\": {\"text\": \"Length of NBA court\"}}, \"yaxis\": {\"nticks\": 4, \"range\": [0, 50], \"title\": {\"text\": \"Half Court Line\"}}, \"zaxis\": {\"backgroundcolor\": \"rgb(300, 200, 230)\", \"gridcolor\": \"white\", \"showbackground\": true, \"title\": {\"text\": \"Height of shot\"}, \"zerolinecolor\": \"white\"}}, \"showlegend\": false, \"template\": {\"data\": {\"bar\": [{\"error_x\": {\"color\": \"#2a3f5f\"}, \"error_y\": {\"color\": \"#2a3f5f\"}, \"marker\": {\"line\": {\"color\": \"#E5ECF6\", \"width\": 0.5}}, \"type\": \"bar\"}], \"barpolar\": [{\"marker\": {\"line\": {\"color\": \"#E5ECF6\", \"width\": 0.5}}, \"type\": \"barpolar\"}], \"carpet\": [{\"aaxis\": {\"endlinecolor\": \"#2a3f5f\", \"gridcolor\": \"white\", \"linecolor\": \"white\", \"minorgridcolor\": \"white\", \"startlinecolor\": \"#2a3f5f\"}, \"baxis\": {\"endlinecolor\": \"#2a3f5f\", \"gridcolor\": \"white\", \"linecolor\": \"white\", \"minorgridcolor\": \"white\", \"startlinecolor\": \"#2a3f5f\"}, \"type\": \"carpet\"}], \"choropleth\": [{\"colorbar\": {\"outlinewidth\": 0, \"ticks\": \"\"}, \"type\": \"choropleth\"}], \"contour\": [{\"colorbar\": {\"outlinewidth\": 0, \"ticks\": \"\"}, \"colorscale\": [[0.0, \"#0d0887\"], [0.1111111111111111, \"#46039f\"], [0.2222222222222222, \"#7201a8\"], [0.3333333333333333, \"#9c179e\"], [0.4444444444444444, \"#bd3786\"], [0.5555555555555556, \"#d8576b\"], [0.6666666666666666, \"#ed7953\"], [0.7777777777777778, \"#fb9f3a\"], [0.8888888888888888, \"#fdca26\"], [1.0, \"#f0f921\"]], \"type\": \"contour\"}], \"contourcarpet\": [{\"colorbar\": {\"outlinewidth\": 0, \"ticks\": \"\"}, \"type\": \"contourcarpet\"}], \"heatmap\": [{\"colorbar\": {\"outlinewidth\": 0, \"ticks\": \"\"}, \"colorscale\": [[0.0, \"#0d0887\"], [0.1111111111111111, \"#46039f\"], [0.2222222222222222, \"#7201a8\"], [0.3333333333333333, \"#9c179e\"], [0.4444444444444444, \"#bd3786\"], [0.5555555555555556, \"#d8576b\"], [0.6666666666666666, \"#ed7953\"], [0.7777777777777778, \"#fb9f3a\"], [0.8888888888888888, \"#fdca26\"], [1.0, \"#f0f921\"]], \"type\": \"heatmap\"}], \"heatmapgl\": [{\"colorbar\": {\"outlinewidth\": 0, \"ticks\": \"\"}, \"colorscale\": [[0.0, \"#0d0887\"], [0.1111111111111111, \"#46039f\"], [0.2222222222222222, \"#7201a8\"], [0.3333333333333333, \"#9c179e\"], [0.4444444444444444, \"#bd3786\"], [0.5555555555555556, \"#d8576b\"], [0.6666666666666666, \"#ed7953\"], [0.7777777777777778, \"#fb9f3a\"], [0.8888888888888888, \"#fdca26\"], [1.0, \"#f0f921\"]], \"type\": \"heatmapgl\"}], \"histogram\": [{\"marker\": {\"colorbar\": {\"outlinewidth\": 0, \"ticks\": \"\"}}, \"type\": \"histogram\"}], \"histogram2d\": [{\"colorbar\": {\"outlinewidth\": 0, \"ticks\": \"\"}, \"colorscale\": [[0.0, \"#0d0887\"], [0.1111111111111111, \"#46039f\"], [0.2222222222222222, \"#7201a8\"], [0.3333333333333333, \"#9c179e\"], [0.4444444444444444, \"#bd3786\"], [0.5555555555555556, \"#d8576b\"], [0.6666666666666666, \"#ed7953\"], [0.7777777777777778, \"#fb9f3a\"], [0.8888888888888888, \"#fdca26\"], [1.0, \"#f0f921\"]], \"type\": \"histogram2d\"}], \"histogram2dcontour\": [{\"colorbar\": {\"outlinewidth\": 0, \"ticks\": \"\"}, \"colorscale\": [[0.0, \"#0d0887\"], [0.1111111111111111, \"#46039f\"], [0.2222222222222222, \"#7201a8\"], [0.3333333333333333, \"#9c179e\"], [0.4444444444444444, \"#bd3786\"], [0.5555555555555556, \"#d8576b\"], [0.6666666666666666, \"#ed7953\"], [0.7777777777777778, \"#fb9f3a\"], [0.8888888888888888, \"#fdca26\"], [1.0, \"#f0f921\"]], \"type\": \"histogram2dcontour\"}], \"mesh3d\": [{\"colorbar\": {\"outlinewidth\": 0, \"ticks\": \"\"}, \"type\": \"mesh3d\"}], \"parcoords\": [{\"line\": {\"colorbar\": {\"outlinewidth\": 0, \"ticks\": \"\"}}, \"type\": \"parcoords\"}], \"pie\": [{\"automargin\": true, \"type\": \"pie\"}], \"scatter\": [{\"marker\": {\"colorbar\": {\"outlinewidth\": 0, \"ticks\": \"\"}}, \"type\": \"scatter\"}], \"scatter3d\": [{\"line\": {\"colorbar\": {\"outlinewidth\": 0, \"ticks\": \"\"}}, \"marker\": {\"colorbar\": {\"outlinewidth\": 0, \"ticks\": \"\"}}, \"type\": \"scatter3d\"}], \"scattercarpet\": [{\"marker\": {\"colorbar\": {\"outlinewidth\": 0, \"ticks\": \"\"}}, \"type\": \"scattercarpet\"}], \"scattergeo\": [{\"marker\": {\"colorbar\": {\"outlinewidth\": 0, \"ticks\": \"\"}}, \"type\": \"scattergeo\"}], \"scattergl\": [{\"marker\": {\"colorbar\": {\"outlinewidth\": 0, \"ticks\": \"\"}}, \"type\": \"scattergl\"}], \"scattermapbox\": [{\"marker\": {\"colorbar\": {\"outlinewidth\": 0, \"ticks\": \"\"}}, \"type\": \"scattermapbox\"}], \"scatterpolar\": [{\"marker\": {\"colorbar\": {\"outlinewidth\": 0, \"ticks\": \"\"}}, \"type\": \"scatterpolar\"}], \"scatterpolargl\": [{\"marker\": {\"colorbar\": {\"outlinewidth\": 0, \"ticks\": \"\"}}, \"type\": \"scatterpolargl\"}], \"scatterternary\": [{\"marker\": {\"colorbar\": {\"outlinewidth\": 0, \"ticks\": \"\"}}, \"type\": \"scatterternary\"}], \"surface\": [{\"colorbar\": {\"outlinewidth\": 0, \"ticks\": \"\"}, \"colorscale\": [[0.0, \"#0d0887\"], [0.1111111111111111, \"#46039f\"], [0.2222222222222222, \"#7201a8\"], [0.3333333333333333, \"#9c179e\"], [0.4444444444444444, \"#bd3786\"], [0.5555555555555556, \"#d8576b\"], [0.6666666666666666, \"#ed7953\"], [0.7777777777777778, \"#fb9f3a\"], [0.8888888888888888, \"#fdca26\"], [1.0, \"#f0f921\"]], \"type\": \"surface\"}], \"table\": [{\"cells\": {\"fill\": {\"color\": \"#EBF0F8\"}, \"line\": {\"color\": \"white\"}}, \"header\": {\"fill\": {\"color\": \"#C8D4E3\"}, \"line\": {\"color\": \"white\"}}, \"type\": \"table\"}]}, \"layout\": {\"annotationdefaults\": {\"arrowcolor\": \"#2a3f5f\", \"arrowhead\": 0, \"arrowwidth\": 1}, \"coloraxis\": {\"colorbar\": {\"outlinewidth\": 0, \"ticks\": \"\"}}, \"colorscale\": {\"diverging\": [[0, \"#8e0152\"], [0.1, \"#c51b7d\"], [0.2, \"#de77ae\"], [0.3, \"#f1b6da\"], [0.4, \"#fde0ef\"], [0.5, \"#f7f7f7\"], [0.6, \"#e6f5d0\"], [0.7, \"#b8e186\"], [0.8, \"#7fbc41\"], [0.9, \"#4d9221\"], [1, \"#276419\"]], \"sequential\": [[0.0, \"#0d0887\"], [0.1111111111111111, \"#46039f\"], [0.2222222222222222, \"#7201a8\"], [0.3333333333333333, \"#9c179e\"], [0.4444444444444444, \"#bd3786\"], [0.5555555555555556, \"#d8576b\"], [0.6666666666666666, \"#ed7953\"], [0.7777777777777778, \"#fb9f3a\"], [0.8888888888888888, \"#fdca26\"], [1.0, \"#f0f921\"]], \"sequentialminus\": [[0.0, \"#0d0887\"], [0.1111111111111111, \"#46039f\"], [0.2222222222222222, \"#7201a8\"], [0.3333333333333333, \"#9c179e\"], [0.4444444444444444, \"#bd3786\"], [0.5555555555555556, \"#d8576b\"], [0.6666666666666666, \"#ed7953\"], [0.7777777777777778, \"#fb9f3a\"], [0.8888888888888888, \"#fdca26\"], [1.0, \"#f0f921\"]]}, \"colorway\": [\"#636efa\", \"#EF553B\", \"#00cc96\", \"#ab63fa\", \"#FFA15A\", \"#19d3f3\", \"#FF6692\", \"#B6E880\", \"#FF97FF\", \"#FECB52\"], \"font\": {\"color\": \"#2a3f5f\"}, \"geo\": {\"bgcolor\": \"white\", \"lakecolor\": \"white\", \"landcolor\": \"#E5ECF6\", \"showlakes\": true, \"showland\": true, \"subunitcolor\": \"white\"}, \"hoverlabel\": {\"align\": \"left\"}, \"hovermode\": \"closest\", \"mapbox\": {\"style\": \"light\"}, \"paper_bgcolor\": \"white\", \"plot_bgcolor\": \"#E5ECF6\", \"polar\": {\"angularaxis\": {\"gridcolor\": \"white\", \"linecolor\": \"white\", \"ticks\": \"\"}, \"bgcolor\": \"#E5ECF6\", \"radialaxis\": {\"gridcolor\": \"white\", \"linecolor\": \"white\", \"ticks\": \"\"}}, \"scene\": {\"xaxis\": {\"backgroundcolor\": \"#E5ECF6\", \"gridcolor\": \"white\", \"gridwidth\": 2, \"linecolor\": \"white\", \"showbackground\": true, \"ticks\": \"\", \"zerolinecolor\": \"white\"}, \"yaxis\": {\"backgroundcolor\": \"#E5ECF6\", \"gridcolor\": \"white\", \"gridwidth\": 2, \"linecolor\": \"white\", \"showbackground\": true, \"ticks\": \"\", \"zerolinecolor\": \"white\"}, \"zaxis\": {\"backgroundcolor\": \"#E5ECF6\", \"gridcolor\": \"white\", \"gridwidth\": 2, \"linecolor\": \"white\", \"showbackground\": true, \"ticks\": \"\", \"zerolinecolor\": \"white\"}}, \"shapedefaults\": {\"line\": {\"color\": \"#2a3f5f\"}}, \"ternary\": {\"aaxis\": {\"gridcolor\": \"white\", \"linecolor\": \"white\", \"ticks\": \"\"}, \"baxis\": {\"gridcolor\": \"white\", \"linecolor\": \"white\", \"ticks\": \"\"}, \"bgcolor\": \"#E5ECF6\", \"caxis\": {\"gridcolor\": \"white\", \"linecolor\": \"white\", \"ticks\": \"\"}}, \"title\": {\"x\": 0.05}, \"xaxis\": {\"automargin\": true, \"gridcolor\": \"white\", \"linecolor\": \"white\", \"ticks\": \"\", \"title\": {\"standoff\": 15}, \"zerolinecolor\": \"white\", \"zerolinewidth\": 2}, \"yaxis\": {\"automargin\": true, \"gridcolor\": \"white\", \"linecolor\": \"white\", \"ticks\": \"\", \"title\": {\"standoff\": 15}, \"zerolinecolor\": \"white\", \"zerolinewidth\": 2}}}, \"title\": {\"text\": \"Shot Trajectories\", \"x\": 0.5, \"xanchor\": \"center\", \"y\": 0.9, \"yanchor\": \"top\"}, \"width\": 700},                        {\"responsive\": true}                    ).then(function(){\n",
       "                            \n",
       "var gd = document.getElementById('bafeb327-5007-4418-a24c-b45969871e1e');\n",
       "var x = new MutationObserver(function (mutations, observer) {{\n",
       "        var display = window.getComputedStyle(gd).display;\n",
       "        if (!display || display === 'none') {{\n",
       "            console.log([gd, 'removed!']);\n",
       "            Plotly.purge(gd);\n",
       "            observer.disconnect();\n",
       "        }}\n",
       "}});\n",
       "\n",
       "// Listen for the removal of the full notebook cells\n",
       "var notebookContainer = gd.closest('#notebook-container');\n",
       "if (notebookContainer) {{\n",
       "    x.observe(notebookContainer, {childList: true});\n",
       "}}\n",
       "\n",
       "// Listen for the clearing of the current output cell\n",
       "var outputEl = gd.closest('.output');\n",
       "if (outputEl) {{\n",
       "    x.observe(outputEl, {childList: true});\n",
       "}}\n",
       "\n",
       "                        })                };                });            </script>        </div>"
      ]
     },
     "metadata": {},
     "output_type": "display_data"
    }
   ],
   "source": [
    "fig = px.scatter_3d(release[0:100], x='x', y='y', z='z',\n",
    "              color='id')\n",
    "fig.update_layout(\n",
    "    scene = dict(\n",
    "        xaxis = dict(nticks=4, range=[0,94/2],),\n",
    "                     yaxis = dict(nticks=4, range=[0,50],),\n",
    "                    zaxis=dict(backgroundcolor=\"rgb(300, 200, 230)\",\n",
    "                         gridcolor=\"white\",\n",
    "                         showbackground=True,\n",
    "                         zerolinecolor=\"white\",),\n",
    "                     xaxis_title='Length of NBA court',\n",
    "                    yaxis_title='Half Court Line',\n",
    "                    zaxis_title='Height of shot'),\n",
    "    showlegend=False,\n",
    "    width=700,\n",
    "    title={\n",
    "        'text': \"Shot Trajectories\",\n",
    "        'y':0.9,\n",
    "        'x':0.5,\n",
    "        'xanchor': 'center',\n",
    "        'yanchor': 'top'},\n",
    "    margin=dict(r=20, l=10, b=10, t=10))\n",
    "fig.add_scatter3d(x=np.zeros(50), y=np.linspace(0,50,50), z=np.ones(50)*10, mode='lines', name='Location of hoop',hovertemplate=\"H\") \n",
    "fig.update_traces(marker=dict(size=6,\n",
    "                              line=dict(color = 'rgb(205, 12, 24)', width= 4)),\n",
    "                                    selector=dict(mode='markers'))\n",
    "                  \n",
    "fig.show()"
   ]
  },
  {
   "cell_type": "code",
   "execution_count": 176,
   "metadata": {},
   "outputs": [
    {
     "data": {
      "application/vnd.plotly.v1+json": {
       "config": {
        "plotlyServerURL": "https://plot.ly"
       },
       "data": [
        {
         "hovertemplate": "id=0021500001_102<br>x=%{x}<br>y=%{y}<br>z=%{z}<extra></extra>",
         "legendgroup": "0021500001_102",
         "marker": {
          "color": "#636efa",
          "symbol": "circle"
         },
         "mode": "markers",
         "name": "0021500001_102",
         "scene": "scene",
         "showlegend": true,
         "type": "scatter3d",
         "x": [
          5.16697
         ],
         "y": [
          21.8583
         ],
         "z": [
          9.37122
         ]
        },
        {
         "hovertemplate": "id=0021500001_105<br>x=%{x}<br>y=%{y}<br>z=%{z}<extra></extra>",
         "legendgroup": "0021500001_105",
         "marker": {
          "color": "#EF553B",
          "symbol": "circle"
         },
         "mode": "markers",
         "name": "0021500001_105",
         "scene": "scene",
         "showlegend": true,
         "type": "scatter3d",
         "x": [
          4.7902
         ],
         "y": [
          25.232470000000006
         ],
         "z": [
          9.26232
         ]
        },
        {
         "hovertemplate": "id=0021500001_106<br>x=%{x}<br>y=%{y}<br>z=%{z}<extra></extra>",
         "legendgroup": "0021500001_106",
         "marker": {
          "color": "#00cc96",
          "symbol": "circle"
         },
         "mode": "markers",
         "name": "0021500001_106",
         "scene": "scene",
         "showlegend": true,
         "type": "scatter3d",
         "x": [
          9.12544
         ],
         "y": [
          25.79742
         ],
         "z": [
          9.7586
         ]
        },
        {
         "hovertemplate": "id=0021500001_110<br>x=%{x}<br>y=%{y}<br>z=%{z}<extra></extra>",
         "legendgroup": "0021500001_110",
         "marker": {
          "color": "#ab63fa",
          "symbol": "circle"
         },
         "mode": "markers",
         "name": "0021500001_110",
         "scene": "scene",
         "showlegend": true,
         "type": "scatter3d",
         "x": [
          7.08154
         ],
         "y": [
          23.9951
         ],
         "z": [
          9.01205
         ]
        },
        {
         "hovertemplate": "id=0021500001_114<br>x=%{x}<br>y=%{y}<br>z=%{z}<extra></extra>",
         "legendgroup": "0021500001_114",
         "marker": {
          "color": "#FFA15A",
          "symbol": "circle"
         },
         "mode": "markers",
         "name": "0021500001_114",
         "scene": "scene",
         "showlegend": true,
         "type": "scatter3d",
         "x": [
          4.93547
         ],
         "y": [
          24.56133
         ],
         "z": [
          9.38868
         ]
        },
        {
         "hovertemplate": "id=0021500001_125<br>x=%{x}<br>y=%{y}<br>z=%{z}<extra></extra>",
         "legendgroup": "0021500001_125",
         "marker": {
          "color": "#19d3f3",
          "symbol": "circle"
         },
         "mode": "markers",
         "name": "0021500001_125",
         "scene": "scene",
         "showlegend": true,
         "type": "scatter3d",
         "x": [
          8.28985
         ],
         "y": [
          27.18849
         ],
         "z": [
          9.53133
         ]
        },
        {
         "hovertemplate": "id=0021500001_132<br>x=%{x}<br>y=%{y}<br>z=%{z}<extra></extra>",
         "legendgroup": "0021500001_132",
         "marker": {
          "color": "#FF6692",
          "symbol": "circle"
         },
         "mode": "markers",
         "name": "0021500001_132",
         "scene": "scene",
         "showlegend": true,
         "type": "scatter3d",
         "x": [
          6.18633
         ],
         "y": [
          27.805
         ],
         "z": [
          9.5687
         ]
        },
        {
         "hovertemplate": "id=0021500001_139<br>x=%{x}<br>y=%{y}<br>z=%{z}<extra></extra>",
         "legendgroup": "0021500001_139",
         "marker": {
          "color": "#B6E880",
          "symbol": "circle"
         },
         "mode": "markers",
         "name": "0021500001_139",
         "scene": "scene",
         "showlegend": true,
         "type": "scatter3d",
         "x": [
          4.667669999999998
         ],
         "y": [
          25.33696
         ],
         "z": [
          9.01515
         ]
        },
        {
         "hovertemplate": "id=0021500001_148<br>x=%{x}<br>y=%{y}<br>z=%{z}<extra></extra>",
         "legendgroup": "0021500001_148",
         "marker": {
          "color": "#FF97FF",
          "symbol": "circle"
         },
         "mode": "markers",
         "name": "0021500001_148",
         "scene": "scene",
         "showlegend": true,
         "type": "scatter3d",
         "x": [
          4.95988
         ],
         "y": [
          24.707420000000006
         ],
         "z": [
          9.24265
         ]
        },
        {
         "hovertemplate": "id=0021500001_155<br>x=%{x}<br>y=%{y}<br>z=%{z}<extra></extra>",
         "legendgroup": "0021500001_155",
         "marker": {
          "color": "#FECB52",
          "symbol": "circle"
         },
         "mode": "markers",
         "name": "0021500001_155",
         "scene": "scene",
         "showlegend": true,
         "type": "scatter3d",
         "x": [
          5.41369
         ],
         "y": [
          25.40903
         ],
         "z": [
          9.24586
         ]
        },
        {
         "hovertemplate": "id=0021500001_158<br>x=%{x}<br>y=%{y}<br>z=%{z}<extra></extra>",
         "legendgroup": "0021500001_158",
         "marker": {
          "color": "#636efa",
          "symbol": "circle"
         },
         "mode": "markers",
         "name": "0021500001_158",
         "scene": "scene",
         "showlegend": true,
         "type": "scatter3d",
         "x": [
          5.50731
         ],
         "y": [
          24.09778
         ],
         "z": [
          9.01441
         ]
        },
        {
         "hovertemplate": "id=0021500001_159<br>x=%{x}<br>y=%{y}<br>z=%{z}<extra></extra>",
         "legendgroup": "0021500001_159",
         "marker": {
          "color": "#EF553B",
          "symbol": "circle"
         },
         "mode": "markers",
         "name": "0021500001_159",
         "scene": "scene",
         "showlegend": true,
         "type": "scatter3d",
         "x": [
          10.87545
         ],
         "y": [
          23.01679
         ],
         "z": [
          9.45387
         ]
        },
        {
         "hovertemplate": "id=0021500001_161<br>x=%{x}<br>y=%{y}<br>z=%{z}<extra></extra>",
         "legendgroup": "0021500001_161",
         "marker": {
          "color": "#00cc96",
          "symbol": "circle"
         },
         "mode": "markers",
         "name": "0021500001_161",
         "scene": "scene",
         "showlegend": true,
         "type": "scatter3d",
         "x": [
          7.733219999999998
         ],
         "y": [
          25.36815
         ],
         "z": [
          9.15488
         ]
        },
        {
         "hovertemplate": "id=0021500001_166<br>x=%{x}<br>y=%{y}<br>z=%{z}<extra></extra>",
         "legendgroup": "0021500001_166",
         "marker": {
          "color": "#ab63fa",
          "symbol": "circle"
         },
         "mode": "markers",
         "name": "0021500001_166",
         "scene": "scene",
         "showlegend": true,
         "type": "scatter3d",
         "x": [
          3.87611
         ],
         "y": [
          30.61813
         ],
         "z": [
          9.10729
         ]
        },
        {
         "hovertemplate": "id=0021500001_168<br>x=%{x}<br>y=%{y}<br>z=%{z}<extra></extra>",
         "legendgroup": "0021500001_168",
         "marker": {
          "color": "#FFA15A",
          "symbol": "circle"
         },
         "mode": "markers",
         "name": "0021500001_168",
         "scene": "scene",
         "showlegend": true,
         "type": "scatter3d",
         "x": [
          4.97088
         ],
         "y": [
          24.49588
         ],
         "z": [
          9.02923
         ]
        },
        {
         "hovertemplate": "id=0021500001_170<br>x=%{x}<br>y=%{y}<br>z=%{z}<extra></extra>",
         "legendgroup": "0021500001_170",
         "marker": {
          "color": "#19d3f3",
          "symbol": "circle"
         },
         "mode": "markers",
         "name": "0021500001_170",
         "scene": "scene",
         "showlegend": true,
         "type": "scatter3d",
         "x": [
          5.20707
         ],
         "y": [
          25.13061
         ],
         "z": [
          9.51936
         ]
        },
        {
         "hovertemplate": "id=0021500001_173<br>x=%{x}<br>y=%{y}<br>z=%{z}<extra></extra>",
         "legendgroup": "0021500001_173",
         "marker": {
          "color": "#FF6692",
          "symbol": "circle"
         },
         "mode": "markers",
         "name": "0021500001_173",
         "scene": "scene",
         "showlegend": true,
         "type": "scatter3d",
         "x": [
          7.812810000000002
         ],
         "y": [
          22.27914
         ],
         "z": [
          9.44387
         ]
        },
        {
         "hovertemplate": "id=0021500001_181<br>x=%{x}<br>y=%{y}<br>z=%{z}<extra></extra>",
         "legendgroup": "0021500001_181",
         "marker": {
          "color": "#B6E880",
          "symbol": "circle"
         },
         "mode": "markers",
         "name": "0021500001_181",
         "scene": "scene",
         "showlegend": true,
         "type": "scatter3d",
         "x": [
          7.5354100000000015
         ],
         "y": [
          29.48276
         ],
         "z": [
          9.37273
         ]
        },
        {
         "hovertemplate": "id=0021500001_184<br>x=%{x}<br>y=%{y}<br>z=%{z}<extra></extra>",
         "legendgroup": "0021500001_184",
         "marker": {
          "color": "#FF97FF",
          "symbol": "circle"
         },
         "mode": "markers",
         "name": "0021500001_184",
         "scene": "scene",
         "showlegend": true,
         "type": "scatter3d",
         "x": [
          5.2862
         ],
         "y": [
          24.91276
         ],
         "z": [
          9.03687
         ]
        },
        {
         "hovertemplate": "id=0021500001_20<br>x=%{x}<br>y=%{y}<br>z=%{z}<extra></extra>",
         "legendgroup": "0021500001_20",
         "marker": {
          "color": "#FECB52",
          "symbol": "circle"
         },
         "mode": "markers",
         "name": "0021500001_20",
         "scene": "scene",
         "showlegend": true,
         "type": "scatter3d",
         "x": [
          5.84143
         ],
         "y": [
          26.07608
         ],
         "z": [
          9.13954
         ]
        },
        {
         "hovertemplate": "id=0021500001_202<br>x=%{x}<br>y=%{y}<br>z=%{z}<extra></extra>",
         "legendgroup": "0021500001_202",
         "marker": {
          "color": "#636efa",
          "symbol": "circle"
         },
         "mode": "markers",
         "name": "0021500001_202",
         "scene": "scene",
         "showlegend": true,
         "type": "scatter3d",
         "x": [
          8.36335
         ],
         "y": [
          28.47691
         ],
         "z": [
          9.1835
         ]
        },
        {
         "hovertemplate": "id=0021500001_205<br>x=%{x}<br>y=%{y}<br>z=%{z}<extra></extra>",
         "legendgroup": "0021500001_205",
         "marker": {
          "color": "#EF553B",
          "symbol": "circle"
         },
         "mode": "markers",
         "name": "0021500001_205",
         "scene": "scene",
         "showlegend": true,
         "type": "scatter3d",
         "x": [
          8.17581
         ],
         "y": [
          23.29826
         ],
         "z": [
          9.11979
         ]
        },
        {
         "hovertemplate": "id=0021500001_218<br>x=%{x}<br>y=%{y}<br>z=%{z}<extra></extra>",
         "legendgroup": "0021500001_218",
         "marker": {
          "color": "#00cc96",
          "symbol": "circle"
         },
         "mode": "markers",
         "name": "0021500001_218",
         "scene": "scene",
         "showlegend": true,
         "type": "scatter3d",
         "x": [
          6.16602
         ],
         "y": [
          22.4893
         ],
         "z": [
          9.64118
         ]
        },
        {
         "hovertemplate": "id=0021500001_229<br>x=%{x}<br>y=%{y}<br>z=%{z}<extra></extra>",
         "legendgroup": "0021500001_229",
         "marker": {
          "color": "#ab63fa",
          "symbol": "circle"
         },
         "mode": "markers",
         "name": "0021500001_229",
         "scene": "scene",
         "showlegend": true,
         "type": "scatter3d",
         "x": [
          5.04406
         ],
         "y": [
          25.31379
         ],
         "z": [
          9.18702
         ]
        },
        {
         "hovertemplate": "id=0021500001_235<br>x=%{x}<br>y=%{y}<br>z=%{z}<extra></extra>",
         "legendgroup": "0021500001_235",
         "marker": {
          "color": "#FFA15A",
          "symbol": "circle"
         },
         "mode": "markers",
         "name": "0021500001_235",
         "scene": "scene",
         "showlegend": true,
         "type": "scatter3d",
         "x": [
          5.63515
         ],
         "y": [
          22.11893
         ],
         "z": [
          9.49154
         ]
        },
        {
         "hovertemplate": "id=0021500001_247<br>x=%{x}<br>y=%{y}<br>z=%{z}<extra></extra>",
         "legendgroup": "0021500001_247",
         "marker": {
          "color": "#19d3f3",
          "symbol": "circle"
         },
         "mode": "markers",
         "name": "0021500001_247",
         "scene": "scene",
         "showlegend": true,
         "type": "scatter3d",
         "x": [
          4.9915
         ],
         "y": [
          23.97695
         ],
         "z": [
          9.03843
         ]
        },
        {
         "hovertemplate": "id=0021500001_256<br>x=%{x}<br>y=%{y}<br>z=%{z}<extra></extra>",
         "legendgroup": "0021500001_256",
         "marker": {
          "color": "#FF6692",
          "symbol": "circle"
         },
         "mode": "markers",
         "name": "0021500001_256",
         "scene": "scene",
         "showlegend": true,
         "type": "scatter3d",
         "x": [
          5.2945400000000005
         ],
         "y": [
          24.94559
         ],
         "z": [
          9.04315
         ]
        },
        {
         "hovertemplate": "id=0021500001_259<br>x=%{x}<br>y=%{y}<br>z=%{z}<extra></extra>",
         "legendgroup": "0021500001_259",
         "marker": {
          "color": "#B6E880",
          "symbol": "circle"
         },
         "mode": "markers",
         "name": "0021500001_259",
         "scene": "scene",
         "showlegend": true,
         "type": "scatter3d",
         "x": [
          18.95525
         ],
         "y": [
          23.12105
         ],
         "z": [
          8.56865
         ]
        },
        {
         "hovertemplate": "id=0021500001_261<br>x=%{x}<br>y=%{y}<br>z=%{z}<extra></extra>",
         "legendgroup": "0021500001_261",
         "marker": {
          "color": "#FF97FF",
          "symbol": "circle"
         },
         "mode": "markers",
         "name": "0021500001_261",
         "scene": "scene",
         "showlegend": true,
         "type": "scatter3d",
         "x": [
          8.14756
         ],
         "y": [
          26.08274
         ],
         "z": [
          9.0908
         ]
        },
        {
         "hovertemplate": "id=0021500001_35<br>x=%{x}<br>y=%{y}<br>z=%{z}<extra></extra>",
         "legendgroup": "0021500001_35",
         "marker": {
          "color": "#FECB52",
          "symbol": "circle"
         },
         "mode": "markers",
         "name": "0021500001_35",
         "scene": "scene",
         "showlegend": true,
         "type": "scatter3d",
         "x": [
          5.27688
         ],
         "y": [
          25.12103
         ],
         "z": [
          9.51402
         ]
        },
        {
         "hovertemplate": "id=0021500001_41<br>x=%{x}<br>y=%{y}<br>z=%{z}<extra></extra>",
         "legendgroup": "0021500001_41",
         "marker": {
          "color": "#636efa",
          "symbol": "circle"
         },
         "mode": "markers",
         "name": "0021500001_41",
         "scene": "scene",
         "showlegend": true,
         "type": "scatter3d",
         "x": [
          5.8841199999999985
         ],
         "y": [
          25.11765
         ],
         "z": [
          9.09344
         ]
        },
        {
         "hovertemplate": "id=0021500001_56<br>x=%{x}<br>y=%{y}<br>z=%{z}<extra></extra>",
         "legendgroup": "0021500001_56",
         "marker": {
          "color": "#EF553B",
          "symbol": "circle"
         },
         "mode": "markers",
         "name": "0021500001_56",
         "scene": "scene",
         "showlegend": true,
         "type": "scatter3d",
         "x": [
          6.17249
         ],
         "y": [
          25.70008
         ],
         "z": [
          9.10982
         ]
        },
        {
         "hovertemplate": "id=0021500001_77<br>x=%{x}<br>y=%{y}<br>z=%{z}<extra></extra>",
         "legendgroup": "0021500001_77",
         "marker": {
          "color": "#00cc96",
          "symbol": "circle"
         },
         "mode": "markers",
         "name": "0021500001_77",
         "scene": "scene",
         "showlegend": true,
         "type": "scatter3d",
         "x": [
          5.48689
         ],
         "y": [
          24.1752
         ],
         "z": [
          9.33353
         ]
        },
        {
         "hovertemplate": "id=0021500001_83<br>x=%{x}<br>y=%{y}<br>z=%{z}<extra></extra>",
         "legendgroup": "0021500001_83",
         "marker": {
          "color": "#ab63fa",
          "symbol": "circle"
         },
         "mode": "markers",
         "name": "0021500001_83",
         "scene": "scene",
         "showlegend": true,
         "type": "scatter3d",
         "x": [
          8.6111
         ],
         "y": [
          25.371270000000006
         ],
         "z": [
          9.04366
         ]
        },
        {
         "hovertemplate": "id=0021500001_90<br>x=%{x}<br>y=%{y}<br>z=%{z}<extra></extra>",
         "legendgroup": "0021500001_90",
         "marker": {
          "color": "#FFA15A",
          "symbol": "circle"
         },
         "mode": "markers",
         "name": "0021500001_90",
         "scene": "scene",
         "showlegend": true,
         "type": "scatter3d",
         "x": [
          4.97759
         ],
         "y": [
          23.02021
         ],
         "z": [
          9.21694
         ]
        },
        {
         "hovertemplate": "id=0021500001_94<br>x=%{x}<br>y=%{y}<br>z=%{z}<extra></extra>",
         "legendgroup": "0021500001_94",
         "marker": {
          "color": "#19d3f3",
          "symbol": "circle"
         },
         "mode": "markers",
         "name": "0021500001_94",
         "scene": "scene",
         "showlegend": true,
         "type": "scatter3d",
         "x": [
          4.60431
         ],
         "y": [
          24.44507
         ],
         "z": [
          9.14992
         ]
        },
        {
         "hovertemplate": "id=0021500001_98<br>x=%{x}<br>y=%{y}<br>z=%{z}<extra></extra>",
         "legendgroup": "0021500001_98",
         "marker": {
          "color": "#FF6692",
          "symbol": "circle"
         },
         "mode": "markers",
         "name": "0021500001_98",
         "scene": "scene",
         "showlegend": true,
         "type": "scatter3d",
         "x": [
          7.32608
         ],
         "y": [
          22.54015
         ],
         "z": [
          9.16557
         ]
        },
        {
         "hovertemplate": "id=0021500002_103<br>x=%{x}<br>y=%{y}<br>z=%{z}<extra></extra>",
         "legendgroup": "0021500002_103",
         "marker": {
          "color": "#B6E880",
          "symbol": "circle"
         },
         "mode": "markers",
         "name": "0021500002_103",
         "scene": "scene",
         "showlegend": true,
         "type": "scatter3d",
         "x": [
          20.58294
         ],
         "y": [
          25.44182
         ],
         "z": [
          9.02594
         ]
        },
        {
         "hovertemplate": "id=0021500002_112<br>x=%{x}<br>y=%{y}<br>z=%{z}<extra></extra>",
         "legendgroup": "0021500002_112",
         "marker": {
          "color": "#FF97FF",
          "symbol": "circle"
         },
         "mode": "markers",
         "name": "0021500002_112",
         "scene": "scene",
         "showlegend": true,
         "type": "scatter3d",
         "x": [
          7.4634
         ],
         "y": [
          18.58765
         ],
         "z": [
          9.19354
         ]
        },
        {
         "hovertemplate": "id=0021500002_115<br>x=%{x}<br>y=%{y}<br>z=%{z}<extra></extra>",
         "legendgroup": "0021500002_115",
         "marker": {
          "color": "#FECB52",
          "symbol": "circle"
         },
         "mode": "markers",
         "name": "0021500002_115",
         "scene": "scene",
         "showlegend": true,
         "type": "scatter3d",
         "x": [
          5.61784
         ],
         "y": [
          24.91084
         ],
         "z": [
          9.43221
         ]
        },
        {
         "hovertemplate": "id=0021500002_120<br>x=%{x}<br>y=%{y}<br>z=%{z}<extra></extra>",
         "legendgroup": "0021500002_120",
         "marker": {
          "color": "#636efa",
          "symbol": "circle"
         },
         "mode": "markers",
         "name": "0021500002_120",
         "scene": "scene",
         "showlegend": true,
         "type": "scatter3d",
         "x": [
          5.31307
         ],
         "y": [
          21.28574
         ],
         "z": [
          9.26123
         ]
        },
        {
         "hovertemplate": "id=0021500002_126<br>x=%{x}<br>y=%{y}<br>z=%{z}<extra></extra>",
         "legendgroup": "0021500002_126",
         "marker": {
          "color": "#EF553B",
          "symbol": "circle"
         },
         "mode": "markers",
         "name": "0021500002_126",
         "scene": "scene",
         "showlegend": true,
         "type": "scatter3d",
         "x": [
          5.0818699999999986
         ],
         "y": [
          25.08124
         ],
         "z": [
          9.05121
         ]
        },
        {
         "hovertemplate": "id=0021500002_129<br>x=%{x}<br>y=%{y}<br>z=%{z}<extra></extra>",
         "legendgroup": "0021500002_129",
         "marker": {
          "color": "#00cc96",
          "symbol": "circle"
         },
         "mode": "markers",
         "name": "0021500002_129",
         "scene": "scene",
         "showlegend": true,
         "type": "scatter3d",
         "x": [
          7.19387
         ],
         "y": [
          19.98943
         ],
         "z": [
          9.00633
         ]
        },
        {
         "hovertemplate": "id=0021500002_139<br>x=%{x}<br>y=%{y}<br>z=%{z}<extra></extra>",
         "legendgroup": "0021500002_139",
         "marker": {
          "color": "#ab63fa",
          "symbol": "circle"
         },
         "mode": "markers",
         "name": "0021500002_139",
         "scene": "scene",
         "showlegend": true,
         "type": "scatter3d",
         "x": [
          6.0787900000000015
         ],
         "y": [
          25.32371
         ],
         "z": [
          9.22225
         ]
        },
        {
         "hovertemplate": "id=0021500002_147<br>x=%{x}<br>y=%{y}<br>z=%{z}<extra></extra>",
         "legendgroup": "0021500002_147",
         "marker": {
          "color": "#FFA15A",
          "symbol": "circle"
         },
         "mode": "markers",
         "name": "0021500002_147",
         "scene": "scene",
         "showlegend": true,
         "type": "scatter3d",
         "x": [
          11.48053
         ],
         "y": [
          26.15321
         ],
         "z": [
          9.19638
         ]
        },
        {
         "hovertemplate": "id=0021500002_148<br>x=%{x}<br>y=%{y}<br>z=%{z}<extra></extra>",
         "legendgroup": "0021500002_148",
         "marker": {
          "color": "#19d3f3",
          "symbol": "circle"
         },
         "mode": "markers",
         "name": "0021500002_148",
         "scene": "scene",
         "showlegend": true,
         "type": "scatter3d",
         "x": [
          11.02609
         ],
         "y": [
          19.67215
         ],
         "z": [
          9.27641
         ]
        },
        {
         "hovertemplate": "id=0021500002_150<br>x=%{x}<br>y=%{y}<br>z=%{z}<extra></extra>",
         "legendgroup": "0021500002_150",
         "marker": {
          "color": "#FF6692",
          "symbol": "circle"
         },
         "mode": "markers",
         "name": "0021500002_150",
         "scene": "scene",
         "showlegend": true,
         "type": "scatter3d",
         "x": [
          5.05919
         ],
         "y": [
          25.01304
         ],
         "z": [
          9.04309
         ]
        },
        {
         "hovertemplate": "id=0021500002_153<br>x=%{x}<br>y=%{y}<br>z=%{z}<extra></extra>",
         "legendgroup": "0021500002_153",
         "marker": {
          "color": "#B6E880",
          "symbol": "circle"
         },
         "mode": "markers",
         "name": "0021500002_153",
         "scene": "scene",
         "showlegend": true,
         "type": "scatter3d",
         "x": [
          6.4809199999999985
         ],
         "y": [
          24.54547
         ],
         "z": [
          10.00175
         ]
        },
        {
         "hovertemplate": "id=0021500002_171<br>x=%{x}<br>y=%{y}<br>z=%{z}<extra></extra>",
         "legendgroup": "0021500002_171",
         "marker": {
          "color": "#FF97FF",
          "symbol": "circle"
         },
         "mode": "markers",
         "name": "0021500002_171",
         "scene": "scene",
         "showlegend": true,
         "type": "scatter3d",
         "x": [
          8.7381
         ],
         "y": [
          27.72728
         ],
         "z": [
          9.17017
         ]
        },
        {
         "hovertemplate": "id=0021500002_179<br>x=%{x}<br>y=%{y}<br>z=%{z}<extra></extra>",
         "legendgroup": "0021500002_179",
         "marker": {
          "color": "#FECB52",
          "symbol": "circle"
         },
         "mode": "markers",
         "name": "0021500002_179",
         "scene": "scene",
         "showlegend": true,
         "type": "scatter3d",
         "x": [
          4.06154
         ],
         "y": [
          30.46811
         ],
         "z": [
          9.39139
         ]
        },
        {
         "hovertemplate": "id=0021500002_184<br>x=%{x}<br>y=%{y}<br>z=%{z}<extra></extra>",
         "legendgroup": "0021500002_184",
         "marker": {
          "color": "#636efa",
          "symbol": "circle"
         },
         "mode": "markers",
         "name": "0021500002_184",
         "scene": "scene",
         "showlegend": true,
         "type": "scatter3d",
         "x": [
          5.27156
         ],
         "y": [
          25.03762
         ],
         "z": [
          9.36042
         ]
        },
        {
         "hovertemplate": "id=0021500002_193<br>x=%{x}<br>y=%{y}<br>z=%{z}<extra></extra>",
         "legendgroup": "0021500002_193",
         "marker": {
          "color": "#EF553B",
          "symbol": "circle"
         },
         "mode": "markers",
         "name": "0021500002_193",
         "scene": "scene",
         "showlegend": true,
         "type": "scatter3d",
         "x": [
          8.277610000000001
         ],
         "y": [
          24.33505
         ],
         "z": [
          9.34141
         ]
        },
        {
         "hovertemplate": "id=0021500002_199<br>x=%{x}<br>y=%{y}<br>z=%{z}<extra></extra>",
         "legendgroup": "0021500002_199",
         "marker": {
          "color": "#00cc96",
          "symbol": "circle"
         },
         "mode": "markers",
         "name": "0021500002_199",
         "scene": "scene",
         "showlegend": true,
         "type": "scatter3d",
         "x": [
          5.2109
         ],
         "y": [
          24.83887
         ],
         "z": [
          9.00441
         ]
        },
        {
         "hovertemplate": "id=0021500002_208<br>x=%{x}<br>y=%{y}<br>z=%{z}<extra></extra>",
         "legendgroup": "0021500002_208",
         "marker": {
          "color": "#ab63fa",
          "symbol": "circle"
         },
         "mode": "markers",
         "name": "0021500002_208",
         "scene": "scene",
         "showlegend": true,
         "type": "scatter3d",
         "x": [
          6.12645
         ],
         "y": [
          26.072470000000006
         ],
         "z": [
          9.11897
         ]
        },
        {
         "hovertemplate": "id=0021500002_219<br>x=%{x}<br>y=%{y}<br>z=%{z}<extra></extra>",
         "legendgroup": "0021500002_219",
         "marker": {
          "color": "#FFA15A",
          "symbol": "circle"
         },
         "mode": "markers",
         "name": "0021500002_219",
         "scene": "scene",
         "showlegend": true,
         "type": "scatter3d",
         "x": [
          3.90571
         ],
         "y": [
          33.48249000000001
         ],
         "z": [
          9.10276
         ]
        },
        {
         "hovertemplate": "id=0021500002_244<br>x=%{x}<br>y=%{y}<br>z=%{z}<extra></extra>",
         "legendgroup": "0021500002_244",
         "marker": {
          "color": "#19d3f3",
          "symbol": "circle"
         },
         "mode": "markers",
         "name": "0021500002_244",
         "scene": "scene",
         "showlegend": true,
         "type": "scatter3d",
         "x": [
          7.4129
         ],
         "y": [
          27.06571
         ],
         "z": [
          9.31821
         ]
        },
        {
         "hovertemplate": "id=0021500002_254<br>x=%{x}<br>y=%{y}<br>z=%{z}<extra></extra>",
         "legendgroup": "0021500002_254",
         "marker": {
          "color": "#FF6692",
          "symbol": "circle"
         },
         "mode": "markers",
         "name": "0021500002_254",
         "scene": "scene",
         "showlegend": true,
         "type": "scatter3d",
         "x": [
          5.41647
         ],
         "y": [
          24.69925
         ],
         "z": [
          9.20005
         ]
        },
        {
         "hovertemplate": "id=0021500002_257<br>x=%{x}<br>y=%{y}<br>z=%{z}<extra></extra>",
         "legendgroup": "0021500002_257",
         "marker": {
          "color": "#B6E880",
          "symbol": "circle"
         },
         "mode": "markers",
         "name": "0021500002_257",
         "scene": "scene",
         "showlegend": true,
         "type": "scatter3d",
         "x": [
          4.84874
         ],
         "y": [
          25.87398
         ],
         "z": [
          9.12929
         ]
        },
        {
         "hovertemplate": "id=0021500002_28<br>x=%{x}<br>y=%{y}<br>z=%{z}<extra></extra>",
         "legendgroup": "0021500002_28",
         "marker": {
          "color": "#FF97FF",
          "symbol": "circle"
         },
         "mode": "markers",
         "name": "0021500002_28",
         "scene": "scene",
         "showlegend": true,
         "type": "scatter3d",
         "x": [
          5.38657
         ],
         "y": [
          20.83864
         ],
         "z": [
          9.42305
         ]
        },
        {
         "hovertemplate": "id=0021500002_30<br>x=%{x}<br>y=%{y}<br>z=%{z}<extra></extra>",
         "legendgroup": "0021500002_30",
         "marker": {
          "color": "#FECB52",
          "symbol": "circle"
         },
         "mode": "markers",
         "name": "0021500002_30",
         "scene": "scene",
         "showlegend": true,
         "type": "scatter3d",
         "x": [
          4.68773
         ],
         "y": [
          32.04286
         ],
         "z": [
          9.26925
         ]
        },
        {
         "hovertemplate": "id=0021500002_31<br>x=%{x}<br>y=%{y}<br>z=%{z}<extra></extra>",
         "legendgroup": "0021500002_31",
         "marker": {
          "color": "#636efa",
          "symbol": "circle"
         },
         "mode": "markers",
         "name": "0021500002_31",
         "scene": "scene",
         "showlegend": true,
         "type": "scatter3d",
         "x": [
          5.3138
         ],
         "y": [
          25.03894
         ],
         "z": [
          9.3367
         ]
        },
        {
         "hovertemplate": "id=0021500002_32<br>x=%{x}<br>y=%{y}<br>z=%{z}<extra></extra>",
         "legendgroup": "0021500002_32",
         "marker": {
          "color": "#EF553B",
          "symbol": "circle"
         },
         "mode": "markers",
         "name": "0021500002_32",
         "scene": "scene",
         "showlegend": true,
         "type": "scatter3d",
         "x": [
          5.06302
         ],
         "y": [
          24.65264
         ],
         "z": [
          9.28613
         ]
        },
        {
         "hovertemplate": "id=0021500002_33<br>x=%{x}<br>y=%{y}<br>z=%{z}<extra></extra>",
         "legendgroup": "0021500002_33",
         "marker": {
          "color": "#00cc96",
          "symbol": "circle"
         },
         "mode": "markers",
         "name": "0021500002_33",
         "scene": "scene",
         "showlegend": true,
         "type": "scatter3d",
         "x": [
          6.42671
         ],
         "y": [
          25.26327
         ],
         "z": [
          9.0226
         ]
        },
        {
         "hovertemplate": "id=0021500002_36<br>x=%{x}<br>y=%{y}<br>z=%{z}<extra></extra>",
         "legendgroup": "0021500002_36",
         "marker": {
          "color": "#ab63fa",
          "symbol": "circle"
         },
         "mode": "markers",
         "name": "0021500002_36",
         "scene": "scene",
         "showlegend": true,
         "type": "scatter3d",
         "x": [
          15.11053
         ],
         "y": [
          33.6762
         ],
         "z": [
          8.728660000000001
         ]
        },
        {
         "hovertemplate": "id=0021500002_37<br>x=%{x}<br>y=%{y}<br>z=%{z}<extra></extra>",
         "legendgroup": "0021500002_37",
         "marker": {
          "color": "#FFA15A",
          "symbol": "circle"
         },
         "mode": "markers",
         "name": "0021500002_37",
         "scene": "scene",
         "showlegend": true,
         "type": "scatter3d",
         "x": [
          14.47962
         ],
         "y": [
          25.84232
         ],
         "z": [
          9.07456
         ]
        },
        {
         "hovertemplate": "id=0021500002_53<br>x=%{x}<br>y=%{y}<br>z=%{z}<extra></extra>",
         "legendgroup": "0021500002_53",
         "marker": {
          "color": "#19d3f3",
          "symbol": "circle"
         },
         "mode": "markers",
         "name": "0021500002_53",
         "scene": "scene",
         "showlegend": true,
         "type": "scatter3d",
         "x": [
          5.44335
         ],
         "y": [
          26.92509
         ],
         "z": [
          9.07478
         ]
        },
        {
         "hovertemplate": "id=0021500002_55<br>x=%{x}<br>y=%{y}<br>z=%{z}<extra></extra>",
         "legendgroup": "0021500002_55",
         "marker": {
          "color": "#FF6692",
          "symbol": "circle"
         },
         "mode": "markers",
         "name": "0021500002_55",
         "scene": "scene",
         "showlegend": true,
         "type": "scatter3d",
         "x": [
          5.32954
         ],
         "y": [
          18.495420000000006
         ],
         "z": [
          9.25633
         ]
        },
        {
         "hovertemplate": "id=0021500002_73<br>x=%{x}<br>y=%{y}<br>z=%{z}<extra></extra>",
         "legendgroup": "0021500002_73",
         "marker": {
          "color": "#B6E880",
          "symbol": "circle"
         },
         "mode": "markers",
         "name": "0021500002_73",
         "scene": "scene",
         "showlegend": true,
         "type": "scatter3d",
         "x": [
          12.05994
         ],
         "y": [
          32.51563
         ],
         "z": [
          8.45463
         ]
        },
        {
         "hovertemplate": "id=0021500002_84<br>x=%{x}<br>y=%{y}<br>z=%{z}<extra></extra>",
         "legendgroup": "0021500002_84",
         "marker": {
          "color": "#FF97FF",
          "symbol": "circle"
         },
         "mode": "markers",
         "name": "0021500002_84",
         "scene": "scene",
         "showlegend": true,
         "type": "scatter3d",
         "x": [
          10.37608
         ],
         "y": [
          27.23273
         ],
         "z": [
          9.23804
         ]
        },
        {
         "hovertemplate": "id=0021500002_88<br>x=%{x}<br>y=%{y}<br>z=%{z}<extra></extra>",
         "legendgroup": "0021500002_88",
         "marker": {
          "color": "#FECB52",
          "symbol": "circle"
         },
         "mode": "markers",
         "name": "0021500002_88",
         "scene": "scene",
         "showlegend": true,
         "type": "scatter3d",
         "x": [
          5.75758
         ],
         "y": [
          25.36865
         ],
         "z": [
          9.91294
         ]
        },
        {
         "hovertemplate": "id=0021500003_108<br>x=%{x}<br>y=%{y}<br>z=%{z}<extra></extra>",
         "legendgroup": "0021500003_108",
         "marker": {
          "color": "#636efa",
          "symbol": "circle"
         },
         "mode": "markers",
         "name": "0021500003_108",
         "scene": "scene",
         "showlegend": true,
         "type": "scatter3d",
         "x": [
          6.5891899999999985
         ],
         "y": [
          25.76023
         ],
         "z": [
          9.03375
         ]
        },
        {
         "hovertemplate": "id=0021500003_11<br>x=%{x}<br>y=%{y}<br>z=%{z}<extra></extra>",
         "legendgroup": "0021500003_11",
         "marker": {
          "color": "#EF553B",
          "symbol": "circle"
         },
         "mode": "markers",
         "name": "0021500003_11",
         "scene": "scene",
         "showlegend": true,
         "type": "scatter3d",
         "x": [
          8.14502
         ],
         "y": [
          23.65183
         ],
         "z": [
          9.15424
         ]
        },
        {
         "hovertemplate": "id=0021500003_111<br>x=%{x}<br>y=%{y}<br>z=%{z}<extra></extra>",
         "legendgroup": "0021500003_111",
         "marker": {
          "color": "#00cc96",
          "symbol": "circle"
         },
         "mode": "markers",
         "name": "0021500003_111",
         "scene": "scene",
         "showlegend": true,
         "type": "scatter3d",
         "x": [
          4.97661
         ],
         "y": [
          25.159
         ],
         "z": [
          9.92808
         ]
        },
        {
         "hovertemplate": "id=0021500003_114<br>x=%{x}<br>y=%{y}<br>z=%{z}<extra></extra>",
         "legendgroup": "0021500003_114",
         "marker": {
          "color": "#ab63fa",
          "symbol": "circle"
         },
         "mode": "markers",
         "name": "0021500003_114",
         "scene": "scene",
         "showlegend": true,
         "type": "scatter3d",
         "x": [
          6.02749
         ],
         "y": [
          24.61003
         ],
         "z": [
          9.4828
         ]
        },
        {
         "hovertemplate": "id=0021500003_117<br>x=%{x}<br>y=%{y}<br>z=%{z}<extra></extra>",
         "legendgroup": "0021500003_117",
         "marker": {
          "color": "#FFA15A",
          "symbol": "circle"
         },
         "mode": "markers",
         "name": "0021500003_117",
         "scene": "scene",
         "showlegend": true,
         "type": "scatter3d",
         "x": [
          9.71609
         ],
         "y": [
          26.77412
         ],
         "z": [
          9.04329
         ]
        },
        {
         "hovertemplate": "id=0021500003_126<br>x=%{x}<br>y=%{y}<br>z=%{z}<extra></extra>",
         "legendgroup": "0021500003_126",
         "marker": {
          "color": "#19d3f3",
          "symbol": "circle"
         },
         "mode": "markers",
         "name": "0021500003_126",
         "scene": "scene",
         "showlegend": true,
         "type": "scatter3d",
         "x": [
          9.3079
         ],
         "y": [
          25.40517
         ],
         "z": [
          9.05237
         ]
        },
        {
         "hovertemplate": "id=0021500003_127<br>x=%{x}<br>y=%{y}<br>z=%{z}<extra></extra>",
         "legendgroup": "0021500003_127",
         "marker": {
          "color": "#FF6692",
          "symbol": "circle"
         },
         "mode": "markers",
         "name": "0021500003_127",
         "scene": "scene",
         "showlegend": true,
         "type": "scatter3d",
         "x": [
          7.9127399999999986
         ],
         "y": [
          23.48164
         ],
         "z": [
          9.28765
         ]
        },
        {
         "hovertemplate": "id=0021500003_128<br>x=%{x}<br>y=%{y}<br>z=%{z}<extra></extra>",
         "legendgroup": "0021500003_128",
         "marker": {
          "color": "#B6E880",
          "symbol": "circle"
         },
         "mode": "markers",
         "name": "0021500003_128",
         "scene": "scene",
         "showlegend": true,
         "type": "scatter3d",
         "x": [
          6.02361
         ],
         "y": [
          22.75833
         ],
         "z": [
          9.3752
         ]
        },
        {
         "hovertemplate": "id=0021500003_130<br>x=%{x}<br>y=%{y}<br>z=%{z}<extra></extra>",
         "legendgroup": "0021500003_130",
         "marker": {
          "color": "#FF97FF",
          "symbol": "circle"
         },
         "mode": "markers",
         "name": "0021500003_130",
         "scene": "scene",
         "showlegend": true,
         "type": "scatter3d",
         "x": [
          5.22204
         ],
         "y": [
          23.9654
         ],
         "z": [
          9.03569
         ]
        },
        {
         "hovertemplate": "id=0021500003_131<br>x=%{x}<br>y=%{y}<br>z=%{z}<extra></extra>",
         "legendgroup": "0021500003_131",
         "marker": {
          "color": "#FECB52",
          "symbol": "circle"
         },
         "mode": "markers",
         "name": "0021500003_131",
         "scene": "scene",
         "showlegend": true,
         "type": "scatter3d",
         "x": [
          5.84399
         ],
         "y": [
          28.78376
         ],
         "z": [
          9.17804
         ]
        },
        {
         "hovertemplate": "id=0021500003_14<br>x=%{x}<br>y=%{y}<br>z=%{z}<extra></extra>",
         "legendgroup": "0021500003_14",
         "marker": {
          "color": "#636efa",
          "symbol": "circle"
         },
         "mode": "markers",
         "name": "0021500003_14",
         "scene": "scene",
         "showlegend": true,
         "type": "scatter3d",
         "x": [
          5.63144
         ],
         "y": [
          24.72734
         ],
         "z": [
          9.17576
         ]
        },
        {
         "hovertemplate": "id=0021500003_142<br>x=%{x}<br>y=%{y}<br>z=%{z}<extra></extra>",
         "legendgroup": "0021500003_142",
         "marker": {
          "color": "#EF553B",
          "symbol": "circle"
         },
         "mode": "markers",
         "name": "0021500003_142",
         "scene": "scene",
         "showlegend": true,
         "type": "scatter3d",
         "x": [
          6.24681
         ],
         "y": [
          26.59325
         ],
         "z": [
          9.4151
         ]
        },
        {
         "hovertemplate": "id=0021500003_152<br>x=%{x}<br>y=%{y}<br>z=%{z}<extra></extra>",
         "legendgroup": "0021500003_152",
         "marker": {
          "color": "#00cc96",
          "symbol": "circle"
         },
         "mode": "markers",
         "name": "0021500003_152",
         "scene": "scene",
         "showlegend": true,
         "type": "scatter3d",
         "x": [
          6.15034
         ],
         "y": [
          25.48221
         ],
         "z": [
          9.30361
         ]
        },
        {
         "hovertemplate": "id=0021500003_168<br>x=%{x}<br>y=%{y}<br>z=%{z}<extra></extra>",
         "legendgroup": "0021500003_168",
         "marker": {
          "color": "#ab63fa",
          "symbol": "circle"
         },
         "mode": "markers",
         "name": "0021500003_168",
         "scene": "scene",
         "showlegend": true,
         "type": "scatter3d",
         "x": [
          5.73195
         ],
         "y": [
          25.6555
         ],
         "z": [
          10.69449
         ]
        },
        {
         "hovertemplate": "id=0021500003_17<br>x=%{x}<br>y=%{y}<br>z=%{z}<extra></extra>",
         "legendgroup": "0021500003_17",
         "marker": {
          "color": "#FFA15A",
          "symbol": "circle"
         },
         "mode": "markers",
         "name": "0021500003_17",
         "scene": "scene",
         "showlegend": true,
         "type": "scatter3d",
         "x": [
          5.6120199999999985
         ],
         "y": [
          24.77868
         ],
         "z": [
          9.26146
         ]
        },
        {
         "hovertemplate": "id=0021500003_173<br>x=%{x}<br>y=%{y}<br>z=%{z}<extra></extra>",
         "legendgroup": "0021500003_173",
         "marker": {
          "color": "#19d3f3",
          "symbol": "circle"
         },
         "mode": "markers",
         "name": "0021500003_173",
         "scene": "scene",
         "showlegend": true,
         "type": "scatter3d",
         "x": [
          5.16335
         ],
         "y": [
          24.65906
         ],
         "z": [
          9.0433
         ]
        },
        {
         "hovertemplate": "id=0021500003_185<br>x=%{x}<br>y=%{y}<br>z=%{z}<extra></extra>",
         "legendgroup": "0021500003_185",
         "marker": {
          "color": "#FF6692",
          "symbol": "circle"
         },
         "mode": "markers",
         "name": "0021500003_185",
         "scene": "scene",
         "showlegend": true,
         "type": "scatter3d",
         "x": [
          7.29421
         ],
         "y": [
          19.768420000000006
         ],
         "z": [
          9.137
         ]
        },
        {
         "hovertemplate": "id=0021500003_194<br>x=%{x}<br>y=%{y}<br>z=%{z}<extra></extra>",
         "legendgroup": "0021500003_194",
         "marker": {
          "color": "#B6E880",
          "symbol": "circle"
         },
         "mode": "markers",
         "name": "0021500003_194",
         "scene": "scene",
         "showlegend": true,
         "type": "scatter3d",
         "x": [
          3.5041
         ],
         "y": [
          19.7277
         ],
         "z": [
          9.16699
         ]
        },
        {
         "hovertemplate": "id=0021500003_197<br>x=%{x}<br>y=%{y}<br>z=%{z}<extra></extra>",
         "legendgroup": "0021500003_197",
         "marker": {
          "color": "#FF97FF",
          "symbol": "circle"
         },
         "mode": "markers",
         "name": "0021500003_197",
         "scene": "scene",
         "showlegend": true,
         "type": "scatter3d",
         "x": [
          4.59897
         ],
         "y": [
          24.98117
         ],
         "z": [
          9.17408
         ]
        },
        {
         "hovertemplate": "id=0021500003_206<br>x=%{x}<br>y=%{y}<br>z=%{z}<extra></extra>",
         "legendgroup": "0021500003_206",
         "marker": {
          "color": "#FECB52",
          "symbol": "circle"
         },
         "mode": "markers",
         "name": "0021500003_206",
         "scene": "scene",
         "showlegend": true,
         "type": "scatter3d",
         "x": [
          5.70824
         ],
         "y": [
          24.24796
         ],
         "z": [
          9.06385
         ]
        },
        {
         "hovertemplate": "id=0021500003_21<br>x=%{x}<br>y=%{y}<br>z=%{z}<extra></extra>",
         "legendgroup": "0021500003_21",
         "marker": {
          "color": "#636efa",
          "symbol": "circle"
         },
         "mode": "markers",
         "name": "0021500003_21",
         "scene": "scene",
         "showlegend": true,
         "type": "scatter3d",
         "x": [
          7.4921
         ],
         "y": [
          28.57167
         ],
         "z": [
          9.3823
         ]
        },
        {
         "hovertemplate": "id=0021500003_22<br>x=%{x}<br>y=%{y}<br>z=%{z}<extra></extra>",
         "legendgroup": "0021500003_22",
         "marker": {
          "color": "#EF553B",
          "symbol": "circle"
         },
         "mode": "markers",
         "name": "0021500003_22",
         "scene": "scene",
         "showlegend": true,
         "type": "scatter3d",
         "x": [
          7.454439999999999
         ],
         "y": [
          30.71413
         ],
         "z": [
          9.04212
         ]
        },
        {
         "hovertemplate": "id=0021500003_231<br>x=%{x}<br>y=%{y}<br>z=%{z}<extra></extra>",
         "legendgroup": "0021500003_231",
         "marker": {
          "color": "#00cc96",
          "symbol": "circle"
         },
         "mode": "markers",
         "name": "0021500003_231",
         "scene": "scene",
         "showlegend": true,
         "type": "scatter3d",
         "x": [
          6.0054
         ],
         "y": [
          23.52039
         ],
         "z": [
          9.25247
         ]
        },
        {
         "hovertemplate": "id=0021500003_242<br>x=%{x}<br>y=%{y}<br>z=%{z}<extra></extra>",
         "legendgroup": "0021500003_242",
         "marker": {
          "color": "#ab63fa",
          "symbol": "circle"
         },
         "mode": "markers",
         "name": "0021500003_242",
         "scene": "scene",
         "showlegend": true,
         "type": "scatter3d",
         "x": [
          5.04708
         ],
         "y": [
          25.61104
         ],
         "z": [
          9.44911
         ]
        },
        {
         "hovertemplate": "id=0021500003_247<br>x=%{x}<br>y=%{y}<br>z=%{z}<extra></extra>",
         "legendgroup": "0021500003_247",
         "marker": {
          "color": "#FFA15A",
          "symbol": "circle"
         },
         "mode": "markers",
         "name": "0021500003_247",
         "scene": "scene",
         "showlegend": true,
         "type": "scatter3d",
         "x": [
          5.73486
         ],
         "y": [
          20.79121
         ],
         "z": [
          9.35775
         ]
        },
        {
         "hovertemplate": "id=0021500003_249<br>x=%{x}<br>y=%{y}<br>z=%{z}<extra></extra>",
         "legendgroup": "0021500003_249",
         "marker": {
          "color": "#19d3f3",
          "symbol": "circle"
         },
         "mode": "markers",
         "name": "0021500003_249",
         "scene": "scene",
         "showlegend": true,
         "type": "scatter3d",
         "x": [
          16.4189
         ],
         "y": [
          31.13263
         ],
         "z": [
          8.51822
         ]
        },
        {
         "hovertemplate": "id=0021500003_253<br>x=%{x}<br>y=%{y}<br>z=%{z}<extra></extra>",
         "legendgroup": "0021500003_253",
         "marker": {
          "color": "#FF6692",
          "symbol": "circle"
         },
         "mode": "markers",
         "name": "0021500003_253",
         "scene": "scene",
         "showlegend": true,
         "type": "scatter3d",
         "x": [
          6.851380000000002
         ],
         "y": [
          20.19102
         ],
         "z": [
          10.35868
         ]
        },
        {
         "hovertemplate": "id=0021500003_281<br>x=%{x}<br>y=%{y}<br>z=%{z}<extra></extra>",
         "legendgroup": "0021500003_281",
         "marker": {
          "color": "#B6E880",
          "symbol": "circle"
         },
         "mode": "markers",
         "name": "0021500003_281",
         "scene": "scene",
         "showlegend": true,
         "type": "scatter3d",
         "x": [
          13.41533
         ],
         "y": [
          26.8522
         ],
         "z": [
          9.16323
         ]
        },
        {
         "hovertemplate": "id=0021500003_288<br>x=%{x}<br>y=%{y}<br>z=%{z}<extra></extra>",
         "legendgroup": "0021500003_288",
         "marker": {
          "color": "#FF97FF",
          "symbol": "circle"
         },
         "mode": "markers",
         "name": "0021500003_288",
         "scene": "scene",
         "showlegend": true,
         "type": "scatter3d",
         "x": [
          5.8457
         ],
         "y": [
          24.74459
         ],
         "z": [
          9.07519
         ]
        },
        {
         "hovertemplate": "id=0021500003_33<br>x=%{x}<br>y=%{y}<br>z=%{z}<extra></extra>",
         "legendgroup": "0021500003_33",
         "marker": {
          "color": "#FECB52",
          "symbol": "circle"
         },
         "mode": "markers",
         "name": "0021500003_33",
         "scene": "scene",
         "showlegend": true,
         "type": "scatter3d",
         "x": [
          4.90161
         ],
         "y": [
          24.9024
         ],
         "z": [
          9.1456
         ]
        },
        {
         "hovertemplate": "H",
         "mode": "lines",
         "name": "Location of hoop",
         "type": "scatter3d",
         "x": [
          0,
          0,
          0,
          0,
          0,
          0,
          0,
          0,
          0,
          0,
          0,
          0,
          0,
          0,
          0,
          0,
          0,
          0,
          0,
          0,
          0,
          0,
          0,
          0,
          0,
          0,
          0,
          0,
          0,
          0,
          0,
          0,
          0,
          0,
          0,
          0,
          0,
          0,
          0,
          0,
          0,
          0,
          0,
          0,
          0,
          0,
          0,
          0,
          0,
          0
         ],
         "y": [
          0,
          1.0204081632653061,
          2.0408163265306123,
          3.0612244897959187,
          4.081632653061225,
          5.1020408163265305,
          6.122448979591837,
          7.142857142857143,
          8.16326530612245,
          9.183673469387756,
          10.204081632653061,
          11.224489795918368,
          12.244897959183675,
          13.26530612244898,
          14.285714285714286,
          15.306122448979592,
          16.3265306122449,
          17.346938775510203,
          18.367346938775512,
          19.387755102040817,
          20.408163265306122,
          21.42857142857143,
          22.448979591836736,
          23.46938775510204,
          24.48979591836735,
          25.510204081632654,
          26.53061224489796,
          27.551020408163264,
          28.571428571428573,
          29.591836734693878,
          30.612244897959183,
          31.63265306122449,
          32.6530612244898,
          33.673469387755105,
          34.69387755102041,
          35.714285714285715,
          36.734693877551024,
          37.755102040816325,
          38.775510204081634,
          39.79591836734694,
          40.816326530612244,
          41.83673469387755,
          42.85714285714286,
          43.87755102040816,
          44.89795918367347,
          45.91836734693878,
          46.93877551020408,
          47.95918367346939,
          48.9795918367347,
          50
         ],
         "z": [
          10,
          10,
          10,
          10,
          10,
          10,
          10,
          10,
          10,
          10,
          10,
          10,
          10,
          10,
          10,
          10,
          10,
          10,
          10,
          10,
          10,
          10,
          10,
          10,
          10,
          10,
          10,
          10,
          10,
          10,
          10,
          10,
          10,
          10,
          10,
          10,
          10,
          10,
          10,
          10,
          10,
          10,
          10,
          10,
          10,
          10,
          10,
          10,
          10,
          10
         ]
        }
       ],
       "layout": {
        "legend": {
         "title": {
          "text": "id"
         },
         "tracegroupgap": 0
        },
        "margin": {
         "b": 10,
         "l": 10,
         "r": 20,
         "t": 10
        },
        "scene": {
         "domain": {
          "x": [
           0,
           1
          ],
          "y": [
           0,
           1
          ]
         },
         "xaxis": {
          "nticks": 4,
          "range": [
           0,
           47
          ],
          "title": {
           "text": "Length of NBA court"
          }
         },
         "yaxis": {
          "nticks": 4,
          "range": [
           0,
           50
          ],
          "title": {
           "text": "Half Court Line"
          }
         },
         "zaxis": {
          "backgroundcolor": "rgb(300, 200, 230)",
          "gridcolor": "white",
          "showbackground": true,
          "title": {
           "text": "Height of shot"
          },
          "zerolinecolor": "white"
         }
        },
        "showlegend": false,
        "template": {
         "data": {
          "bar": [
           {
            "error_x": {
             "color": "#2a3f5f"
            },
            "error_y": {
             "color": "#2a3f5f"
            },
            "marker": {
             "line": {
              "color": "#E5ECF6",
              "width": 0.5
             }
            },
            "type": "bar"
           }
          ],
          "barpolar": [
           {
            "marker": {
             "line": {
              "color": "#E5ECF6",
              "width": 0.5
             }
            },
            "type": "barpolar"
           }
          ],
          "carpet": [
           {
            "aaxis": {
             "endlinecolor": "#2a3f5f",
             "gridcolor": "white",
             "linecolor": "white",
             "minorgridcolor": "white",
             "startlinecolor": "#2a3f5f"
            },
            "baxis": {
             "endlinecolor": "#2a3f5f",
             "gridcolor": "white",
             "linecolor": "white",
             "minorgridcolor": "white",
             "startlinecolor": "#2a3f5f"
            },
            "type": "carpet"
           }
          ],
          "choropleth": [
           {
            "colorbar": {
             "outlinewidth": 0,
             "ticks": ""
            },
            "type": "choropleth"
           }
          ],
          "contour": [
           {
            "colorbar": {
             "outlinewidth": 0,
             "ticks": ""
            },
            "colorscale": [
             [
              0,
              "#0d0887"
             ],
             [
              0.1111111111111111,
              "#46039f"
             ],
             [
              0.2222222222222222,
              "#7201a8"
             ],
             [
              0.3333333333333333,
              "#9c179e"
             ],
             [
              0.4444444444444444,
              "#bd3786"
             ],
             [
              0.5555555555555556,
              "#d8576b"
             ],
             [
              0.6666666666666666,
              "#ed7953"
             ],
             [
              0.7777777777777778,
              "#fb9f3a"
             ],
             [
              0.8888888888888888,
              "#fdca26"
             ],
             [
              1,
              "#f0f921"
             ]
            ],
            "type": "contour"
           }
          ],
          "contourcarpet": [
           {
            "colorbar": {
             "outlinewidth": 0,
             "ticks": ""
            },
            "type": "contourcarpet"
           }
          ],
          "heatmap": [
           {
            "colorbar": {
             "outlinewidth": 0,
             "ticks": ""
            },
            "colorscale": [
             [
              0,
              "#0d0887"
             ],
             [
              0.1111111111111111,
              "#46039f"
             ],
             [
              0.2222222222222222,
              "#7201a8"
             ],
             [
              0.3333333333333333,
              "#9c179e"
             ],
             [
              0.4444444444444444,
              "#bd3786"
             ],
             [
              0.5555555555555556,
              "#d8576b"
             ],
             [
              0.6666666666666666,
              "#ed7953"
             ],
             [
              0.7777777777777778,
              "#fb9f3a"
             ],
             [
              0.8888888888888888,
              "#fdca26"
             ],
             [
              1,
              "#f0f921"
             ]
            ],
            "type": "heatmap"
           }
          ],
          "heatmapgl": [
           {
            "colorbar": {
             "outlinewidth": 0,
             "ticks": ""
            },
            "colorscale": [
             [
              0,
              "#0d0887"
             ],
             [
              0.1111111111111111,
              "#46039f"
             ],
             [
              0.2222222222222222,
              "#7201a8"
             ],
             [
              0.3333333333333333,
              "#9c179e"
             ],
             [
              0.4444444444444444,
              "#bd3786"
             ],
             [
              0.5555555555555556,
              "#d8576b"
             ],
             [
              0.6666666666666666,
              "#ed7953"
             ],
             [
              0.7777777777777778,
              "#fb9f3a"
             ],
             [
              0.8888888888888888,
              "#fdca26"
             ],
             [
              1,
              "#f0f921"
             ]
            ],
            "type": "heatmapgl"
           }
          ],
          "histogram": [
           {
            "marker": {
             "colorbar": {
              "outlinewidth": 0,
              "ticks": ""
             }
            },
            "type": "histogram"
           }
          ],
          "histogram2d": [
           {
            "colorbar": {
             "outlinewidth": 0,
             "ticks": ""
            },
            "colorscale": [
             [
              0,
              "#0d0887"
             ],
             [
              0.1111111111111111,
              "#46039f"
             ],
             [
              0.2222222222222222,
              "#7201a8"
             ],
             [
              0.3333333333333333,
              "#9c179e"
             ],
             [
              0.4444444444444444,
              "#bd3786"
             ],
             [
              0.5555555555555556,
              "#d8576b"
             ],
             [
              0.6666666666666666,
              "#ed7953"
             ],
             [
              0.7777777777777778,
              "#fb9f3a"
             ],
             [
              0.8888888888888888,
              "#fdca26"
             ],
             [
              1,
              "#f0f921"
             ]
            ],
            "type": "histogram2d"
           }
          ],
          "histogram2dcontour": [
           {
            "colorbar": {
             "outlinewidth": 0,
             "ticks": ""
            },
            "colorscale": [
             [
              0,
              "#0d0887"
             ],
             [
              0.1111111111111111,
              "#46039f"
             ],
             [
              0.2222222222222222,
              "#7201a8"
             ],
             [
              0.3333333333333333,
              "#9c179e"
             ],
             [
              0.4444444444444444,
              "#bd3786"
             ],
             [
              0.5555555555555556,
              "#d8576b"
             ],
             [
              0.6666666666666666,
              "#ed7953"
             ],
             [
              0.7777777777777778,
              "#fb9f3a"
             ],
             [
              0.8888888888888888,
              "#fdca26"
             ],
             [
              1,
              "#f0f921"
             ]
            ],
            "type": "histogram2dcontour"
           }
          ],
          "mesh3d": [
           {
            "colorbar": {
             "outlinewidth": 0,
             "ticks": ""
            },
            "type": "mesh3d"
           }
          ],
          "parcoords": [
           {
            "line": {
             "colorbar": {
              "outlinewidth": 0,
              "ticks": ""
             }
            },
            "type": "parcoords"
           }
          ],
          "pie": [
           {
            "automargin": true,
            "type": "pie"
           }
          ],
          "scatter": [
           {
            "marker": {
             "colorbar": {
              "outlinewidth": 0,
              "ticks": ""
             }
            },
            "type": "scatter"
           }
          ],
          "scatter3d": [
           {
            "line": {
             "colorbar": {
              "outlinewidth": 0,
              "ticks": ""
             }
            },
            "marker": {
             "colorbar": {
              "outlinewidth": 0,
              "ticks": ""
             }
            },
            "type": "scatter3d"
           }
          ],
          "scattercarpet": [
           {
            "marker": {
             "colorbar": {
              "outlinewidth": 0,
              "ticks": ""
             }
            },
            "type": "scattercarpet"
           }
          ],
          "scattergeo": [
           {
            "marker": {
             "colorbar": {
              "outlinewidth": 0,
              "ticks": ""
             }
            },
            "type": "scattergeo"
           }
          ],
          "scattergl": [
           {
            "marker": {
             "colorbar": {
              "outlinewidth": 0,
              "ticks": ""
             }
            },
            "type": "scattergl"
           }
          ],
          "scattermapbox": [
           {
            "marker": {
             "colorbar": {
              "outlinewidth": 0,
              "ticks": ""
             }
            },
            "type": "scattermapbox"
           }
          ],
          "scatterpolar": [
           {
            "marker": {
             "colorbar": {
              "outlinewidth": 0,
              "ticks": ""
             }
            },
            "type": "scatterpolar"
           }
          ],
          "scatterpolargl": [
           {
            "marker": {
             "colorbar": {
              "outlinewidth": 0,
              "ticks": ""
             }
            },
            "type": "scatterpolargl"
           }
          ],
          "scatterternary": [
           {
            "marker": {
             "colorbar": {
              "outlinewidth": 0,
              "ticks": ""
             }
            },
            "type": "scatterternary"
           }
          ],
          "surface": [
           {
            "colorbar": {
             "outlinewidth": 0,
             "ticks": ""
            },
            "colorscale": [
             [
              0,
              "#0d0887"
             ],
             [
              0.1111111111111111,
              "#46039f"
             ],
             [
              0.2222222222222222,
              "#7201a8"
             ],
             [
              0.3333333333333333,
              "#9c179e"
             ],
             [
              0.4444444444444444,
              "#bd3786"
             ],
             [
              0.5555555555555556,
              "#d8576b"
             ],
             [
              0.6666666666666666,
              "#ed7953"
             ],
             [
              0.7777777777777778,
              "#fb9f3a"
             ],
             [
              0.8888888888888888,
              "#fdca26"
             ],
             [
              1,
              "#f0f921"
             ]
            ],
            "type": "surface"
           }
          ],
          "table": [
           {
            "cells": {
             "fill": {
              "color": "#EBF0F8"
             },
             "line": {
              "color": "white"
             }
            },
            "header": {
             "fill": {
              "color": "#C8D4E3"
             },
             "line": {
              "color": "white"
             }
            },
            "type": "table"
           }
          ]
         },
         "layout": {
          "annotationdefaults": {
           "arrowcolor": "#2a3f5f",
           "arrowhead": 0,
           "arrowwidth": 1
          },
          "coloraxis": {
           "colorbar": {
            "outlinewidth": 0,
            "ticks": ""
           }
          },
          "colorscale": {
           "diverging": [
            [
             0,
             "#8e0152"
            ],
            [
             0.1,
             "#c51b7d"
            ],
            [
             0.2,
             "#de77ae"
            ],
            [
             0.3,
             "#f1b6da"
            ],
            [
             0.4,
             "#fde0ef"
            ],
            [
             0.5,
             "#f7f7f7"
            ],
            [
             0.6,
             "#e6f5d0"
            ],
            [
             0.7,
             "#b8e186"
            ],
            [
             0.8,
             "#7fbc41"
            ],
            [
             0.9,
             "#4d9221"
            ],
            [
             1,
             "#276419"
            ]
           ],
           "sequential": [
            [
             0,
             "#0d0887"
            ],
            [
             0.1111111111111111,
             "#46039f"
            ],
            [
             0.2222222222222222,
             "#7201a8"
            ],
            [
             0.3333333333333333,
             "#9c179e"
            ],
            [
             0.4444444444444444,
             "#bd3786"
            ],
            [
             0.5555555555555556,
             "#d8576b"
            ],
            [
             0.6666666666666666,
             "#ed7953"
            ],
            [
             0.7777777777777778,
             "#fb9f3a"
            ],
            [
             0.8888888888888888,
             "#fdca26"
            ],
            [
             1,
             "#f0f921"
            ]
           ],
           "sequentialminus": [
            [
             0,
             "#0d0887"
            ],
            [
             0.1111111111111111,
             "#46039f"
            ],
            [
             0.2222222222222222,
             "#7201a8"
            ],
            [
             0.3333333333333333,
             "#9c179e"
            ],
            [
             0.4444444444444444,
             "#bd3786"
            ],
            [
             0.5555555555555556,
             "#d8576b"
            ],
            [
             0.6666666666666666,
             "#ed7953"
            ],
            [
             0.7777777777777778,
             "#fb9f3a"
            ],
            [
             0.8888888888888888,
             "#fdca26"
            ],
            [
             1,
             "#f0f921"
            ]
           ]
          },
          "colorway": [
           "#636efa",
           "#EF553B",
           "#00cc96",
           "#ab63fa",
           "#FFA15A",
           "#19d3f3",
           "#FF6692",
           "#B6E880",
           "#FF97FF",
           "#FECB52"
          ],
          "font": {
           "color": "#2a3f5f"
          },
          "geo": {
           "bgcolor": "white",
           "lakecolor": "white",
           "landcolor": "#E5ECF6",
           "showlakes": true,
           "showland": true,
           "subunitcolor": "white"
          },
          "hoverlabel": {
           "align": "left"
          },
          "hovermode": "closest",
          "mapbox": {
           "style": "light"
          },
          "paper_bgcolor": "white",
          "plot_bgcolor": "#E5ECF6",
          "polar": {
           "angularaxis": {
            "gridcolor": "white",
            "linecolor": "white",
            "ticks": ""
           },
           "bgcolor": "#E5ECF6",
           "radialaxis": {
            "gridcolor": "white",
            "linecolor": "white",
            "ticks": ""
           }
          },
          "scene": {
           "xaxis": {
            "backgroundcolor": "#E5ECF6",
            "gridcolor": "white",
            "gridwidth": 2,
            "linecolor": "white",
            "showbackground": true,
            "ticks": "",
            "zerolinecolor": "white"
           },
           "yaxis": {
            "backgroundcolor": "#E5ECF6",
            "gridcolor": "white",
            "gridwidth": 2,
            "linecolor": "white",
            "showbackground": true,
            "ticks": "",
            "zerolinecolor": "white"
           },
           "zaxis": {
            "backgroundcolor": "#E5ECF6",
            "gridcolor": "white",
            "gridwidth": 2,
            "linecolor": "white",
            "showbackground": true,
            "ticks": "",
            "zerolinecolor": "white"
           }
          },
          "shapedefaults": {
           "line": {
            "color": "#2a3f5f"
           }
          },
          "ternary": {
           "aaxis": {
            "gridcolor": "white",
            "linecolor": "white",
            "ticks": ""
           },
           "baxis": {
            "gridcolor": "white",
            "linecolor": "white",
            "ticks": ""
           },
           "bgcolor": "#E5ECF6",
           "caxis": {
            "gridcolor": "white",
            "linecolor": "white",
            "ticks": ""
           }
          },
          "title": {
           "x": 0.05
          },
          "xaxis": {
           "automargin": true,
           "gridcolor": "white",
           "linecolor": "white",
           "ticks": "",
           "title": {
            "standoff": 15
           },
           "zerolinecolor": "white",
           "zerolinewidth": 2
          },
          "yaxis": {
           "automargin": true,
           "gridcolor": "white",
           "linecolor": "white",
           "ticks": "",
           "title": {
            "standoff": 15
           },
           "zerolinecolor": "white",
           "zerolinewidth": 2
          }
         }
        },
        "title": {
         "text": "Final Shot Frame",
         "x": 0.5,
         "xanchor": "center",
         "y": 0.9,
         "yanchor": "top"
        },
        "width": 700
       }
      },
      "text/html": [
       "<div>                            <div id=\"816b8c8b-3495-4bdd-8a6f-87447d445315\" class=\"plotly-graph-div\" style=\"height:525px; width:700px;\"></div>            <script type=\"text/javascript\">                require([\"plotly\"], function(Plotly) {                    window.PLOTLYENV=window.PLOTLYENV || {};                                    if (document.getElementById(\"816b8c8b-3495-4bdd-8a6f-87447d445315\")) {                    Plotly.newPlot(                        \"816b8c8b-3495-4bdd-8a6f-87447d445315\",                        [{\"hovertemplate\": \"id=0021500001_102<br>x=%{x}<br>y=%{y}<br>z=%{z}<extra></extra>\", \"legendgroup\": \"0021500001_102\", \"marker\": {\"color\": \"#636efa\", \"symbol\": \"circle\"}, \"mode\": \"markers\", \"name\": \"0021500001_102\", \"scene\": \"scene\", \"showlegend\": true, \"type\": \"scatter3d\", \"x\": [5.16697], \"y\": [21.8583], \"z\": [9.37122]}, {\"hovertemplate\": \"id=0021500001_105<br>x=%{x}<br>y=%{y}<br>z=%{z}<extra></extra>\", \"legendgroup\": \"0021500001_105\", \"marker\": {\"color\": \"#EF553B\", \"symbol\": \"circle\"}, \"mode\": \"markers\", \"name\": \"0021500001_105\", \"scene\": \"scene\", \"showlegend\": true, \"type\": \"scatter3d\", \"x\": [4.7902], \"y\": [25.232470000000006], \"z\": [9.26232]}, {\"hovertemplate\": \"id=0021500001_106<br>x=%{x}<br>y=%{y}<br>z=%{z}<extra></extra>\", \"legendgroup\": \"0021500001_106\", \"marker\": {\"color\": \"#00cc96\", \"symbol\": \"circle\"}, \"mode\": \"markers\", \"name\": \"0021500001_106\", \"scene\": \"scene\", \"showlegend\": true, \"type\": \"scatter3d\", \"x\": [9.12544], \"y\": [25.79742], \"z\": [9.7586]}, {\"hovertemplate\": \"id=0021500001_110<br>x=%{x}<br>y=%{y}<br>z=%{z}<extra></extra>\", \"legendgroup\": \"0021500001_110\", \"marker\": {\"color\": \"#ab63fa\", \"symbol\": \"circle\"}, \"mode\": \"markers\", \"name\": \"0021500001_110\", \"scene\": \"scene\", \"showlegend\": true, \"type\": \"scatter3d\", \"x\": [7.08154], \"y\": [23.9951], \"z\": [9.01205]}, {\"hovertemplate\": \"id=0021500001_114<br>x=%{x}<br>y=%{y}<br>z=%{z}<extra></extra>\", \"legendgroup\": \"0021500001_114\", \"marker\": {\"color\": \"#FFA15A\", \"symbol\": \"circle\"}, \"mode\": \"markers\", \"name\": \"0021500001_114\", \"scene\": \"scene\", \"showlegend\": true, \"type\": \"scatter3d\", \"x\": [4.93547], \"y\": [24.56133], \"z\": [9.38868]}, {\"hovertemplate\": \"id=0021500001_125<br>x=%{x}<br>y=%{y}<br>z=%{z}<extra></extra>\", \"legendgroup\": \"0021500001_125\", \"marker\": {\"color\": \"#19d3f3\", \"symbol\": \"circle\"}, \"mode\": \"markers\", \"name\": \"0021500001_125\", \"scene\": \"scene\", \"showlegend\": true, \"type\": \"scatter3d\", \"x\": [8.28985], \"y\": [27.18849], \"z\": [9.53133]}, {\"hovertemplate\": \"id=0021500001_132<br>x=%{x}<br>y=%{y}<br>z=%{z}<extra></extra>\", \"legendgroup\": \"0021500001_132\", \"marker\": {\"color\": \"#FF6692\", \"symbol\": \"circle\"}, \"mode\": \"markers\", \"name\": \"0021500001_132\", \"scene\": \"scene\", \"showlegend\": true, \"type\": \"scatter3d\", \"x\": [6.18633], \"y\": [27.805], \"z\": [9.5687]}, {\"hovertemplate\": \"id=0021500001_139<br>x=%{x}<br>y=%{y}<br>z=%{z}<extra></extra>\", \"legendgroup\": \"0021500001_139\", \"marker\": {\"color\": \"#B6E880\", \"symbol\": \"circle\"}, \"mode\": \"markers\", \"name\": \"0021500001_139\", \"scene\": \"scene\", \"showlegend\": true, \"type\": \"scatter3d\", \"x\": [4.667669999999998], \"y\": [25.33696], \"z\": [9.01515]}, {\"hovertemplate\": \"id=0021500001_148<br>x=%{x}<br>y=%{y}<br>z=%{z}<extra></extra>\", \"legendgroup\": \"0021500001_148\", \"marker\": {\"color\": \"#FF97FF\", \"symbol\": \"circle\"}, \"mode\": \"markers\", \"name\": \"0021500001_148\", \"scene\": \"scene\", \"showlegend\": true, \"type\": \"scatter3d\", \"x\": [4.95988], \"y\": [24.707420000000006], \"z\": [9.24265]}, {\"hovertemplate\": \"id=0021500001_155<br>x=%{x}<br>y=%{y}<br>z=%{z}<extra></extra>\", \"legendgroup\": \"0021500001_155\", \"marker\": {\"color\": \"#FECB52\", \"symbol\": \"circle\"}, \"mode\": \"markers\", \"name\": \"0021500001_155\", \"scene\": \"scene\", \"showlegend\": true, \"type\": \"scatter3d\", \"x\": [5.41369], \"y\": [25.40903], \"z\": [9.24586]}, {\"hovertemplate\": \"id=0021500001_158<br>x=%{x}<br>y=%{y}<br>z=%{z}<extra></extra>\", \"legendgroup\": \"0021500001_158\", \"marker\": {\"color\": \"#636efa\", \"symbol\": \"circle\"}, \"mode\": \"markers\", \"name\": \"0021500001_158\", \"scene\": \"scene\", \"showlegend\": true, \"type\": \"scatter3d\", \"x\": [5.50731], \"y\": [24.09778], \"z\": [9.01441]}, {\"hovertemplate\": \"id=0021500001_159<br>x=%{x}<br>y=%{y}<br>z=%{z}<extra></extra>\", \"legendgroup\": \"0021500001_159\", \"marker\": {\"color\": \"#EF553B\", \"symbol\": \"circle\"}, \"mode\": \"markers\", \"name\": \"0021500001_159\", \"scene\": \"scene\", \"showlegend\": true, \"type\": \"scatter3d\", \"x\": [10.87545], \"y\": [23.01679], \"z\": [9.45387]}, {\"hovertemplate\": \"id=0021500001_161<br>x=%{x}<br>y=%{y}<br>z=%{z}<extra></extra>\", \"legendgroup\": \"0021500001_161\", \"marker\": {\"color\": \"#00cc96\", \"symbol\": \"circle\"}, \"mode\": \"markers\", \"name\": \"0021500001_161\", \"scene\": \"scene\", \"showlegend\": true, \"type\": \"scatter3d\", \"x\": [7.733219999999998], \"y\": [25.36815], \"z\": [9.15488]}, {\"hovertemplate\": \"id=0021500001_166<br>x=%{x}<br>y=%{y}<br>z=%{z}<extra></extra>\", \"legendgroup\": \"0021500001_166\", \"marker\": {\"color\": \"#ab63fa\", \"symbol\": \"circle\"}, \"mode\": \"markers\", \"name\": \"0021500001_166\", \"scene\": \"scene\", \"showlegend\": true, \"type\": \"scatter3d\", \"x\": [3.87611], \"y\": [30.61813], \"z\": [9.10729]}, {\"hovertemplate\": \"id=0021500001_168<br>x=%{x}<br>y=%{y}<br>z=%{z}<extra></extra>\", \"legendgroup\": \"0021500001_168\", \"marker\": {\"color\": \"#FFA15A\", \"symbol\": \"circle\"}, \"mode\": \"markers\", \"name\": \"0021500001_168\", \"scene\": \"scene\", \"showlegend\": true, \"type\": \"scatter3d\", \"x\": [4.97088], \"y\": [24.49588], \"z\": [9.02923]}, {\"hovertemplate\": \"id=0021500001_170<br>x=%{x}<br>y=%{y}<br>z=%{z}<extra></extra>\", \"legendgroup\": \"0021500001_170\", \"marker\": {\"color\": \"#19d3f3\", \"symbol\": \"circle\"}, \"mode\": \"markers\", \"name\": \"0021500001_170\", \"scene\": \"scene\", \"showlegend\": true, \"type\": \"scatter3d\", \"x\": [5.20707], \"y\": [25.13061], \"z\": [9.51936]}, {\"hovertemplate\": \"id=0021500001_173<br>x=%{x}<br>y=%{y}<br>z=%{z}<extra></extra>\", \"legendgroup\": \"0021500001_173\", \"marker\": {\"color\": \"#FF6692\", \"symbol\": \"circle\"}, \"mode\": \"markers\", \"name\": \"0021500001_173\", \"scene\": \"scene\", \"showlegend\": true, \"type\": \"scatter3d\", \"x\": [7.812810000000002], \"y\": [22.27914], \"z\": [9.44387]}, {\"hovertemplate\": \"id=0021500001_181<br>x=%{x}<br>y=%{y}<br>z=%{z}<extra></extra>\", \"legendgroup\": \"0021500001_181\", \"marker\": {\"color\": \"#B6E880\", \"symbol\": \"circle\"}, \"mode\": \"markers\", \"name\": \"0021500001_181\", \"scene\": \"scene\", \"showlegend\": true, \"type\": \"scatter3d\", \"x\": [7.5354100000000015], \"y\": [29.48276], \"z\": [9.37273]}, {\"hovertemplate\": \"id=0021500001_184<br>x=%{x}<br>y=%{y}<br>z=%{z}<extra></extra>\", \"legendgroup\": \"0021500001_184\", \"marker\": {\"color\": \"#FF97FF\", \"symbol\": \"circle\"}, \"mode\": \"markers\", \"name\": \"0021500001_184\", \"scene\": \"scene\", \"showlegend\": true, \"type\": \"scatter3d\", \"x\": [5.2862], \"y\": [24.91276], \"z\": [9.03687]}, {\"hovertemplate\": \"id=0021500001_20<br>x=%{x}<br>y=%{y}<br>z=%{z}<extra></extra>\", \"legendgroup\": \"0021500001_20\", \"marker\": {\"color\": \"#FECB52\", \"symbol\": \"circle\"}, \"mode\": \"markers\", \"name\": \"0021500001_20\", \"scene\": \"scene\", \"showlegend\": true, \"type\": \"scatter3d\", \"x\": [5.84143], \"y\": [26.07608], \"z\": [9.13954]}, {\"hovertemplate\": \"id=0021500001_202<br>x=%{x}<br>y=%{y}<br>z=%{z}<extra></extra>\", \"legendgroup\": \"0021500001_202\", \"marker\": {\"color\": \"#636efa\", \"symbol\": \"circle\"}, \"mode\": \"markers\", \"name\": \"0021500001_202\", \"scene\": \"scene\", \"showlegend\": true, \"type\": \"scatter3d\", \"x\": [8.36335], \"y\": [28.47691], \"z\": [9.1835]}, {\"hovertemplate\": \"id=0021500001_205<br>x=%{x}<br>y=%{y}<br>z=%{z}<extra></extra>\", \"legendgroup\": \"0021500001_205\", \"marker\": {\"color\": \"#EF553B\", \"symbol\": \"circle\"}, \"mode\": \"markers\", \"name\": \"0021500001_205\", \"scene\": \"scene\", \"showlegend\": true, \"type\": \"scatter3d\", \"x\": [8.17581], \"y\": [23.29826], \"z\": [9.11979]}, {\"hovertemplate\": \"id=0021500001_218<br>x=%{x}<br>y=%{y}<br>z=%{z}<extra></extra>\", \"legendgroup\": \"0021500001_218\", \"marker\": {\"color\": \"#00cc96\", \"symbol\": \"circle\"}, \"mode\": \"markers\", \"name\": \"0021500001_218\", \"scene\": \"scene\", \"showlegend\": true, \"type\": \"scatter3d\", \"x\": [6.16602], \"y\": [22.4893], \"z\": [9.64118]}, {\"hovertemplate\": \"id=0021500001_229<br>x=%{x}<br>y=%{y}<br>z=%{z}<extra></extra>\", \"legendgroup\": \"0021500001_229\", \"marker\": {\"color\": \"#ab63fa\", \"symbol\": \"circle\"}, \"mode\": \"markers\", \"name\": \"0021500001_229\", \"scene\": \"scene\", \"showlegend\": true, \"type\": \"scatter3d\", \"x\": [5.04406], \"y\": [25.31379], \"z\": [9.18702]}, {\"hovertemplate\": \"id=0021500001_235<br>x=%{x}<br>y=%{y}<br>z=%{z}<extra></extra>\", \"legendgroup\": \"0021500001_235\", \"marker\": {\"color\": \"#FFA15A\", \"symbol\": \"circle\"}, \"mode\": \"markers\", \"name\": \"0021500001_235\", \"scene\": \"scene\", \"showlegend\": true, \"type\": \"scatter3d\", \"x\": [5.63515], \"y\": [22.11893], \"z\": [9.49154]}, {\"hovertemplate\": \"id=0021500001_247<br>x=%{x}<br>y=%{y}<br>z=%{z}<extra></extra>\", \"legendgroup\": \"0021500001_247\", \"marker\": {\"color\": \"#19d3f3\", \"symbol\": \"circle\"}, \"mode\": \"markers\", \"name\": \"0021500001_247\", \"scene\": \"scene\", \"showlegend\": true, \"type\": \"scatter3d\", \"x\": [4.9915], \"y\": [23.97695], \"z\": [9.03843]}, {\"hovertemplate\": \"id=0021500001_256<br>x=%{x}<br>y=%{y}<br>z=%{z}<extra></extra>\", \"legendgroup\": \"0021500001_256\", \"marker\": {\"color\": \"#FF6692\", \"symbol\": \"circle\"}, \"mode\": \"markers\", \"name\": \"0021500001_256\", \"scene\": \"scene\", \"showlegend\": true, \"type\": \"scatter3d\", \"x\": [5.2945400000000005], \"y\": [24.94559], \"z\": [9.04315]}, {\"hovertemplate\": \"id=0021500001_259<br>x=%{x}<br>y=%{y}<br>z=%{z}<extra></extra>\", \"legendgroup\": \"0021500001_259\", \"marker\": {\"color\": \"#B6E880\", \"symbol\": \"circle\"}, \"mode\": \"markers\", \"name\": \"0021500001_259\", \"scene\": \"scene\", \"showlegend\": true, \"type\": \"scatter3d\", \"x\": [18.95525], \"y\": [23.12105], \"z\": [8.56865]}, {\"hovertemplate\": \"id=0021500001_261<br>x=%{x}<br>y=%{y}<br>z=%{z}<extra></extra>\", \"legendgroup\": \"0021500001_261\", \"marker\": {\"color\": \"#FF97FF\", \"symbol\": \"circle\"}, \"mode\": \"markers\", \"name\": \"0021500001_261\", \"scene\": \"scene\", \"showlegend\": true, \"type\": \"scatter3d\", \"x\": [8.14756], \"y\": [26.08274], \"z\": [9.0908]}, {\"hovertemplate\": \"id=0021500001_35<br>x=%{x}<br>y=%{y}<br>z=%{z}<extra></extra>\", \"legendgroup\": \"0021500001_35\", \"marker\": {\"color\": \"#FECB52\", \"symbol\": \"circle\"}, \"mode\": \"markers\", \"name\": \"0021500001_35\", \"scene\": \"scene\", \"showlegend\": true, \"type\": \"scatter3d\", \"x\": [5.27688], \"y\": [25.12103], \"z\": [9.51402]}, {\"hovertemplate\": \"id=0021500001_41<br>x=%{x}<br>y=%{y}<br>z=%{z}<extra></extra>\", \"legendgroup\": \"0021500001_41\", \"marker\": {\"color\": \"#636efa\", \"symbol\": \"circle\"}, \"mode\": \"markers\", \"name\": \"0021500001_41\", \"scene\": \"scene\", \"showlegend\": true, \"type\": \"scatter3d\", \"x\": [5.8841199999999985], \"y\": [25.11765], \"z\": [9.09344]}, {\"hovertemplate\": \"id=0021500001_56<br>x=%{x}<br>y=%{y}<br>z=%{z}<extra></extra>\", \"legendgroup\": \"0021500001_56\", \"marker\": {\"color\": \"#EF553B\", \"symbol\": \"circle\"}, \"mode\": \"markers\", \"name\": \"0021500001_56\", \"scene\": \"scene\", \"showlegend\": true, \"type\": \"scatter3d\", \"x\": [6.17249], \"y\": [25.70008], \"z\": [9.10982]}, {\"hovertemplate\": \"id=0021500001_77<br>x=%{x}<br>y=%{y}<br>z=%{z}<extra></extra>\", \"legendgroup\": \"0021500001_77\", \"marker\": {\"color\": \"#00cc96\", \"symbol\": \"circle\"}, \"mode\": \"markers\", \"name\": \"0021500001_77\", \"scene\": \"scene\", \"showlegend\": true, \"type\": \"scatter3d\", \"x\": [5.48689], \"y\": [24.1752], \"z\": [9.33353]}, {\"hovertemplate\": \"id=0021500001_83<br>x=%{x}<br>y=%{y}<br>z=%{z}<extra></extra>\", \"legendgroup\": \"0021500001_83\", \"marker\": {\"color\": \"#ab63fa\", \"symbol\": \"circle\"}, \"mode\": \"markers\", \"name\": \"0021500001_83\", \"scene\": \"scene\", \"showlegend\": true, \"type\": \"scatter3d\", \"x\": [8.6111], \"y\": [25.371270000000006], \"z\": [9.04366]}, {\"hovertemplate\": \"id=0021500001_90<br>x=%{x}<br>y=%{y}<br>z=%{z}<extra></extra>\", \"legendgroup\": \"0021500001_90\", \"marker\": {\"color\": \"#FFA15A\", \"symbol\": \"circle\"}, \"mode\": \"markers\", \"name\": \"0021500001_90\", \"scene\": \"scene\", \"showlegend\": true, \"type\": \"scatter3d\", \"x\": [4.97759], \"y\": [23.02021], \"z\": [9.21694]}, {\"hovertemplate\": \"id=0021500001_94<br>x=%{x}<br>y=%{y}<br>z=%{z}<extra></extra>\", \"legendgroup\": \"0021500001_94\", \"marker\": {\"color\": \"#19d3f3\", \"symbol\": \"circle\"}, \"mode\": \"markers\", \"name\": \"0021500001_94\", \"scene\": \"scene\", \"showlegend\": true, \"type\": \"scatter3d\", \"x\": [4.60431], \"y\": [24.44507], \"z\": [9.14992]}, {\"hovertemplate\": \"id=0021500001_98<br>x=%{x}<br>y=%{y}<br>z=%{z}<extra></extra>\", \"legendgroup\": \"0021500001_98\", \"marker\": {\"color\": \"#FF6692\", \"symbol\": \"circle\"}, \"mode\": \"markers\", \"name\": \"0021500001_98\", \"scene\": \"scene\", \"showlegend\": true, \"type\": \"scatter3d\", \"x\": [7.32608], \"y\": [22.54015], \"z\": [9.16557]}, {\"hovertemplate\": \"id=0021500002_103<br>x=%{x}<br>y=%{y}<br>z=%{z}<extra></extra>\", \"legendgroup\": \"0021500002_103\", \"marker\": {\"color\": \"#B6E880\", \"symbol\": \"circle\"}, \"mode\": \"markers\", \"name\": \"0021500002_103\", \"scene\": \"scene\", \"showlegend\": true, \"type\": \"scatter3d\", \"x\": [20.58294], \"y\": [25.44182], \"z\": [9.02594]}, {\"hovertemplate\": \"id=0021500002_112<br>x=%{x}<br>y=%{y}<br>z=%{z}<extra></extra>\", \"legendgroup\": \"0021500002_112\", \"marker\": {\"color\": \"#FF97FF\", \"symbol\": \"circle\"}, \"mode\": \"markers\", \"name\": \"0021500002_112\", \"scene\": \"scene\", \"showlegend\": true, \"type\": \"scatter3d\", \"x\": [7.4634], \"y\": [18.58765], \"z\": [9.19354]}, {\"hovertemplate\": \"id=0021500002_115<br>x=%{x}<br>y=%{y}<br>z=%{z}<extra></extra>\", \"legendgroup\": \"0021500002_115\", \"marker\": {\"color\": \"#FECB52\", \"symbol\": \"circle\"}, \"mode\": \"markers\", \"name\": \"0021500002_115\", \"scene\": \"scene\", \"showlegend\": true, \"type\": \"scatter3d\", \"x\": [5.61784], \"y\": [24.91084], \"z\": [9.43221]}, {\"hovertemplate\": \"id=0021500002_120<br>x=%{x}<br>y=%{y}<br>z=%{z}<extra></extra>\", \"legendgroup\": \"0021500002_120\", \"marker\": {\"color\": \"#636efa\", \"symbol\": \"circle\"}, \"mode\": \"markers\", \"name\": \"0021500002_120\", \"scene\": \"scene\", \"showlegend\": true, \"type\": \"scatter3d\", \"x\": [5.31307], \"y\": [21.28574], \"z\": [9.26123]}, {\"hovertemplate\": \"id=0021500002_126<br>x=%{x}<br>y=%{y}<br>z=%{z}<extra></extra>\", \"legendgroup\": \"0021500002_126\", \"marker\": {\"color\": \"#EF553B\", \"symbol\": \"circle\"}, \"mode\": \"markers\", \"name\": \"0021500002_126\", \"scene\": \"scene\", \"showlegend\": true, \"type\": \"scatter3d\", \"x\": [5.0818699999999986], \"y\": [25.08124], \"z\": [9.05121]}, {\"hovertemplate\": \"id=0021500002_129<br>x=%{x}<br>y=%{y}<br>z=%{z}<extra></extra>\", \"legendgroup\": \"0021500002_129\", \"marker\": {\"color\": \"#00cc96\", \"symbol\": \"circle\"}, \"mode\": \"markers\", \"name\": \"0021500002_129\", \"scene\": \"scene\", \"showlegend\": true, \"type\": \"scatter3d\", \"x\": [7.19387], \"y\": [19.98943], \"z\": [9.00633]}, {\"hovertemplate\": \"id=0021500002_139<br>x=%{x}<br>y=%{y}<br>z=%{z}<extra></extra>\", \"legendgroup\": \"0021500002_139\", \"marker\": {\"color\": \"#ab63fa\", \"symbol\": \"circle\"}, \"mode\": \"markers\", \"name\": \"0021500002_139\", \"scene\": \"scene\", \"showlegend\": true, \"type\": \"scatter3d\", \"x\": [6.0787900000000015], \"y\": [25.32371], \"z\": [9.22225]}, {\"hovertemplate\": \"id=0021500002_147<br>x=%{x}<br>y=%{y}<br>z=%{z}<extra></extra>\", \"legendgroup\": \"0021500002_147\", \"marker\": {\"color\": \"#FFA15A\", \"symbol\": \"circle\"}, \"mode\": \"markers\", \"name\": \"0021500002_147\", \"scene\": \"scene\", \"showlegend\": true, \"type\": \"scatter3d\", \"x\": [11.48053], \"y\": [26.15321], \"z\": [9.19638]}, {\"hovertemplate\": \"id=0021500002_148<br>x=%{x}<br>y=%{y}<br>z=%{z}<extra></extra>\", \"legendgroup\": \"0021500002_148\", \"marker\": {\"color\": \"#19d3f3\", \"symbol\": \"circle\"}, \"mode\": \"markers\", \"name\": \"0021500002_148\", \"scene\": \"scene\", \"showlegend\": true, \"type\": \"scatter3d\", \"x\": [11.02609], \"y\": [19.67215], \"z\": [9.27641]}, {\"hovertemplate\": \"id=0021500002_150<br>x=%{x}<br>y=%{y}<br>z=%{z}<extra></extra>\", \"legendgroup\": \"0021500002_150\", \"marker\": {\"color\": \"#FF6692\", \"symbol\": \"circle\"}, \"mode\": \"markers\", \"name\": \"0021500002_150\", \"scene\": \"scene\", \"showlegend\": true, \"type\": \"scatter3d\", \"x\": [5.05919], \"y\": [25.01304], \"z\": [9.04309]}, {\"hovertemplate\": \"id=0021500002_153<br>x=%{x}<br>y=%{y}<br>z=%{z}<extra></extra>\", \"legendgroup\": \"0021500002_153\", \"marker\": {\"color\": \"#B6E880\", \"symbol\": \"circle\"}, \"mode\": \"markers\", \"name\": \"0021500002_153\", \"scene\": \"scene\", \"showlegend\": true, \"type\": \"scatter3d\", \"x\": [6.4809199999999985], \"y\": [24.54547], \"z\": [10.00175]}, {\"hovertemplate\": \"id=0021500002_171<br>x=%{x}<br>y=%{y}<br>z=%{z}<extra></extra>\", \"legendgroup\": \"0021500002_171\", \"marker\": {\"color\": \"#FF97FF\", \"symbol\": \"circle\"}, \"mode\": \"markers\", \"name\": \"0021500002_171\", \"scene\": \"scene\", \"showlegend\": true, \"type\": \"scatter3d\", \"x\": [8.7381], \"y\": [27.72728], \"z\": [9.17017]}, {\"hovertemplate\": \"id=0021500002_179<br>x=%{x}<br>y=%{y}<br>z=%{z}<extra></extra>\", \"legendgroup\": \"0021500002_179\", \"marker\": {\"color\": \"#FECB52\", \"symbol\": \"circle\"}, \"mode\": \"markers\", \"name\": \"0021500002_179\", \"scene\": \"scene\", \"showlegend\": true, \"type\": \"scatter3d\", \"x\": [4.06154], \"y\": [30.46811], \"z\": [9.39139]}, {\"hovertemplate\": \"id=0021500002_184<br>x=%{x}<br>y=%{y}<br>z=%{z}<extra></extra>\", \"legendgroup\": \"0021500002_184\", \"marker\": {\"color\": \"#636efa\", \"symbol\": \"circle\"}, \"mode\": \"markers\", \"name\": \"0021500002_184\", \"scene\": \"scene\", \"showlegend\": true, \"type\": \"scatter3d\", \"x\": [5.27156], \"y\": [25.03762], \"z\": [9.36042]}, {\"hovertemplate\": \"id=0021500002_193<br>x=%{x}<br>y=%{y}<br>z=%{z}<extra></extra>\", \"legendgroup\": \"0021500002_193\", \"marker\": {\"color\": \"#EF553B\", \"symbol\": \"circle\"}, \"mode\": \"markers\", \"name\": \"0021500002_193\", \"scene\": \"scene\", \"showlegend\": true, \"type\": \"scatter3d\", \"x\": [8.277610000000001], \"y\": [24.33505], \"z\": [9.34141]}, {\"hovertemplate\": \"id=0021500002_199<br>x=%{x}<br>y=%{y}<br>z=%{z}<extra></extra>\", \"legendgroup\": \"0021500002_199\", \"marker\": {\"color\": \"#00cc96\", \"symbol\": \"circle\"}, \"mode\": \"markers\", \"name\": \"0021500002_199\", \"scene\": \"scene\", \"showlegend\": true, \"type\": \"scatter3d\", \"x\": [5.2109], \"y\": [24.83887], \"z\": [9.00441]}, {\"hovertemplate\": \"id=0021500002_208<br>x=%{x}<br>y=%{y}<br>z=%{z}<extra></extra>\", \"legendgroup\": \"0021500002_208\", \"marker\": {\"color\": \"#ab63fa\", \"symbol\": \"circle\"}, \"mode\": \"markers\", \"name\": \"0021500002_208\", \"scene\": \"scene\", \"showlegend\": true, \"type\": \"scatter3d\", \"x\": [6.12645], \"y\": [26.072470000000006], \"z\": [9.11897]}, {\"hovertemplate\": \"id=0021500002_219<br>x=%{x}<br>y=%{y}<br>z=%{z}<extra></extra>\", \"legendgroup\": \"0021500002_219\", \"marker\": {\"color\": \"#FFA15A\", \"symbol\": \"circle\"}, \"mode\": \"markers\", \"name\": \"0021500002_219\", \"scene\": \"scene\", \"showlegend\": true, \"type\": \"scatter3d\", \"x\": [3.90571], \"y\": [33.48249000000001], \"z\": [9.10276]}, {\"hovertemplate\": \"id=0021500002_244<br>x=%{x}<br>y=%{y}<br>z=%{z}<extra></extra>\", \"legendgroup\": \"0021500002_244\", \"marker\": {\"color\": \"#19d3f3\", \"symbol\": \"circle\"}, \"mode\": \"markers\", \"name\": \"0021500002_244\", \"scene\": \"scene\", \"showlegend\": true, \"type\": \"scatter3d\", \"x\": [7.4129], \"y\": [27.06571], \"z\": [9.31821]}, {\"hovertemplate\": \"id=0021500002_254<br>x=%{x}<br>y=%{y}<br>z=%{z}<extra></extra>\", \"legendgroup\": \"0021500002_254\", \"marker\": {\"color\": \"#FF6692\", \"symbol\": \"circle\"}, \"mode\": \"markers\", \"name\": \"0021500002_254\", \"scene\": \"scene\", \"showlegend\": true, \"type\": \"scatter3d\", \"x\": [5.41647], \"y\": [24.69925], \"z\": [9.20005]}, {\"hovertemplate\": \"id=0021500002_257<br>x=%{x}<br>y=%{y}<br>z=%{z}<extra></extra>\", \"legendgroup\": \"0021500002_257\", \"marker\": {\"color\": \"#B6E880\", \"symbol\": \"circle\"}, \"mode\": \"markers\", \"name\": \"0021500002_257\", \"scene\": \"scene\", \"showlegend\": true, \"type\": \"scatter3d\", \"x\": [4.84874], \"y\": [25.87398], \"z\": [9.12929]}, {\"hovertemplate\": \"id=0021500002_28<br>x=%{x}<br>y=%{y}<br>z=%{z}<extra></extra>\", \"legendgroup\": \"0021500002_28\", \"marker\": {\"color\": \"#FF97FF\", \"symbol\": \"circle\"}, \"mode\": \"markers\", \"name\": \"0021500002_28\", \"scene\": \"scene\", \"showlegend\": true, \"type\": \"scatter3d\", \"x\": [5.38657], \"y\": [20.83864], \"z\": [9.42305]}, {\"hovertemplate\": \"id=0021500002_30<br>x=%{x}<br>y=%{y}<br>z=%{z}<extra></extra>\", \"legendgroup\": \"0021500002_30\", \"marker\": {\"color\": \"#FECB52\", \"symbol\": \"circle\"}, \"mode\": \"markers\", \"name\": \"0021500002_30\", \"scene\": \"scene\", \"showlegend\": true, \"type\": \"scatter3d\", \"x\": [4.68773], \"y\": [32.04286], \"z\": [9.26925]}, {\"hovertemplate\": \"id=0021500002_31<br>x=%{x}<br>y=%{y}<br>z=%{z}<extra></extra>\", \"legendgroup\": \"0021500002_31\", \"marker\": {\"color\": \"#636efa\", \"symbol\": \"circle\"}, \"mode\": \"markers\", \"name\": \"0021500002_31\", \"scene\": \"scene\", \"showlegend\": true, \"type\": \"scatter3d\", \"x\": [5.3138], \"y\": [25.03894], \"z\": [9.3367]}, {\"hovertemplate\": \"id=0021500002_32<br>x=%{x}<br>y=%{y}<br>z=%{z}<extra></extra>\", \"legendgroup\": \"0021500002_32\", \"marker\": {\"color\": \"#EF553B\", \"symbol\": \"circle\"}, \"mode\": \"markers\", \"name\": \"0021500002_32\", \"scene\": \"scene\", \"showlegend\": true, \"type\": \"scatter3d\", \"x\": [5.06302], \"y\": [24.65264], \"z\": [9.28613]}, {\"hovertemplate\": \"id=0021500002_33<br>x=%{x}<br>y=%{y}<br>z=%{z}<extra></extra>\", \"legendgroup\": \"0021500002_33\", \"marker\": {\"color\": \"#00cc96\", \"symbol\": \"circle\"}, \"mode\": \"markers\", \"name\": \"0021500002_33\", \"scene\": \"scene\", \"showlegend\": true, \"type\": \"scatter3d\", \"x\": [6.42671], \"y\": [25.26327], \"z\": [9.0226]}, {\"hovertemplate\": \"id=0021500002_36<br>x=%{x}<br>y=%{y}<br>z=%{z}<extra></extra>\", \"legendgroup\": \"0021500002_36\", \"marker\": {\"color\": \"#ab63fa\", \"symbol\": \"circle\"}, \"mode\": \"markers\", \"name\": \"0021500002_36\", \"scene\": \"scene\", \"showlegend\": true, \"type\": \"scatter3d\", \"x\": [15.11053], \"y\": [33.6762], \"z\": [8.728660000000001]}, {\"hovertemplate\": \"id=0021500002_37<br>x=%{x}<br>y=%{y}<br>z=%{z}<extra></extra>\", \"legendgroup\": \"0021500002_37\", \"marker\": {\"color\": \"#FFA15A\", \"symbol\": \"circle\"}, \"mode\": \"markers\", \"name\": \"0021500002_37\", \"scene\": \"scene\", \"showlegend\": true, \"type\": \"scatter3d\", \"x\": [14.47962], \"y\": [25.84232], \"z\": [9.07456]}, {\"hovertemplate\": \"id=0021500002_53<br>x=%{x}<br>y=%{y}<br>z=%{z}<extra></extra>\", \"legendgroup\": \"0021500002_53\", \"marker\": {\"color\": \"#19d3f3\", \"symbol\": \"circle\"}, \"mode\": \"markers\", \"name\": \"0021500002_53\", \"scene\": \"scene\", \"showlegend\": true, \"type\": \"scatter3d\", \"x\": [5.44335], \"y\": [26.92509], \"z\": [9.07478]}, {\"hovertemplate\": \"id=0021500002_55<br>x=%{x}<br>y=%{y}<br>z=%{z}<extra></extra>\", \"legendgroup\": \"0021500002_55\", \"marker\": {\"color\": \"#FF6692\", \"symbol\": \"circle\"}, \"mode\": \"markers\", \"name\": \"0021500002_55\", \"scene\": \"scene\", \"showlegend\": true, \"type\": \"scatter3d\", \"x\": [5.32954], \"y\": [18.495420000000006], \"z\": [9.25633]}, {\"hovertemplate\": \"id=0021500002_73<br>x=%{x}<br>y=%{y}<br>z=%{z}<extra></extra>\", \"legendgroup\": \"0021500002_73\", \"marker\": {\"color\": \"#B6E880\", \"symbol\": \"circle\"}, \"mode\": \"markers\", \"name\": \"0021500002_73\", \"scene\": \"scene\", \"showlegend\": true, \"type\": \"scatter3d\", \"x\": [12.05994], \"y\": [32.51563], \"z\": [8.45463]}, {\"hovertemplate\": \"id=0021500002_84<br>x=%{x}<br>y=%{y}<br>z=%{z}<extra></extra>\", \"legendgroup\": \"0021500002_84\", \"marker\": {\"color\": \"#FF97FF\", \"symbol\": \"circle\"}, \"mode\": \"markers\", \"name\": \"0021500002_84\", \"scene\": \"scene\", \"showlegend\": true, \"type\": \"scatter3d\", \"x\": [10.37608], \"y\": [27.23273], \"z\": [9.23804]}, {\"hovertemplate\": \"id=0021500002_88<br>x=%{x}<br>y=%{y}<br>z=%{z}<extra></extra>\", \"legendgroup\": \"0021500002_88\", \"marker\": {\"color\": \"#FECB52\", \"symbol\": \"circle\"}, \"mode\": \"markers\", \"name\": \"0021500002_88\", \"scene\": \"scene\", \"showlegend\": true, \"type\": \"scatter3d\", \"x\": [5.75758], \"y\": [25.36865], \"z\": [9.91294]}, {\"hovertemplate\": \"id=0021500003_108<br>x=%{x}<br>y=%{y}<br>z=%{z}<extra></extra>\", \"legendgroup\": \"0021500003_108\", \"marker\": {\"color\": \"#636efa\", \"symbol\": \"circle\"}, \"mode\": \"markers\", \"name\": \"0021500003_108\", \"scene\": \"scene\", \"showlegend\": true, \"type\": \"scatter3d\", \"x\": [6.5891899999999985], \"y\": [25.76023], \"z\": [9.03375]}, {\"hovertemplate\": \"id=0021500003_11<br>x=%{x}<br>y=%{y}<br>z=%{z}<extra></extra>\", \"legendgroup\": \"0021500003_11\", \"marker\": {\"color\": \"#EF553B\", \"symbol\": \"circle\"}, \"mode\": \"markers\", \"name\": \"0021500003_11\", \"scene\": \"scene\", \"showlegend\": true, \"type\": \"scatter3d\", \"x\": [8.14502], \"y\": [23.65183], \"z\": [9.15424]}, {\"hovertemplate\": \"id=0021500003_111<br>x=%{x}<br>y=%{y}<br>z=%{z}<extra></extra>\", \"legendgroup\": \"0021500003_111\", \"marker\": {\"color\": \"#00cc96\", \"symbol\": \"circle\"}, \"mode\": \"markers\", \"name\": \"0021500003_111\", \"scene\": \"scene\", \"showlegend\": true, \"type\": \"scatter3d\", \"x\": [4.97661], \"y\": [25.159], \"z\": [9.92808]}, {\"hovertemplate\": \"id=0021500003_114<br>x=%{x}<br>y=%{y}<br>z=%{z}<extra></extra>\", \"legendgroup\": \"0021500003_114\", \"marker\": {\"color\": \"#ab63fa\", \"symbol\": \"circle\"}, \"mode\": \"markers\", \"name\": \"0021500003_114\", \"scene\": \"scene\", \"showlegend\": true, \"type\": \"scatter3d\", \"x\": [6.02749], \"y\": [24.61003], \"z\": [9.4828]}, {\"hovertemplate\": \"id=0021500003_117<br>x=%{x}<br>y=%{y}<br>z=%{z}<extra></extra>\", \"legendgroup\": \"0021500003_117\", \"marker\": {\"color\": \"#FFA15A\", \"symbol\": \"circle\"}, \"mode\": \"markers\", \"name\": \"0021500003_117\", \"scene\": \"scene\", \"showlegend\": true, \"type\": \"scatter3d\", \"x\": [9.71609], \"y\": [26.77412], \"z\": [9.04329]}, {\"hovertemplate\": \"id=0021500003_126<br>x=%{x}<br>y=%{y}<br>z=%{z}<extra></extra>\", \"legendgroup\": \"0021500003_126\", \"marker\": {\"color\": \"#19d3f3\", \"symbol\": \"circle\"}, \"mode\": \"markers\", \"name\": \"0021500003_126\", \"scene\": \"scene\", \"showlegend\": true, \"type\": \"scatter3d\", \"x\": [9.3079], \"y\": [25.40517], \"z\": [9.05237]}, {\"hovertemplate\": \"id=0021500003_127<br>x=%{x}<br>y=%{y}<br>z=%{z}<extra></extra>\", \"legendgroup\": \"0021500003_127\", \"marker\": {\"color\": \"#FF6692\", \"symbol\": \"circle\"}, \"mode\": \"markers\", \"name\": \"0021500003_127\", \"scene\": \"scene\", \"showlegend\": true, \"type\": \"scatter3d\", \"x\": [7.9127399999999986], \"y\": [23.48164], \"z\": [9.28765]}, {\"hovertemplate\": \"id=0021500003_128<br>x=%{x}<br>y=%{y}<br>z=%{z}<extra></extra>\", \"legendgroup\": \"0021500003_128\", \"marker\": {\"color\": \"#B6E880\", \"symbol\": \"circle\"}, \"mode\": \"markers\", \"name\": \"0021500003_128\", \"scene\": \"scene\", \"showlegend\": true, \"type\": \"scatter3d\", \"x\": [6.02361], \"y\": [22.75833], \"z\": [9.3752]}, {\"hovertemplate\": \"id=0021500003_130<br>x=%{x}<br>y=%{y}<br>z=%{z}<extra></extra>\", \"legendgroup\": \"0021500003_130\", \"marker\": {\"color\": \"#FF97FF\", \"symbol\": \"circle\"}, \"mode\": \"markers\", \"name\": \"0021500003_130\", \"scene\": \"scene\", \"showlegend\": true, \"type\": \"scatter3d\", \"x\": [5.22204], \"y\": [23.9654], \"z\": [9.03569]}, {\"hovertemplate\": \"id=0021500003_131<br>x=%{x}<br>y=%{y}<br>z=%{z}<extra></extra>\", \"legendgroup\": \"0021500003_131\", \"marker\": {\"color\": \"#FECB52\", \"symbol\": \"circle\"}, \"mode\": \"markers\", \"name\": \"0021500003_131\", \"scene\": \"scene\", \"showlegend\": true, \"type\": \"scatter3d\", \"x\": [5.84399], \"y\": [28.78376], \"z\": [9.17804]}, {\"hovertemplate\": \"id=0021500003_14<br>x=%{x}<br>y=%{y}<br>z=%{z}<extra></extra>\", \"legendgroup\": \"0021500003_14\", \"marker\": {\"color\": \"#636efa\", \"symbol\": \"circle\"}, \"mode\": \"markers\", \"name\": \"0021500003_14\", \"scene\": \"scene\", \"showlegend\": true, \"type\": \"scatter3d\", \"x\": [5.63144], \"y\": [24.72734], \"z\": [9.17576]}, {\"hovertemplate\": \"id=0021500003_142<br>x=%{x}<br>y=%{y}<br>z=%{z}<extra></extra>\", \"legendgroup\": \"0021500003_142\", \"marker\": {\"color\": \"#EF553B\", \"symbol\": \"circle\"}, \"mode\": \"markers\", \"name\": \"0021500003_142\", \"scene\": \"scene\", \"showlegend\": true, \"type\": \"scatter3d\", \"x\": [6.24681], \"y\": [26.59325], \"z\": [9.4151]}, {\"hovertemplate\": \"id=0021500003_152<br>x=%{x}<br>y=%{y}<br>z=%{z}<extra></extra>\", \"legendgroup\": \"0021500003_152\", \"marker\": {\"color\": \"#00cc96\", \"symbol\": \"circle\"}, \"mode\": \"markers\", \"name\": \"0021500003_152\", \"scene\": \"scene\", \"showlegend\": true, \"type\": \"scatter3d\", \"x\": [6.15034], \"y\": [25.48221], \"z\": [9.30361]}, {\"hovertemplate\": \"id=0021500003_168<br>x=%{x}<br>y=%{y}<br>z=%{z}<extra></extra>\", \"legendgroup\": \"0021500003_168\", \"marker\": {\"color\": \"#ab63fa\", \"symbol\": \"circle\"}, \"mode\": \"markers\", \"name\": \"0021500003_168\", \"scene\": \"scene\", \"showlegend\": true, \"type\": \"scatter3d\", \"x\": [5.73195], \"y\": [25.6555], \"z\": [10.69449]}, {\"hovertemplate\": \"id=0021500003_17<br>x=%{x}<br>y=%{y}<br>z=%{z}<extra></extra>\", \"legendgroup\": \"0021500003_17\", \"marker\": {\"color\": \"#FFA15A\", \"symbol\": \"circle\"}, \"mode\": \"markers\", \"name\": \"0021500003_17\", \"scene\": \"scene\", \"showlegend\": true, \"type\": \"scatter3d\", \"x\": [5.6120199999999985], \"y\": [24.77868], \"z\": [9.26146]}, {\"hovertemplate\": \"id=0021500003_173<br>x=%{x}<br>y=%{y}<br>z=%{z}<extra></extra>\", \"legendgroup\": \"0021500003_173\", \"marker\": {\"color\": \"#19d3f3\", \"symbol\": \"circle\"}, \"mode\": \"markers\", \"name\": \"0021500003_173\", \"scene\": \"scene\", \"showlegend\": true, \"type\": \"scatter3d\", \"x\": [5.16335], \"y\": [24.65906], \"z\": [9.0433]}, {\"hovertemplate\": \"id=0021500003_185<br>x=%{x}<br>y=%{y}<br>z=%{z}<extra></extra>\", \"legendgroup\": \"0021500003_185\", \"marker\": {\"color\": \"#FF6692\", \"symbol\": \"circle\"}, \"mode\": \"markers\", \"name\": \"0021500003_185\", \"scene\": \"scene\", \"showlegend\": true, \"type\": \"scatter3d\", \"x\": [7.29421], \"y\": [19.768420000000006], \"z\": [9.137]}, {\"hovertemplate\": \"id=0021500003_194<br>x=%{x}<br>y=%{y}<br>z=%{z}<extra></extra>\", \"legendgroup\": \"0021500003_194\", \"marker\": {\"color\": \"#B6E880\", \"symbol\": \"circle\"}, \"mode\": \"markers\", \"name\": \"0021500003_194\", \"scene\": \"scene\", \"showlegend\": true, \"type\": \"scatter3d\", \"x\": [3.5041], \"y\": [19.7277], \"z\": [9.16699]}, {\"hovertemplate\": \"id=0021500003_197<br>x=%{x}<br>y=%{y}<br>z=%{z}<extra></extra>\", \"legendgroup\": \"0021500003_197\", \"marker\": {\"color\": \"#FF97FF\", \"symbol\": \"circle\"}, \"mode\": \"markers\", \"name\": \"0021500003_197\", \"scene\": \"scene\", \"showlegend\": true, \"type\": \"scatter3d\", \"x\": [4.59897], \"y\": [24.98117], \"z\": [9.17408]}, {\"hovertemplate\": \"id=0021500003_206<br>x=%{x}<br>y=%{y}<br>z=%{z}<extra></extra>\", \"legendgroup\": \"0021500003_206\", \"marker\": {\"color\": \"#FECB52\", \"symbol\": \"circle\"}, \"mode\": \"markers\", \"name\": \"0021500003_206\", \"scene\": \"scene\", \"showlegend\": true, \"type\": \"scatter3d\", \"x\": [5.70824], \"y\": [24.24796], \"z\": [9.06385]}, {\"hovertemplate\": \"id=0021500003_21<br>x=%{x}<br>y=%{y}<br>z=%{z}<extra></extra>\", \"legendgroup\": \"0021500003_21\", \"marker\": {\"color\": \"#636efa\", \"symbol\": \"circle\"}, \"mode\": \"markers\", \"name\": \"0021500003_21\", \"scene\": \"scene\", \"showlegend\": true, \"type\": \"scatter3d\", \"x\": [7.4921], \"y\": [28.57167], \"z\": [9.3823]}, {\"hovertemplate\": \"id=0021500003_22<br>x=%{x}<br>y=%{y}<br>z=%{z}<extra></extra>\", \"legendgroup\": \"0021500003_22\", \"marker\": {\"color\": \"#EF553B\", \"symbol\": \"circle\"}, \"mode\": \"markers\", \"name\": \"0021500003_22\", \"scene\": \"scene\", \"showlegend\": true, \"type\": \"scatter3d\", \"x\": [7.454439999999999], \"y\": [30.71413], \"z\": [9.04212]}, {\"hovertemplate\": \"id=0021500003_231<br>x=%{x}<br>y=%{y}<br>z=%{z}<extra></extra>\", \"legendgroup\": \"0021500003_231\", \"marker\": {\"color\": \"#00cc96\", \"symbol\": \"circle\"}, \"mode\": \"markers\", \"name\": \"0021500003_231\", \"scene\": \"scene\", \"showlegend\": true, \"type\": \"scatter3d\", \"x\": [6.0054], \"y\": [23.52039], \"z\": [9.25247]}, {\"hovertemplate\": \"id=0021500003_242<br>x=%{x}<br>y=%{y}<br>z=%{z}<extra></extra>\", \"legendgroup\": \"0021500003_242\", \"marker\": {\"color\": \"#ab63fa\", \"symbol\": \"circle\"}, \"mode\": \"markers\", \"name\": \"0021500003_242\", \"scene\": \"scene\", \"showlegend\": true, \"type\": \"scatter3d\", \"x\": [5.04708], \"y\": [25.61104], \"z\": [9.44911]}, {\"hovertemplate\": \"id=0021500003_247<br>x=%{x}<br>y=%{y}<br>z=%{z}<extra></extra>\", \"legendgroup\": \"0021500003_247\", \"marker\": {\"color\": \"#FFA15A\", \"symbol\": \"circle\"}, \"mode\": \"markers\", \"name\": \"0021500003_247\", \"scene\": \"scene\", \"showlegend\": true, \"type\": \"scatter3d\", \"x\": [5.73486], \"y\": [20.79121], \"z\": [9.35775]}, {\"hovertemplate\": \"id=0021500003_249<br>x=%{x}<br>y=%{y}<br>z=%{z}<extra></extra>\", \"legendgroup\": \"0021500003_249\", \"marker\": {\"color\": \"#19d3f3\", \"symbol\": \"circle\"}, \"mode\": \"markers\", \"name\": \"0021500003_249\", \"scene\": \"scene\", \"showlegend\": true, \"type\": \"scatter3d\", \"x\": [16.4189], \"y\": [31.13263], \"z\": [8.51822]}, {\"hovertemplate\": \"id=0021500003_253<br>x=%{x}<br>y=%{y}<br>z=%{z}<extra></extra>\", \"legendgroup\": \"0021500003_253\", \"marker\": {\"color\": \"#FF6692\", \"symbol\": \"circle\"}, \"mode\": \"markers\", \"name\": \"0021500003_253\", \"scene\": \"scene\", \"showlegend\": true, \"type\": \"scatter3d\", \"x\": [6.851380000000002], \"y\": [20.19102], \"z\": [10.35868]}, {\"hovertemplate\": \"id=0021500003_281<br>x=%{x}<br>y=%{y}<br>z=%{z}<extra></extra>\", \"legendgroup\": \"0021500003_281\", \"marker\": {\"color\": \"#B6E880\", \"symbol\": \"circle\"}, \"mode\": \"markers\", \"name\": \"0021500003_281\", \"scene\": \"scene\", \"showlegend\": true, \"type\": \"scatter3d\", \"x\": [13.41533], \"y\": [26.8522], \"z\": [9.16323]}, {\"hovertemplate\": \"id=0021500003_288<br>x=%{x}<br>y=%{y}<br>z=%{z}<extra></extra>\", \"legendgroup\": \"0021500003_288\", \"marker\": {\"color\": \"#FF97FF\", \"symbol\": \"circle\"}, \"mode\": \"markers\", \"name\": \"0021500003_288\", \"scene\": \"scene\", \"showlegend\": true, \"type\": \"scatter3d\", \"x\": [5.8457], \"y\": [24.74459], \"z\": [9.07519]}, {\"hovertemplate\": \"id=0021500003_33<br>x=%{x}<br>y=%{y}<br>z=%{z}<extra></extra>\", \"legendgroup\": \"0021500003_33\", \"marker\": {\"color\": \"#FECB52\", \"symbol\": \"circle\"}, \"mode\": \"markers\", \"name\": \"0021500003_33\", \"scene\": \"scene\", \"showlegend\": true, \"type\": \"scatter3d\", \"x\": [4.90161], \"y\": [24.9024], \"z\": [9.1456]}, {\"hovertemplate\": \"H\", \"mode\": \"lines\", \"name\": \"Location of hoop\", \"type\": \"scatter3d\", \"x\": [0.0, 0.0, 0.0, 0.0, 0.0, 0.0, 0.0, 0.0, 0.0, 0.0, 0.0, 0.0, 0.0, 0.0, 0.0, 0.0, 0.0, 0.0, 0.0, 0.0, 0.0, 0.0, 0.0, 0.0, 0.0, 0.0, 0.0, 0.0, 0.0, 0.0, 0.0, 0.0, 0.0, 0.0, 0.0, 0.0, 0.0, 0.0, 0.0, 0.0, 0.0, 0.0, 0.0, 0.0, 0.0, 0.0, 0.0, 0.0, 0.0, 0.0], \"y\": [0.0, 1.0204081632653061, 2.0408163265306123, 3.0612244897959187, 4.081632653061225, 5.1020408163265305, 6.122448979591837, 7.142857142857143, 8.16326530612245, 9.183673469387756, 10.204081632653061, 11.224489795918368, 12.244897959183675, 13.26530612244898, 14.285714285714286, 15.306122448979592, 16.3265306122449, 17.346938775510203, 18.367346938775512, 19.387755102040817, 20.408163265306122, 21.42857142857143, 22.448979591836736, 23.46938775510204, 24.48979591836735, 25.510204081632654, 26.53061224489796, 27.551020408163264, 28.571428571428573, 29.591836734693878, 30.612244897959183, 31.63265306122449, 32.6530612244898, 33.673469387755105, 34.69387755102041, 35.714285714285715, 36.734693877551024, 37.755102040816325, 38.775510204081634, 39.79591836734694, 40.816326530612244, 41.83673469387755, 42.85714285714286, 43.87755102040816, 44.89795918367347, 45.91836734693878, 46.93877551020408, 47.95918367346939, 48.9795918367347, 50.0], \"z\": [10.0, 10.0, 10.0, 10.0, 10.0, 10.0, 10.0, 10.0, 10.0, 10.0, 10.0, 10.0, 10.0, 10.0, 10.0, 10.0, 10.0, 10.0, 10.0, 10.0, 10.0, 10.0, 10.0, 10.0, 10.0, 10.0, 10.0, 10.0, 10.0, 10.0, 10.0, 10.0, 10.0, 10.0, 10.0, 10.0, 10.0, 10.0, 10.0, 10.0, 10.0, 10.0, 10.0, 10.0, 10.0, 10.0, 10.0, 10.0, 10.0, 10.0]}],                        {\"legend\": {\"title\": {\"text\": \"id\"}, \"tracegroupgap\": 0}, \"margin\": {\"b\": 10, \"l\": 10, \"r\": 20, \"t\": 10}, \"scene\": {\"domain\": {\"x\": [0.0, 1.0], \"y\": [0.0, 1.0]}, \"xaxis\": {\"nticks\": 4, \"range\": [0, 47.0], \"title\": {\"text\": \"Length of NBA court\"}}, \"yaxis\": {\"nticks\": 4, \"range\": [0, 50], \"title\": {\"text\": \"Half Court Line\"}}, \"zaxis\": {\"backgroundcolor\": \"rgb(300, 200, 230)\", \"gridcolor\": \"white\", \"showbackground\": true, \"title\": {\"text\": \"Height of shot\"}, \"zerolinecolor\": \"white\"}}, \"showlegend\": false, \"template\": {\"data\": {\"bar\": [{\"error_x\": {\"color\": \"#2a3f5f\"}, \"error_y\": {\"color\": \"#2a3f5f\"}, \"marker\": {\"line\": {\"color\": \"#E5ECF6\", \"width\": 0.5}}, \"type\": \"bar\"}], \"barpolar\": [{\"marker\": {\"line\": {\"color\": \"#E5ECF6\", \"width\": 0.5}}, \"type\": \"barpolar\"}], \"carpet\": [{\"aaxis\": {\"endlinecolor\": \"#2a3f5f\", \"gridcolor\": \"white\", \"linecolor\": \"white\", \"minorgridcolor\": \"white\", \"startlinecolor\": \"#2a3f5f\"}, \"baxis\": {\"endlinecolor\": \"#2a3f5f\", \"gridcolor\": \"white\", \"linecolor\": \"white\", \"minorgridcolor\": \"white\", \"startlinecolor\": \"#2a3f5f\"}, \"type\": \"carpet\"}], \"choropleth\": [{\"colorbar\": {\"outlinewidth\": 0, \"ticks\": \"\"}, \"type\": \"choropleth\"}], \"contour\": [{\"colorbar\": {\"outlinewidth\": 0, \"ticks\": \"\"}, \"colorscale\": [[0.0, \"#0d0887\"], [0.1111111111111111, \"#46039f\"], [0.2222222222222222, \"#7201a8\"], [0.3333333333333333, \"#9c179e\"], [0.4444444444444444, \"#bd3786\"], [0.5555555555555556, \"#d8576b\"], [0.6666666666666666, \"#ed7953\"], [0.7777777777777778, \"#fb9f3a\"], [0.8888888888888888, \"#fdca26\"], [1.0, \"#f0f921\"]], \"type\": \"contour\"}], \"contourcarpet\": [{\"colorbar\": {\"outlinewidth\": 0, \"ticks\": \"\"}, \"type\": \"contourcarpet\"}], \"heatmap\": [{\"colorbar\": {\"outlinewidth\": 0, \"ticks\": \"\"}, \"colorscale\": [[0.0, \"#0d0887\"], [0.1111111111111111, \"#46039f\"], [0.2222222222222222, \"#7201a8\"], [0.3333333333333333, \"#9c179e\"], [0.4444444444444444, \"#bd3786\"], [0.5555555555555556, \"#d8576b\"], [0.6666666666666666, \"#ed7953\"], [0.7777777777777778, \"#fb9f3a\"], [0.8888888888888888, \"#fdca26\"], [1.0, \"#f0f921\"]], \"type\": \"heatmap\"}], \"heatmapgl\": [{\"colorbar\": {\"outlinewidth\": 0, \"ticks\": \"\"}, \"colorscale\": [[0.0, \"#0d0887\"], [0.1111111111111111, \"#46039f\"], [0.2222222222222222, \"#7201a8\"], [0.3333333333333333, \"#9c179e\"], [0.4444444444444444, \"#bd3786\"], [0.5555555555555556, \"#d8576b\"], [0.6666666666666666, \"#ed7953\"], [0.7777777777777778, \"#fb9f3a\"], [0.8888888888888888, \"#fdca26\"], [1.0, \"#f0f921\"]], \"type\": \"heatmapgl\"}], \"histogram\": [{\"marker\": {\"colorbar\": {\"outlinewidth\": 0, \"ticks\": \"\"}}, \"type\": \"histogram\"}], \"histogram2d\": [{\"colorbar\": {\"outlinewidth\": 0, \"ticks\": \"\"}, \"colorscale\": [[0.0, \"#0d0887\"], [0.1111111111111111, \"#46039f\"], [0.2222222222222222, \"#7201a8\"], [0.3333333333333333, \"#9c179e\"], [0.4444444444444444, \"#bd3786\"], [0.5555555555555556, \"#d8576b\"], [0.6666666666666666, \"#ed7953\"], [0.7777777777777778, \"#fb9f3a\"], [0.8888888888888888, \"#fdca26\"], [1.0, \"#f0f921\"]], \"type\": \"histogram2d\"}], \"histogram2dcontour\": [{\"colorbar\": {\"outlinewidth\": 0, \"ticks\": \"\"}, \"colorscale\": [[0.0, \"#0d0887\"], [0.1111111111111111, \"#46039f\"], [0.2222222222222222, \"#7201a8\"], [0.3333333333333333, \"#9c179e\"], [0.4444444444444444, \"#bd3786\"], [0.5555555555555556, \"#d8576b\"], [0.6666666666666666, \"#ed7953\"], [0.7777777777777778, \"#fb9f3a\"], [0.8888888888888888, \"#fdca26\"], [1.0, \"#f0f921\"]], \"type\": \"histogram2dcontour\"}], \"mesh3d\": [{\"colorbar\": {\"outlinewidth\": 0, \"ticks\": \"\"}, \"type\": \"mesh3d\"}], \"parcoords\": [{\"line\": {\"colorbar\": {\"outlinewidth\": 0, \"ticks\": \"\"}}, \"type\": \"parcoords\"}], \"pie\": [{\"automargin\": true, \"type\": \"pie\"}], \"scatter\": [{\"marker\": {\"colorbar\": {\"outlinewidth\": 0, \"ticks\": \"\"}}, \"type\": \"scatter\"}], \"scatter3d\": [{\"line\": {\"colorbar\": {\"outlinewidth\": 0, \"ticks\": \"\"}}, \"marker\": {\"colorbar\": {\"outlinewidth\": 0, \"ticks\": \"\"}}, \"type\": \"scatter3d\"}], \"scattercarpet\": [{\"marker\": {\"colorbar\": {\"outlinewidth\": 0, \"ticks\": \"\"}}, \"type\": \"scattercarpet\"}], \"scattergeo\": [{\"marker\": {\"colorbar\": {\"outlinewidth\": 0, \"ticks\": \"\"}}, \"type\": \"scattergeo\"}], \"scattergl\": [{\"marker\": {\"colorbar\": {\"outlinewidth\": 0, \"ticks\": \"\"}}, \"type\": \"scattergl\"}], \"scattermapbox\": [{\"marker\": {\"colorbar\": {\"outlinewidth\": 0, \"ticks\": \"\"}}, \"type\": \"scattermapbox\"}], \"scatterpolar\": [{\"marker\": {\"colorbar\": {\"outlinewidth\": 0, \"ticks\": \"\"}}, \"type\": \"scatterpolar\"}], \"scatterpolargl\": [{\"marker\": {\"colorbar\": {\"outlinewidth\": 0, \"ticks\": \"\"}}, \"type\": \"scatterpolargl\"}], \"scatterternary\": [{\"marker\": {\"colorbar\": {\"outlinewidth\": 0, \"ticks\": \"\"}}, \"type\": \"scatterternary\"}], \"surface\": [{\"colorbar\": {\"outlinewidth\": 0, \"ticks\": \"\"}, \"colorscale\": [[0.0, \"#0d0887\"], [0.1111111111111111, \"#46039f\"], [0.2222222222222222, \"#7201a8\"], [0.3333333333333333, \"#9c179e\"], [0.4444444444444444, \"#bd3786\"], [0.5555555555555556, \"#d8576b\"], [0.6666666666666666, \"#ed7953\"], [0.7777777777777778, \"#fb9f3a\"], [0.8888888888888888, \"#fdca26\"], [1.0, \"#f0f921\"]], \"type\": \"surface\"}], \"table\": [{\"cells\": {\"fill\": {\"color\": \"#EBF0F8\"}, \"line\": {\"color\": \"white\"}}, \"header\": {\"fill\": {\"color\": \"#C8D4E3\"}, \"line\": {\"color\": \"white\"}}, \"type\": \"table\"}]}, \"layout\": {\"annotationdefaults\": {\"arrowcolor\": \"#2a3f5f\", \"arrowhead\": 0, \"arrowwidth\": 1}, \"coloraxis\": {\"colorbar\": {\"outlinewidth\": 0, \"ticks\": \"\"}}, \"colorscale\": {\"diverging\": [[0, \"#8e0152\"], [0.1, \"#c51b7d\"], [0.2, \"#de77ae\"], [0.3, \"#f1b6da\"], [0.4, \"#fde0ef\"], [0.5, \"#f7f7f7\"], [0.6, \"#e6f5d0\"], [0.7, \"#b8e186\"], [0.8, \"#7fbc41\"], [0.9, \"#4d9221\"], [1, \"#276419\"]], \"sequential\": [[0.0, \"#0d0887\"], [0.1111111111111111, \"#46039f\"], [0.2222222222222222, \"#7201a8\"], [0.3333333333333333, \"#9c179e\"], [0.4444444444444444, \"#bd3786\"], [0.5555555555555556, \"#d8576b\"], [0.6666666666666666, \"#ed7953\"], [0.7777777777777778, \"#fb9f3a\"], [0.8888888888888888, \"#fdca26\"], [1.0, \"#f0f921\"]], \"sequentialminus\": [[0.0, \"#0d0887\"], [0.1111111111111111, \"#46039f\"], [0.2222222222222222, \"#7201a8\"], [0.3333333333333333, \"#9c179e\"], [0.4444444444444444, \"#bd3786\"], [0.5555555555555556, \"#d8576b\"], [0.6666666666666666, \"#ed7953\"], [0.7777777777777778, \"#fb9f3a\"], [0.8888888888888888, \"#fdca26\"], [1.0, \"#f0f921\"]]}, \"colorway\": [\"#636efa\", \"#EF553B\", \"#00cc96\", \"#ab63fa\", \"#FFA15A\", \"#19d3f3\", \"#FF6692\", \"#B6E880\", \"#FF97FF\", \"#FECB52\"], \"font\": {\"color\": \"#2a3f5f\"}, \"geo\": {\"bgcolor\": \"white\", \"lakecolor\": \"white\", \"landcolor\": \"#E5ECF6\", \"showlakes\": true, \"showland\": true, \"subunitcolor\": \"white\"}, \"hoverlabel\": {\"align\": \"left\"}, \"hovermode\": \"closest\", \"mapbox\": {\"style\": \"light\"}, \"paper_bgcolor\": \"white\", \"plot_bgcolor\": \"#E5ECF6\", \"polar\": {\"angularaxis\": {\"gridcolor\": \"white\", \"linecolor\": \"white\", \"ticks\": \"\"}, \"bgcolor\": \"#E5ECF6\", \"radialaxis\": {\"gridcolor\": \"white\", \"linecolor\": \"white\", \"ticks\": \"\"}}, \"scene\": {\"xaxis\": {\"backgroundcolor\": \"#E5ECF6\", \"gridcolor\": \"white\", \"gridwidth\": 2, \"linecolor\": \"white\", \"showbackground\": true, \"ticks\": \"\", \"zerolinecolor\": \"white\"}, \"yaxis\": {\"backgroundcolor\": \"#E5ECF6\", \"gridcolor\": \"white\", \"gridwidth\": 2, \"linecolor\": \"white\", \"showbackground\": true, \"ticks\": \"\", \"zerolinecolor\": \"white\"}, \"zaxis\": {\"backgroundcolor\": \"#E5ECF6\", \"gridcolor\": \"white\", \"gridwidth\": 2, \"linecolor\": \"white\", \"showbackground\": true, \"ticks\": \"\", \"zerolinecolor\": \"white\"}}, \"shapedefaults\": {\"line\": {\"color\": \"#2a3f5f\"}}, \"ternary\": {\"aaxis\": {\"gridcolor\": \"white\", \"linecolor\": \"white\", \"ticks\": \"\"}, \"baxis\": {\"gridcolor\": \"white\", \"linecolor\": \"white\", \"ticks\": \"\"}, \"bgcolor\": \"#E5ECF6\", \"caxis\": {\"gridcolor\": \"white\", \"linecolor\": \"white\", \"ticks\": \"\"}}, \"title\": {\"x\": 0.05}, \"xaxis\": {\"automargin\": true, \"gridcolor\": \"white\", \"linecolor\": \"white\", \"ticks\": \"\", \"title\": {\"standoff\": 15}, \"zerolinecolor\": \"white\", \"zerolinewidth\": 2}, \"yaxis\": {\"automargin\": true, \"gridcolor\": \"white\", \"linecolor\": \"white\", \"ticks\": \"\", \"title\": {\"standoff\": 15}, \"zerolinecolor\": \"white\", \"zerolinewidth\": 2}}}, \"title\": {\"text\": \"Final Shot Frame\", \"x\": 0.5, \"xanchor\": \"center\", \"y\": 0.9, \"yanchor\": \"top\"}, \"width\": 700},                        {\"responsive\": true}                    ).then(function(){\n",
       "                            \n",
       "var gd = document.getElementById('816b8c8b-3495-4bdd-8a6f-87447d445315');\n",
       "var x = new MutationObserver(function (mutations, observer) {{\n",
       "        var display = window.getComputedStyle(gd).display;\n",
       "        if (!display || display === 'none') {{\n",
       "            console.log([gd, 'removed!']);\n",
       "            Plotly.purge(gd);\n",
       "            observer.disconnect();\n",
       "        }}\n",
       "}});\n",
       "\n",
       "// Listen for the removal of the full notebook cells\n",
       "var notebookContainer = gd.closest('#notebook-container');\n",
       "if (notebookContainer) {{\n",
       "    x.observe(notebookContainer, {childList: true});\n",
       "}}\n",
       "\n",
       "// Listen for the clearing of the current output cell\n",
       "var outputEl = gd.closest('.output');\n",
       "if (outputEl) {{\n",
       "    x.observe(outputEl, {childList: true});\n",
       "}}\n",
       "\n",
       "                        })                };                });            </script>        </div>"
      ]
     },
     "metadata": {},
     "output_type": "display_data"
    }
   ],
   "source": [
    "fig = px.scatter_3d(final[0:100], x='x', y='y', z='z',\n",
    "              color='id')\n",
    "fig.update_layout(\n",
    "    scene = dict(\n",
    "        xaxis = dict(nticks=4, range=[0,94/2],),\n",
    "                     yaxis = dict(nticks=4, range=[0,50],),\n",
    "                    zaxis=dict(backgroundcolor=\"rgb(300, 200, 230)\",\n",
    "                         gridcolor=\"white\",\n",
    "                         showbackground=True,\n",
    "                         zerolinecolor=\"white\",),\n",
    "                     xaxis_title='Length of NBA court',\n",
    "                    yaxis_title='Half Court Line',\n",
    "                    zaxis_title='Height of shot'),\n",
    "    showlegend=False,\n",
    "    title={\n",
    "        'text': \"Final Shot Frame\",\n",
    "        'y':0.9,\n",
    "        'x':0.5,\n",
    "        'xanchor': 'center',\n",
    "        'yanchor': 'top'},\n",
    "    width=700,\n",
    "    margin=dict(r=20, l=10, b=10, t=10))\n",
    "fig.add_scatter3d(x=np.zeros(50), y=np.linspace(0,50,50), z=np.ones(50)*10, mode='lines', name='Location of hoop',hovertemplate=\"H\") \n",
    "fig.show()"
   ]
  },
  {
   "cell_type": "code",
   "execution_count": null,
   "metadata": {},
   "outputs": [],
   "source": []
  }
 ],
 "metadata": {
  "kernelspec": {
   "display_name": "Python 3",
   "language": "python",
   "name": "python3"
  },
  "language_info": {
   "codemirror_mode": {
    "name": "ipython",
    "version": 3
   },
   "file_extension": ".py",
   "mimetype": "text/x-python",
   "name": "python",
   "nbconvert_exporter": "python",
   "pygments_lexer": "ipython3",
   "version": "3.8.3"
  }
 },
 "nbformat": 4,
 "nbformat_minor": 4
}
