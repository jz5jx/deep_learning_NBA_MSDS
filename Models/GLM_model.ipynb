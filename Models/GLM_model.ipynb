{
 "cells": [
  {
   "cell_type": "code",
   "execution_count": 31,
   "metadata": {},
   "outputs": [],
   "source": [
    "import pandas as pd\n",
    "import numpy as np\n",
    "from sklearn.linear_model import LogisticRegression\n",
    "from sklearn.metrics import classification_report, confusion_matrix\n",
    "from numpy import mean\n",
    "from numpy import std\n",
    "from numpy import absolute\n",
    "from pandas import read_csv\n",
    "from sklearn.model_selection import cross_val_score\n",
    "from sklearn.model_selection import RepeatedKFold\n",
    "from sklearn.linear_model import ElasticNet\n",
    "from sklearn.model_selection import train_test_split"
   ]
  },
  {
   "cell_type": "code",
   "execution_count": 32,
   "metadata": {},
   "outputs": [
    {
     "data": {
      "text/html": [
       "<div>\n",
       "<style scoped>\n",
       "    .dataframe tbody tr th:only-of-type {\n",
       "        vertical-align: middle;\n",
       "    }\n",
       "\n",
       "    .dataframe tbody tr th {\n",
       "        vertical-align: top;\n",
       "    }\n",
       "\n",
       "    .dataframe thead th {\n",
       "        text-align: right;\n",
       "    }\n",
       "</style>\n",
       "<table border=\"1\" class=\"dataframe\">\n",
       "  <thead>\n",
       "    <tr style=\"text-align: right;\">\n",
       "      <th></th>\n",
       "      <th>Unnamed: 0</th>\n",
       "      <th>Unnamed: 0.1</th>\n",
       "      <th>id</th>\n",
       "      <th>EVENTMSGTYPE</th>\n",
       "      <th>x</th>\n",
       "      <th>y</th>\n",
       "      <th>z</th>\n",
       "      <th>game_clock</th>\n",
       "      <th>rankc</th>\n",
       "    </tr>\n",
       "  </thead>\n",
       "  <tbody>\n",
       "    <tr>\n",
       "      <th>0</th>\n",
       "      <td>0</td>\n",
       "      <td>31</td>\n",
       "      <td>0021500001_102</td>\n",
       "      <td>2</td>\n",
       "      <td>5.49636</td>\n",
       "      <td>25.01318</td>\n",
       "      <td>10.88796</td>\n",
       "      <td>314.63</td>\n",
       "      <td>32</td>\n",
       "    </tr>\n",
       "    <tr>\n",
       "      <th>1</th>\n",
       "      <td>1</td>\n",
       "      <td>85</td>\n",
       "      <td>0021500001_105</td>\n",
       "      <td>1</td>\n",
       "      <td>6.48539</td>\n",
       "      <td>25.37288</td>\n",
       "      <td>11.09783</td>\n",
       "      <td>275.53</td>\n",
       "      <td>31</td>\n",
       "    </tr>\n",
       "    <tr>\n",
       "      <th>2</th>\n",
       "      <td>2</td>\n",
       "      <td>132</td>\n",
       "      <td>0021500001_106</td>\n",
       "      <td>2</td>\n",
       "      <td>6.90875</td>\n",
       "      <td>24.57006</td>\n",
       "      <td>10.47310</td>\n",
       "      <td>260.12</td>\n",
       "      <td>43</td>\n",
       "    </tr>\n",
       "    <tr>\n",
       "      <th>3</th>\n",
       "      <td>3</td>\n",
       "      <td>198</td>\n",
       "      <td>0021500001_110</td>\n",
       "      <td>2</td>\n",
       "      <td>7.87520</td>\n",
       "      <td>24.96127</td>\n",
       "      <td>10.72345</td>\n",
       "      <td>233.70</td>\n",
       "      <td>57</td>\n",
       "    </tr>\n",
       "    <tr>\n",
       "      <th>4</th>\n",
       "      <td>4</td>\n",
       "      <td>236</td>\n",
       "      <td>0021500001_114</td>\n",
       "      <td>1</td>\n",
       "      <td>5.52110</td>\n",
       "      <td>25.74065</td>\n",
       "      <td>10.76264</td>\n",
       "      <td>171.70</td>\n",
       "      <td>33</td>\n",
       "    </tr>\n",
       "  </tbody>\n",
       "</table>\n",
       "</div>"
      ],
      "text/plain": [
       "   Unnamed: 0  Unnamed: 0.1              id  EVENTMSGTYPE        x         y  \\\n",
       "0           0            31  0021500001_102             2  5.49636  25.01318   \n",
       "1           1            85  0021500001_105             1  6.48539  25.37288   \n",
       "2           2           132  0021500001_106             2  6.90875  24.57006   \n",
       "3           3           198  0021500001_110             2  7.87520  24.96127   \n",
       "4           4           236  0021500001_114             1  5.52110  25.74065   \n",
       "\n",
       "          z  game_clock  rankc  \n",
       "0  10.88796      314.63     32  \n",
       "1  11.09783      275.53     31  \n",
       "2  10.47310      260.12     43  \n",
       "3  10.72345      233.70     57  \n",
       "4  10.76264      171.70     33  "
      ]
     },
     "execution_count": 32,
     "metadata": {},
     "output_type": "execute_result"
    }
   ],
   "source": [
    "shots = pd.read_csv('glm_groups.csv')\n",
    "shots.head()"
   ]
  },
  {
   "cell_type": "code",
   "execution_count": 33,
   "metadata": {},
   "outputs": [
    {
     "data": {
      "text/html": [
       "<div>\n",
       "<style scoped>\n",
       "    .dataframe tbody tr th:only-of-type {\n",
       "        vertical-align: middle;\n",
       "    }\n",
       "\n",
       "    .dataframe tbody tr th {\n",
       "        vertical-align: top;\n",
       "    }\n",
       "\n",
       "    .dataframe thead th {\n",
       "        text-align: right;\n",
       "    }\n",
       "</style>\n",
       "<table border=\"1\" class=\"dataframe\">\n",
       "  <thead>\n",
       "    <tr style=\"text-align: right;\">\n",
       "      <th></th>\n",
       "      <th>EVENTMSGTYPE</th>\n",
       "      <th>x</th>\n",
       "      <th>y</th>\n",
       "      <th>z</th>\n",
       "    </tr>\n",
       "  </thead>\n",
       "  <tbody>\n",
       "    <tr>\n",
       "      <th>0</th>\n",
       "      <td>2</td>\n",
       "      <td>5.49636</td>\n",
       "      <td>25.01318</td>\n",
       "      <td>10.88796</td>\n",
       "    </tr>\n",
       "    <tr>\n",
       "      <th>1</th>\n",
       "      <td>1</td>\n",
       "      <td>6.48539</td>\n",
       "      <td>25.37288</td>\n",
       "      <td>11.09783</td>\n",
       "    </tr>\n",
       "    <tr>\n",
       "      <th>2</th>\n",
       "      <td>2</td>\n",
       "      <td>6.90875</td>\n",
       "      <td>24.57006</td>\n",
       "      <td>10.47310</td>\n",
       "    </tr>\n",
       "    <tr>\n",
       "      <th>3</th>\n",
       "      <td>2</td>\n",
       "      <td>7.87520</td>\n",
       "      <td>24.96127</td>\n",
       "      <td>10.72345</td>\n",
       "    </tr>\n",
       "    <tr>\n",
       "      <th>4</th>\n",
       "      <td>1</td>\n",
       "      <td>5.52110</td>\n",
       "      <td>25.74065</td>\n",
       "      <td>10.76264</td>\n",
       "    </tr>\n",
       "  </tbody>\n",
       "</table>\n",
       "</div>"
      ],
      "text/plain": [
       "   EVENTMSGTYPE        x         y         z\n",
       "0             2  5.49636  25.01318  10.88796\n",
       "1             1  6.48539  25.37288  11.09783\n",
       "2             2  6.90875  24.57006  10.47310\n",
       "3             2  7.87520  24.96127  10.72345\n",
       "4             1  5.52110  25.74065  10.76264"
      ]
     },
     "execution_count": 33,
     "metadata": {},
     "output_type": "execute_result"
    }
   ],
   "source": [
    "shot_data = shots.drop(['Unnamed: 0.1','Unnamed: 0', 'rankc','id','game_clock'], axis=1)\n",
    "shot_data.head()"
   ]
  },
  {
   "cell_type": "code",
   "execution_count": 34,
   "metadata": {},
   "outputs": [],
   "source": [
    "shot_data['EVENTMSGTYPE'] = shot_data['EVENTMSGTYPE'].map({2: 1, 1: 0})"
   ]
  },
  {
   "cell_type": "markdown",
   "metadata": {},
   "source": [
    "### Extracting the X Features and output Y features"
   ]
  },
  {
   "cell_type": "code",
   "execution_count": 35,
   "metadata": {},
   "outputs": [],
   "source": [
    "x_features , y_outputs =  shot_data.loc[:,shot_data.columns != 'EVENTMSGTYPE'] , shot_data['EVENTMSGTYPE']"
   ]
  },
  {
   "cell_type": "code",
   "execution_count": 36,
   "metadata": {},
   "outputs": [],
   "source": [
    "x_train, x_test, y_train, y_test = train_test_split(\n",
    "x_features, y_outputs, test_size=0.33, shuffle=False)"
   ]
  },
  {
   "cell_type": "code",
   "execution_count": 37,
   "metadata": {},
   "outputs": [],
   "source": [
    "logmodel = LogisticRegression()\n",
    "logmodel.fit(x_train,y_train)\n",
    "predictions = logmodel.predict(x_test)"
   ]
  },
  {
   "cell_type": "code",
   "execution_count": 38,
   "metadata": {},
   "outputs": [
    {
     "name": "stdout",
     "output_type": "stream",
     "text": [
      "              precision    recall  f1-score   support\n",
      "\n",
      "           0       0.52      0.35      0.42      2456\n",
      "           1       0.69      0.82      0.75      4374\n",
      "\n",
      "    accuracy                           0.65      6830\n",
      "   macro avg       0.60      0.58      0.58      6830\n",
      "weighted avg       0.63      0.65      0.63      6830\n",
      "\n"
     ]
    }
   ],
   "source": [
    "print(classification_report(y_test,predictions))"
   ]
  },
  {
   "cell_type": "code",
   "execution_count": 39,
   "metadata": {},
   "outputs": [
    {
     "data": {
      "text/plain": [
       "0.6487554904831625"
      ]
     },
     "execution_count": 39,
     "metadata": {},
     "output_type": "execute_result"
    }
   ],
   "source": [
    "from sklearn.metrics import accuracy_score\n",
    "accuracy_score(y_test, predictions)"
   ]
  },
  {
   "cell_type": "code",
   "execution_count": 66,
   "metadata": {},
   "outputs": [
    {
     "name": "stdout",
     "output_type": "stream",
     "text": [
      "13922    1\n",
      "13923    0\n",
      "13924    1\n",
      "13925    0\n",
      "13926    1\n",
      "        ..\n",
      "20775    0\n",
      "20776    1\n",
      "20777    0\n",
      "20778    0\n",
      "20779    1\n",
      "Name: EVENTMSGTYPE, Length: 6858, dtype: int64\n"
     ]
    }
   ],
   "source": [
    "print(y_test)"
   ]
  },
  {
   "cell_type": "code",
   "execution_count": 67,
   "metadata": {},
   "outputs": [
    {
     "name": "stdout",
     "output_type": "stream",
     "text": [
      "[1 0 1 ... 1 1 1]\n"
     ]
    }
   ],
   "source": [
    "print(predictions)"
   ]
  },
  {
   "cell_type": "code",
   "execution_count": null,
   "metadata": {},
   "outputs": [],
   "source": []
  }
 ],
 "metadata": {
  "kernelspec": {
   "display_name": "Python 3",
   "language": "python",
   "name": "python3"
  },
  "language_info": {
   "codemirror_mode": {
    "name": "ipython",
    "version": 3
   },
   "file_extension": ".py",
   "mimetype": "text/x-python",
   "name": "python",
   "nbconvert_exporter": "python",
   "pygments_lexer": "ipython3",
   "version": "3.8.3"
  }
 },
 "nbformat": 4,
 "nbformat_minor": 4
}
