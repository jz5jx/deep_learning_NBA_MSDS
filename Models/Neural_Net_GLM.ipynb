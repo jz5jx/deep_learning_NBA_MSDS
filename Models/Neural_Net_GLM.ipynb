{
 "cells": [
  {
   "cell_type": "code",
   "execution_count": 44,
   "metadata": {},
   "outputs": [],
   "source": [
    "import pandas as pd\n",
    "import numpy as np\n",
    "from sklearn.linear_model import LogisticRegression\n",
    "from sklearn.metrics import classification_report, confusion_matrix\n",
    "from numpy import mean\n",
    "from numpy import std\n",
    "from numpy import absolute\n",
    "from pandas import read_csv\n",
    "from sklearn.model_selection import cross_val_score\n",
    "from sklearn.model_selection import RepeatedKFold\n",
    "from sklearn.linear_model import ElasticNet\n",
    "from sklearn.model_selection import train_test_split\n",
    "from numpy import loadtxt\n",
    "from keras.models import Sequential\n",
    "from keras.layers import Dense\n",
    "import pandas as pd\n",
    "import numpy as np\n",
    "import tensorflow as tf\n",
    "from keras.layers import Dropout\n",
    "from keras.layers import BatchNormalization\n",
    "from keras.optimizers import SGD\n",
    "from sklearn.preprocessing import OneHotEncoder\n",
    "from keras.layers import Dense\n",
    "from keras.regularizers import l2\n",
    "from tensorflow import keras"
   ]
  },
  {
   "cell_type": "code",
   "execution_count": 45,
   "metadata": {},
   "outputs": [],
   "source": [
    "lastframe_data= pd.read_csv(\"../Data/glm_groups.csv\")\n",
    "lastframe_data = lastframe_data.drop(['Unnamed: 0.1','Unnamed: 0', 'rankc','id','game_clock'], axis=1)\n"
   ]
  },
  {
   "cell_type": "code",
   "execution_count": 50,
   "metadata": {},
   "outputs": [],
   "source": [
    "def maximum_absolute_scaling(df):\n",
    "    # copy the dataframe\n",
    "    df_scaled = df.copy()\n",
    "    # apply maximum absolute scaling\n",
    "    for column in df_scaled.columns:\n",
    "        df_scaled[column] = df_scaled[column]  / df_scaled[column].abs().max()\n",
    "    return df_scaled\n",
    "    \n",
    "# call the maximum_absolute_scaling function\n",
    "DF_features = maximum_absolute_scaling(lastframe_data)\n",
    "DF_features = DF_features.drop(columns=['EVENTMSGTYPE'])"
   ]
  },
  {
   "cell_type": "code",
   "execution_count": 47,
   "metadata": {},
   "outputs": [],
   "source": [
    "y_pred = lastframe_data['EVENTMSGTYPE'].map({2:1,1:0})"
   ]
  },
  {
   "cell_type": "code",
   "execution_count": 56,
   "metadata": {},
   "outputs": [],
   "source": [
    "model = Sequential()\n",
    "model.add(Dense(1024, input_dim=3, activation=tf.nn.relu))\n",
    "model.add(Dropout(0.5))\n",
    "model.add(BatchNormalization())\n",
    "model.add(Dense(512, activation=tf.nn.relu))\n",
    "model.add(BatchNormalization())\n",
    "model.add(Dense(256,activation = tf.nn.relu, kernel_regularizer=keras.regularizers.l2(l=0.1)))\n",
    "model.add(BatchNormalization())\n",
    "model.add(Dense(128,activation = tf.nn.relu))\n",
    "model.add(Dense(1, activation=tf.nn.sigmoid))\n"
   ]
  },
  {
   "cell_type": "code",
   "execution_count": 57,
   "metadata": {},
   "outputs": [],
   "source": [
    "model.compile(loss='binary_crossentropy', optimizer = 'adam', metrics=['accuracy'])"
   ]
  },
  {
   "cell_type": "code",
   "execution_count": 74,
   "metadata": {},
   "outputs": [],
   "source": [
    "tf.keras.callbacks.EarlyStopping(\n",
    "    monitor='val_loss', min_delta=0, patience=0, verbose=0,\n",
    "    mode='auto', baseline=None, restore_best_weights=True\n",
    ")\n",
    "callback = tf.keras.callbacks.EarlyStopping(monitor='val_loss', patience=3)"
   ]
  },
  {
   "cell_type": "code",
   "execution_count": 75,
   "metadata": {},
   "outputs": [],
   "source": [
    "x_train, x_test, y_train, y_test = train_test_split(\n",
    "DF_features, y_pred, test_size=0.1)"
   ]
  },
  {
   "cell_type": "code",
   "execution_count": 76,
   "metadata": {},
   "outputs": [],
   "source": [
    "x_train, x_val, y_train, y_val = train_test_split(\n",
    "x_train, y_train, test_size=0.33)"
   ]
  },
  {
   "cell_type": "code",
   "execution_count": 77,
   "metadata": {},
   "outputs": [
    {
     "name": "stdout",
     "output_type": "stream",
     "text": [
      "Epoch 1/50\n",
      "195/195 [==============================] - 2s 11ms/step - loss: 0.3568 - accuracy: 0.8491 - val_loss: 0.5120 - val_accuracy: 0.6463\n",
      "Epoch 2/50\n",
      "195/195 [==============================] - 2s 11ms/step - loss: 0.3449 - accuracy: 0.8533 - val_loss: 0.2833 - val_accuracy: 0.8887\n",
      "Epoch 3/50\n",
      "195/195 [==============================] - 2s 11ms/step - loss: 0.3575 - accuracy: 0.8493 - val_loss: 0.6943 - val_accuracy: 0.6464\n",
      "Epoch 4/50\n",
      "195/195 [==============================] - 2s 12ms/step - loss: 0.3483 - accuracy: 0.8531 - val_loss: 0.6894 - val_accuracy: 0.6469\n",
      "Epoch 5/50\n",
      "195/195 [==============================] - 2s 10ms/step - loss: 0.3511 - accuracy: 0.8523 - val_loss: 0.4701 - val_accuracy: 0.8049\n"
     ]
    },
    {
     "data": {
      "text/plain": [
       "<tensorflow.python.keras.callbacks.History at 0x1558c5280>"
      ]
     },
     "execution_count": 77,
     "metadata": {},
     "output_type": "execute_result"
    }
   ],
   "source": [
    "model.fit(x_train, y_train,validation_data = (x_val,y_val), callbacks=[callback], epochs=50, batch_size=64)"
   ]
  },
  {
   "cell_type": "code",
   "execution_count": 78,
   "metadata": {},
   "outputs": [
    {
     "name": "stdout",
     "output_type": "stream",
     "text": [
      "65/65 [==============================] - 0s 2ms/step - loss: 0.4426 - accuracy: 0.8203\n"
     ]
    }
   ],
   "source": [
    "_, accuracy = model.evaluate(x_test, y_test)"
   ]
  },
  {
   "cell_type": "code",
   "execution_count": null,
   "metadata": {},
   "outputs": [],
   "source": []
  }
 ],
 "metadata": {
  "kernelspec": {
   "display_name": "Python 3",
   "language": "python",
   "name": "python3"
  },
  "language_info": {
   "codemirror_mode": {
    "name": "ipython",
    "version": 3
   },
   "file_extension": ".py",
   "mimetype": "text/x-python",
   "name": "python",
   "nbconvert_exporter": "python",
   "pygments_lexer": "ipython3",
   "version": "3.8.3"
  }
 },
 "nbformat": 4,
 "nbformat_minor": 4
}
