{
 "cells": [
  {
   "cell_type": "code",
   "execution_count": 145,
   "metadata": {},
   "outputs": [],
   "source": [
    "import pandas as pd\n",
    "import numpy as np\n",
    "from sklearn.linear_model import LogisticRegression\n",
    "from sklearn.metrics import classification_report, confusion_matrix\n",
    "from numpy import mean\n",
    "from numpy import std\n",
    "from numpy import absolute\n",
    "from pandas import read_csv\n",
    "from sklearn.model_selection import cross_val_score\n",
    "from sklearn.model_selection import RepeatedKFold\n",
    "from sklearn.linear_model import ElasticNet\n",
    "from sklearn.model_selection import train_test_split\n",
    "from numpy import loadtxt\n",
    "from keras.models import Sequential\n",
    "from keras.layers import Dense\n",
    "import pandas as pd\n",
    "import numpy as np\n",
    "import tensorflow as tf\n",
    "from keras.layers import Dropout\n",
    "from keras.layers import BatchNormalization\n",
    "from keras.optimizers import SGD\n"
   ]
  },
  {
   "cell_type": "markdown",
   "metadata": {},
   "source": [
    "### Old Model"
   ]
  },
  {
   "cell_type": "code",
   "execution_count": 104,
   "metadata": {},
   "outputs": [],
   "source": [
    "release_data_output = pd.read_csv(\"../Data/Release_Wrangled_res.csv\")\n",
    "release_data_features =pd.read_csv(\"../Data/Release_Wrangled.csv\")"
   ]
  },
  {
   "cell_type": "code",
   "execution_count": 108,
   "metadata": {},
   "outputs": [],
   "source": [
    "release_data_output = release_data_output['x'].map({2:1,1:0})"
   ]
  },
  {
   "cell_type": "code",
   "execution_count": 110,
   "metadata": {},
   "outputs": [],
   "source": [
    "model = Sequential()\n",
    "model.add(Dense(12, input_dim=24, activation='relu'))\n",
    "model.add(Dense(8, activation='relu'))\n",
    "model.add(Dense(1, activation='sigmoid'))\n"
   ]
  },
  {
   "cell_type": "code",
   "execution_count": 111,
   "metadata": {},
   "outputs": [],
   "source": [
    "model.compile(loss='binary_crossentropy', optimizer='adam', metrics=['accuracy'])"
   ]
  },
  {
   "cell_type": "code",
   "execution_count": 112,
   "metadata": {},
   "outputs": [],
   "source": [
    "x_train, x_test, y_train, y_test = train_test_split(\n",
    "X, Y, test_size=0.33, shuffle=False)"
   ]
  },
  {
   "cell_type": "code",
   "execution_count": 113,
   "metadata": {},
   "outputs": [
    {
     "name": "stdout",
     "output_type": "stream",
     "text": [
      "Epoch 1/10\n",
      "1393/1393 [==============================] - 1s 769us/step - loss: -9511.2194 - accuracy: 0.3325\n",
      "Epoch 2/10\n",
      "1393/1393 [==============================] - 1s 730us/step - loss: -380028.5159 - accuracy: 0.3564\n",
      "Epoch 3/10\n",
      "1393/1393 [==============================] - 1s 706us/step - loss: -1831603.1764 - accuracy: 0.3564\n",
      "Epoch 4/10\n",
      "1393/1393 [==============================] - 1s 723us/step - loss: -4676496.6198 - accuracy: 0.3613\n",
      "Epoch 5/10\n",
      "1393/1393 [==============================] - 1s 777us/step - loss: -9053245.5384 - accuracy: 0.3598\n",
      "Epoch 6/10\n",
      "1393/1393 [==============================] - 1s 788us/step - loss: -15473598.5933 - accuracy: 0.3555\n",
      "Epoch 7/10\n",
      "1393/1393 [==============================] - 1s 710us/step - loss: -23518128.4182 - accuracy: 0.3624\n",
      "Epoch 8/10\n",
      "1393/1393 [==============================] - 1s 726us/step - loss: -34541526.3687 - accuracy: 0.3531\n",
      "Epoch 9/10\n",
      "1393/1393 [==============================] - 1s 742us/step - loss: -46754706.1722 - accuracy: 0.3595\n",
      "Epoch 10/10\n",
      "1393/1393 [==============================] - 1s 739us/step - loss: -62637865.5036 - accuracy: 0.3601\n"
     ]
    },
    {
     "data": {
      "text/plain": [
       "<tensorflow.python.keras.callbacks.History at 0x14f7f17c0>"
      ]
     },
     "execution_count": 113,
     "metadata": {},
     "output_type": "execute_result"
    }
   ],
   "source": [
    "model.fit(x_train, y_train, epochs=10, batch_size=10)"
   ]
  },
  {
   "cell_type": "code",
   "execution_count": 115,
   "metadata": {},
   "outputs": [
    {
     "name": "stdout",
     "output_type": "stream",
     "text": [
      "215/215 [==============================] - 0s 635us/step - loss: -76399976.0000 - accuracy: 0.3590\n"
     ]
    }
   ],
   "source": [
    "_, accuracy = model.evaluate(x_test, y_test)"
   ]
  },
  {
   "cell_type": "markdown",
   "metadata": {},
   "source": [
    "### Tuned Model"
   ]
  },
  {
   "cell_type": "code",
   "execution_count": 191,
   "metadata": {},
   "outputs": [],
   "source": [
    "model = Sequential()\n",
    "model.add(Dense(1024, input_dim=24, activation=tf.nn.relu,kernel_initializer = 'he_uniform'))\n",
    "model.add(Dropout(0.2))\n",
    "model.add(BatchNormalization())\n",
    "model.add(Dense(512, activation=tf.nn.relu))\n",
    "model.add(BatchNormalization())\n",
    "model.add(Dense(256,activation = tf.nn.relu))\n",
    "model.add(Dense(1, activation=tf.nn.sigmoid))\n"
   ]
  },
  {
   "cell_type": "code",
   "execution_count": 192,
   "metadata": {},
   "outputs": [],
   "source": [
    "model.compile(loss='binary_crossentropy', optimizer = 'adam', metrics=['accuracy'])"
   ]
  },
  {
   "cell_type": "code",
   "execution_count": 193,
   "metadata": {},
   "outputs": [],
   "source": [
    "x_train, x_test, y_train, y_test = train_test_split(\n",
    "X, Y, test_size=0.1, shuffle=False)"
   ]
  },
  {
   "cell_type": "code",
   "execution_count": 194,
   "metadata": {},
   "outputs": [],
   "source": [
    "x_train, x_val, y_train, y_val = train_test_split(\n",
    "x_train, y_train, test_size=0.33, shuffle=True)"
   ]
  },
  {
   "cell_type": "code",
   "execution_count": 195,
   "metadata": {},
   "outputs": [
    {
     "name": "stdout",
     "output_type": "stream",
     "text": [
      "Epoch 1/10\n",
      "392/392 [==============================] - 3s 6ms/step - loss: -1569.4183 - accuracy: 0.3486 - val_loss: -22563.9844 - val_accuracy: 0.3590\n",
      "Epoch 2/10\n",
      "392/392 [==============================] - 2s 6ms/step - loss: -40935.1992 - accuracy: 0.3500 - val_loss: -156386.9062 - val_accuracy: 0.3590\n",
      "Epoch 3/10\n",
      "392/392 [==============================] - 2s 5ms/step - loss: -208830.4525 - accuracy: 0.3541 - val_loss: -476786.2188 - val_accuracy: 0.3590\n",
      "Epoch 4/10\n",
      "392/392 [==============================] - 2s 5ms/step - loss: -616082.7114 - accuracy: 0.3520 - val_loss: -1227007.5000 - val_accuracy: 0.3590\n",
      "Epoch 5/10\n",
      "392/392 [==============================] - 2s 6ms/step - loss: -1340637.3804 - accuracy: 0.3555 - val_loss: -2176603.5000 - val_accuracy: 0.3590\n",
      "Epoch 6/10\n",
      "392/392 [==============================] - 3s 7ms/step - loss: -2452831.7684 - accuracy: 0.3604 - val_loss: -3723105.5000 - val_accuracy: 0.3590\n",
      "Epoch 7/10\n",
      "392/392 [==============================] - 3s 7ms/step - loss: -4043814.0515 - accuracy: 0.3558 - val_loss: -5794190.0000 - val_accuracy: 0.3590\n",
      "Epoch 8/10\n",
      "392/392 [==============================] - 2s 6ms/step - loss: -5974938.4313 - accuracy: 0.3624 - val_loss: -8229912.5000 - val_accuracy: 0.3590\n",
      "Epoch 9/10\n",
      "392/392 [==============================] - 3s 7ms/step - loss: -8545924.0903 - accuracy: 0.3542 - val_loss: -11109715.0000 - val_accuracy: 0.3590\n",
      "Epoch 10/10\n",
      "392/392 [==============================] - 3s 7ms/step - loss: -11570482.6616 - accuracy: 0.3524 - val_loss: -13560981.0000 - val_accuracy: 0.3590\n"
     ]
    },
    {
     "data": {
      "text/plain": [
       "<tensorflow.python.keras.callbacks.History at 0x150208cd0>"
      ]
     },
     "execution_count": 195,
     "metadata": {},
     "output_type": "execute_result"
    }
   ],
   "source": [
    "model.fit(x_train, y_train,validation_data = (x_val,y_val), epochs=10, batch_size=32)"
   ]
  },
  {
   "cell_type": "code",
   "execution_count": 189,
   "metadata": {},
   "outputs": [
    {
     "name": "stdout",
     "output_type": "stream",
     "text": [
      "65/65 [==============================] - 0s 2ms/step - loss: -15850377.0000 - accuracy: 0.3624\n"
     ]
    }
   ],
   "source": [
    "_, accuracy = model.evaluate(x_test, y_test)"
   ]
  },
  {
   "cell_type": "code",
   "execution_count": 190,
   "metadata": {},
   "outputs": [
    {
     "data": {
      "text/plain": [
       "0.6376323401927948"
      ]
     },
     "execution_count": 190,
     "metadata": {},
     "output_type": "execute_result"
    }
   ],
   "source": [
    "1 - accuracy"
   ]
  },
  {
   "cell_type": "code",
   "execution_count": null,
   "metadata": {},
   "outputs": [],
   "source": []
  }
 ],
 "metadata": {
  "kernelspec": {
   "display_name": "Python 3",
   "language": "python",
   "name": "python3"
  },
  "language_info": {
   "codemirror_mode": {
    "name": "ipython",
    "version": 3
   },
   "file_extension": ".py",
   "mimetype": "text/x-python",
   "name": "python",
   "nbconvert_exporter": "python",
   "pygments_lexer": "ipython3",
   "version": "3.8.3"
  }
 },
 "nbformat": 4,
 "nbformat_minor": 4
}
